{
 "cells": [
  {
   "cell_type": "code",
   "execution_count": 1,
   "id": "8c80903e-d6ad-4bce-879d-0211834e4280",
   "metadata": {},
   "outputs": [],
   "source": [
    "class BugData:\n",
    "    def __init__(\n",
    "        self,\n",
    "        bug_id,\n",
    "        bitvector,\n",
    "        bitvector_dict,\n",
    "        response,\n",
    "        available_bv,\n",
    "        full_bv,\n",
    "        full_available_bv,\n",
    "        success_count,\n",
    "        easy,\n",
    "        facts,\n",
    "    ):\n",
    "        self.bug_id = bug_id\n",
    "        self.bitvector = bitvector\n",
    "        self.bitvector_dict = bitvector_dict\n",
    "        repo = self.bug_id.split(\":\")[0]\n",
    "        self.repo = repo\n",
    "        if repo not in id_gen:\n",
    "            global counter\n",
    "            id_gen[repo] = counter\n",
    "            counter += 1\n",
    "        self.id = id_gen[repo]\n",
    "        self.available_bv = available_bv\n",
    "        self.easy = 1 if easy else 0\n",
    "        error_dict = {\n",
    "            \"TypeError\": 1,\n",
    "            \"ValueError\": 2,\n",
    "            \"AttributeError\": 3,\n",
    "            \"InvalidInput\": 4,\n",
    "        }\n",
    "        self.full_bv = full_bv\n",
    "        self.full_available_bv = full_available_bv\n",
    "        self.error_type = 0\n",
    "        self.issue_description_type = 0\n",
    "        for key in error_dict:\n",
    "            if key in bitvector_dict[\"4\"]:\n",
    "                self.error_type = error_dict[key]\n",
    "            if key in bitvector_dict[\"6\"]:\n",
    "                self.issue_description_type = error_dict[key]\n",
    "        self.response = response\n",
    "        if \"```text\" in self.bitvector_dict[\"6\"]:\n",
    "            self.has_code = 1\n",
    "        else:\n",
    "            self.has_code = 0\n",
    "        self.facts = facts\n",
    "        self.success_count = success_count\n",
    "        self.success_probability = None\n",
    "        self.token_count = 0\n",
    "        self.cyclomatic_complexity = self.compute_cyclomatic_complexity(facts[\"1.1.1\"])\n",
    "        self.prompt_length = self.compute_prompt_length()\n",
    "        self.feature_vector = self.generate_feature_vector()\n",
    "        for i, b in enumerate(self.available_bv, 1):\n",
    "            if i == 1:\n",
    "                continue\n",
    "            if int(b) == 1:\n",
    "                self.token_count += self.tokenize_and_count_nltk(self.bitvector_dict[str(i)])\n",
    "    \n",
    "    def reset_features(self):\n",
    "        self.feature_vector = self.generate_feature_vector()\n",
    "        \n",
    "    def compute_cyclomatic_complexity(self, code: str):\n",
    "        # Use radon to compute the cyclomatic complexity\n",
    "        code = textwrap.dedent(code)\n",
    "        try:\n",
    "            visitor = ComplexityVisitor.from_code(code)\n",
    "            # The total complexity is the sum of complexities of all blocks\n",
    "            total_complexity = sum(block.complexity for block in visitor.blocks)\n",
    "            return total_complexity\n",
    "        except Exception as e:\n",
    "            print(f\"Error computing cyclomatic complexity: {e}\")\n",
    "            return 0\n",
    "\n",
    "    def tokenize_and_count_nltk(self, text):\n",
    "        tokens = word_tokenize(text)\n",
    "        return len(tokens)\n",
    "\n",
    "    def compute_prompt_length(self):\n",
    "        su = 0\n",
    "        for i, b in enumerate(self.available_bv, 1):\n",
    "            if i == 1:\n",
    "                continue\n",
    "            if int(b) == 1:\n",
    "                su += len(self.bitvector_dict[str(i)])\n",
    "        return su\n",
    "\n",
    "    def generate_feature_vector(self):\n",
    "        feature = []\n",
    "        #feature = [self.bitvector[4]]\n",
    "        nv = []\n",
    "        feature.append(self.cyclomatic_complexity)\n",
    "        for b in self.available_bv:\n",
    "            nv.append(int(b))\n",
    "        #feature += nv\n",
    "        #feature += [self.token_count]\n",
    "        xxx[(self.cyclomatic_complexity, self.success)] = (\n",
    "            xxx.get((self.cyclomatic_complexity, self.success), 0) + 1\n",
    "        )\n",
    "        # feature += [int(bit) for bit in self.full_bv]\n",
    "\n",
    "        # for b1, b2 in zip(self.full_bv, self.full_available_bv):\n",
    "        #    if int(b2) == 1:\n",
    "        #        feature.append(1)Do you want to restart the kernel of Stats.ipynb? All variables will be lost.\n",
    "\n",
    "        #    else:\n",
    "        #        feature.append(0)\n",
    "        feature.append(self.id)\n",
    "        feature.append(int(self.error_type))\n",
    "        feature.append(int(self.issue_description_type))\n",
    "        return feature\n",
    "\n",
    "    @property\n",
    "    def success(self):\n",
    "        return self.success_count > 0\n"
   ]
  },
  {
   "cell_type": "code",
   "execution_count": 2,
   "id": "43af3933-72bb-4d0c-a33a-9da1ddcdf0fb",
   "metadata": {},
   "outputs": [],
   "source": [
    "def top_bitvectors(bug_data_list):\n",
    "    success_count = defaultdict(int)\n",
    "    total = defaultdict(int)\n",
    "    bug_done = set()\n",
    "    for bug_data in bug_data_list:\n",
    "        if bug_data.success:\n",
    "            success_count[bug_data.bitvector] += 1\n",
    "    for key, value in success_count.items():\n",
    "        success_count[key] = success_count[key]\n",
    "    # Sort by success count in descending order\n",
    "    sorted_bitvectors = sorted(success_count.items(), key=lambda x: x[1], reverse=True)\n",
    "    top_bitvectors_union(bug_data_list)\n",
    "    # Get top 5\n",
    "    return sorted_bitvectors[:30]\n",
    "\n",
    "\n",
    "def top_bitvectors_union(bug_data_list):\n",
    "    success_count = defaultdict(int)\n",
    "    bitvector_to_bug_ids = defaultdict(set)\n",
    "\n",
    "    for bug_data in bug_data_list:\n",
    "        if bug_data.success:\n",
    "            success_count[bug_data.bitvector] += 1\n",
    "            bitvector_to_bug_ids[bug_data.bitvector].add(bug_data.bug_id)\n",
    "\n",
    "    sorted_bitvectors = sorted(success_count.items(), key=lambda x: x[1], reverse=True)\n",
    "\n",
    "    top_5_bitvectors = sorted_bitvectors[:2]\n",
    "\n",
    "    union_of_top_bitvectors = set()\n",
    "    for bitvector, _ in top_5_bitvectors:\n",
    "        union_of_top_bitvectors.update(bitvector_to_bug_ids[bitvector])\n",
    "    print(len(union_of_top_bitvectors))\n",
    "\n",
    "\n",
    "def load_facts_in_prompt(bug_dir):\n",
    "    facts_file = os.path.join(bug_dir, \"facts-in-prompt.json\")\n",
    "    if os.path.exists(facts_file):\n",
    "        with open(facts_file, \"r\") as file:\n",
    "            return json.load(file)\n",
    "    else:\n",
    "        print(f\"facts-in-prompt.json not found in {bug_dir}.\")\n",
    "        return {}\n",
    "\n",
    "\n",
    "def load_data_from_excel(excel_path):\n",
    "    df = pd.read_excel(excel_path)\n",
    "    return df\n",
    "\n",
    "\n",
    "def create_bug_data_objects(df, facts_location):\n",
    "    all_data = []\n",
    "    for _, row in df.iterrows():\n",
    "        repo = row[\"Project\"]\n",
    "        bug_id = row[\"Bug_id\"]\n",
    "        response = row[\"Pass Test\"]\n",
    "        actual_bv = row[\"result_filename\"].split(\"_\")[0].strip()\n",
    "        exist_bv = \"\".join(\n",
    "            [str(row[i]) for i in range(2, 9)]\n",
    "        )  # Columns 3 to 9 for bitvector        # Convert 17-bit to 7-bit bitvector\n",
    "        bitvector = convert_bitvector(actual_bv)\n",
    "\n",
    "        bug_path = os.path.join(facts_location, repo, str(bug_id))\n",
    "        bitvector_dict = load_facts_in_prompt(bug_path)\n",
    "        all_data.append(\n",
    "            BugData(f\"{repo}:{bug_id}\", bitvector, bitvector_dict, response, exist_bv)\n",
    "        )\n",
    "    return all_data\n",
    "\n",
    "\n",
    "def convert_bitvector(actual_bv):\n",
    "    # Define the groupings\n",
    "    groupings = [(0, 1), (2, 4), (5, 6), (7, 10), (11, 14), (15, 16), (17, 17)]\n",
    "    new_bv = \"\"\n",
    "\n",
    "    for start, end in groupings:\n",
    "        if any(actual_bv[i] == \"1\" for i in range(start, end + 1)):\n",
    "            new_bv += \"1\"\n",
    "        else:\n",
    "            new_bv += \"0\"\n",
    "\n",
    "    return new_bv\n",
    "\n",
    "\n",
    "def calculate_success_rate(bug_data_list):\n",
    "    bit_sum_success = defaultdict(lambda: {\"success\": 0, \"total\": 0, \"lis\": set()})\n",
    "    for bug_data in bug_data_list:\n",
    "        bit_sum = sum(map(int, bug_data.bitvector))\n",
    "        bit_sum_success[bit_sum][\"total\"] += 1\n",
    "        if bug_data.success:\n",
    "            bit_sum_success[bit_sum][\"lis\"].add(bug_data.bug_id)\n",
    "            bit_sum_success[bit_sum][\"success\"] += 1\n",
    "    success_rates = {}\n",
    "    for bit_sum, counts in bit_sum_success.items():\n",
    "        success_rates[bit_sum] = (\n",
    "            counts[\"success\"] / counts[\"total\"] if counts[\"total\"] > 0 else 0\n",
    "        )\n",
    "    top_5_bit_sums = sorted(success_rates, key=success_rates.get, reverse=True)\n",
    "\n",
    "    return top_5_bit_sums\n",
    "\n",
    "\n",
    "def plot_success_rate(success_rate):\n",
    "    # Sorting the keys for a better plot\n",
    "    sorted_bit_sums = sorted(success_rate.keys())\n",
    "    success_rates = [success_rate[bit_sum] for bit_sum in sorted_bit_sums]\n",
    "\n",
    "    plt.plot(sorted_bit_sums, success_rates, marker=\"o\")\n",
    "    plt.xlabel(\"Sum of Bits\")\n",
    "    plt.ylabel(\"Success Rate\")\n",
    "    plt.title(\"Success Rate vs Sum of Bits\")\n",
    "    plt.grid(True)\n",
    "    plt.show()\n",
    "\n",
    "\n",
    "def find_bugs_without_bitvector(all_data, target_bitvector):\n",
    "    bugs_without_target = set()\n",
    "    has_set = set()\n",
    "    for bug_data in all_data:\n",
    "        if bug_data.bitvector == target_bitvector:\n",
    "            has_set.add(bug_data.bug_id)\n",
    "    for bug_data in all_data:\n",
    "        if bug_data.bug_id not in has_set:\n",
    "            bugs_without_target.add(bug_data.bug_id)\n",
    "    return bugs_without_target\n",
    "\n",
    "\n",
    "def remove_duplicates(bug_data_list):\n",
    "    unique = []\n",
    "    for item in bug_data_list:\n",
    "        if all(not item.__eq__(existing) for existing in unique):\n",
    "            unique.append(item)\n",
    "    return unique\n",
    "\n",
    "\n",
    "def calculate_optimal_success_rate(bug_data_list):\n",
    "    # Group BugData by Bug ID\n",
    "    bugs = defaultdict(list)\n",
    "    for data in bug_data_list:\n",
    "        bugs[data.bug_id].append(data)\n",
    "\n",
    "    # Count bugs with at least one successful bitvector\n",
    "    successful_bugs = 0\n",
    "    for bug_id, bug_data in bugs.items():\n",
    "        if any(data.success for data in bug_data):\n",
    "            successful_bugs += 1\n",
    "\n",
    "    # Calculate success rate\n",
    "    total_unique_bugs = len(bugs)\n",
    "    success_rate = successful_bugs / total_unique_bugs if total_unique_bugs > 0 else 0\n",
    "    return successful_bugs, total_unique_bugs\n",
    "\n",
    "\n",
    "def estimate_score_normal(model, test_data):\n",
    "    test_groups = {}\n",
    "    for bug in test_data:\n",
    "        if bug.bug_id not in test_groups:\n",
    "            test_groups[bug.bug_id] = []\n",
    "        test_groups[bug.bug_id].append(bug)\n",
    "\n",
    "    successful_selections = 0\n",
    "    optimal_success_count = 0\n",
    "\n",
    "    successful_selections = 0\n",
    "    optimal_success_count = 0\n",
    "    best_bitvectors = {}  # To store the best bitvector for each bug_id\n",
    "\n",
    "    threshold = 0  # Set a threshold for the highest probability score\n",
    "    top_k = 5  # Consider top 5 predictions\n",
    "\n",
    "    for bug_id, bugs in test_groups.items():\n",
    "        # Get probabilities for each bug\n",
    "        bug_probabilities = [\n",
    "            (bug, model.predict_proba([bug.feature_vector])[0][1]) for bug in bugs\n",
    "        ]\n",
    "\n",
    "        # Sort bugs by their probability in descending order\n",
    "        sorted_bugs = sorted(bug_probabilities, key=lambda x: x[1], reverse=True)\n",
    "        best_bug = sorted_bugs[0][0]\n",
    "\n",
    "        best_bitvectors[bug_id] = best_bug.bitvector  # Store the best bitvector\n",
    "        if best_bug.success:\n",
    "            successful_selections += 1\n",
    "\n",
    "        # Check for optimal success in the group\n",
    "        if any(bug.success for bug in bugs):\n",
    "            optimal_success_count += 1\n",
    "    # Calculate accuracy and optimal accuracy\n",
    "    accuracy = successful_selections / len(test_groups)\n",
    "    optimal_accuracy = optimal_success_count / len(test_groups)\n",
    "\n",
    "    # Print the results\n",
    "    print(\n",
    "        f\"Model Accuracy: {accuracy}, Optimal Accuracy: {optimal_accuracy}, Successful\"\n",
    "        f\" Selections: {successful_selections}, Total Groups: {len(test_groups)}\"\n",
    "    )\n",
    "\n",
    "    # Process each group in test_groups\n",
    "    bitvector_success_rates = {}\n",
    "    for bug_id, bugs in test_groups.items():\n",
    "        bv_set = set()\n",
    "        for bug in bugs:\n",
    "            bv_set.add(bug.bitvector)\n",
    "            if bug.bitvector not in bitvector_success_rates:\n",
    "                bitvector_success_rates[bug.bitvector] = {\"successes\": 0, \"total\": 0}\n",
    "\n",
    "            bitvector_success_rates[bug.bitvector][\"total\"] += 1\n",
    "            if bug.success:\n",
    "                bitvector_success_rates[bug.bitvector][\"successes\"] += 1\n",
    "\n",
    "    # Calculate success rate for each bitvector\n",
    "    for bitvector, stats in bitvector_success_rates.items():\n",
    "        success_rate = stats[\"successes\"] / stats[\"total\"]\n",
    "        bitvector_success_rates[bitvector][\"success_rate\"] = success_rate\n",
    "    print(f\"Best bitvector (1001011): {bitvector_success_rates['1001011']}\")\n",
    "    # Find the bitvectors with the highest success rates\n",
    "    highest_success_rate = max(\n",
    "        rate[\"success_rate\"] for rate in bitvector_success_rates.values()\n",
    "    )\n",
    "    best_bitvectors = [\n",
    "        (bitvector, rate)\n",
    "        for bitvector, rate in bitvector_success_rates.items()\n",
    "        if rate[\"success_rate\"] == highest_success_rate\n",
    "    ]\n",
    "\n",
    "    # Print the best bitvectors\n",
    "    print(f\"Bitvectors with the highest success rate: {best_bitvectors}\")\n",
    "\n",
    "\n",
    "def estimate_score_models(models, test_data):\n",
    "    # Group test_data by bug_id\n",
    "    test_groups = {}\n",
    "    for bug in test_data:\n",
    "        if bug.bug_id not in test_groups:\n",
    "            test_groups[bug.bug_id] = []\n",
    "        test_groups[bug.bug_id].append(bug)\n",
    "\n",
    "    successful_selections = 0\n",
    "    optimal_success_count = 0\n",
    "    best_bitvectors = {}  # To store the best bitvector for each bug_id\n",
    "\n",
    "    threshold = 0  # Set a threshold for the highest probability score\n",
    "    top_k = 5  # Consider top 5 predictions\n",
    "\n",
    "    for bug_id, bugs in test_groups.items():\n",
    "        bug_probabilities = []\n",
    "\n",
    "        for bug in bugs:\n",
    "            model_index = int(\n",
    "                bug.bitvector[1:], 2\n",
    "            )  # Determine which model to use based on bitvector\n",
    "            selected_model = models[model_index]\n",
    "            probability = selected_model.predict_proba([bug.feature_vector])[0][1]\n",
    "            bug_probabilities.append((bug, probability))\n",
    "\n",
    "        # Sort bugs by their probability in descending order\n",
    "        sorted_bugs = sorted(bug_probabilities, key=lambda x: x[1], reverse=True)\n",
    "\n",
    "        # Select best bug based on threshold and randomness\n",
    "        if sorted_bugs[0][1] >= threshold:\n",
    "            best_bug = sorted_bugs[0][0]\n",
    "        else:\n",
    "            best_bug = random.choice(sorted_bugs[:top_k])[0]\n",
    "\n",
    "        best_bitvectors[bug_id] = best_bug.bitvector  # Store the best bitvector\n",
    "        if best_bug.success:\n",
    "            successful_selections += 1\n",
    "\n",
    "        # Check for optimal success in the group\n",
    "        if any(bug.success for bug in bugs):\n",
    "            optimal_success_count += 1\n",
    "\n",
    "    # Calculate accuracy and optimal accuracy\n",
    "    accuracy = successful_selections / len(test_groups) if test_groups else 0\n",
    "    optimal_accuracy = optimal_success_count / len(test_groups) if test_groups else 0\n",
    "\n",
    "    # Print the results\n",
    "    print(\n",
    "        f\"Model Accuracy: {accuracy}, Optimal Accuracy: {optimal_accuracy}, Successful\"\n",
    "        f\" Selections: {successful_selections}, Total Groups: {len(test_groups)}\"\n",
    "    )\n",
    "    # Process each group in test_groups\n",
    "    bitvector_success_rates = {}\n",
    "    for bug_id, bugs in test_groups.items():\n",
    "        bv_set = set()\n",
    "        for bug in bugs:\n",
    "            bv_set.add(bug.bitvector)\n",
    "            if bug.bitvector not in bitvector_success_rates:\n",
    "                bitvector_success_rates[bug.bitvector] = {\"successes\": 0, \"total\": 0}\n",
    "\n",
    "            bitvector_success_rates[bug.bitvector][\"total\"] += 1\n",
    "            if bug.success:\n",
    "                bitvector_success_rates[bug.bitvector][\"successes\"] += 1\n",
    "        assert len(bv_set) == 64\n",
    "        assert len(bugs) == 64\n",
    "\n",
    "    # Calculate success rate for each bitvector\n",
    "    for bitvector, stats in bitvector_success_rates.items():\n",
    "        success_rate = stats[\"successes\"] / stats[\"total\"]\n",
    "        bitvector_success_rates[bitvector][\"success_rate\"] = success_rate\n",
    "    print(f\"Best bitvector (1001011): {bitvector_success_rates['1001011']}\")\n",
    "    # Find the bitvectors with the highest success rates\n",
    "    highest_success_rate = max(\n",
    "        rate[\"success_rate\"] for rate in bitvector_success_rates.values()\n",
    "    )\n",
    "    best_bitvectors = [\n",
    "        (bitvector, rate)\n",
    "        for bitvector, rate in bitvector_success_rates.items()\n",
    "        if rate[\"success_rate\"] == highest_success_rate\n",
    "    ]\n",
    "\n",
    "    # Print the best bitvectors\n",
    "    print(f\"Bitvectors with the highest success rate: {best_bitvectors}\")\n",
    "\n",
    "\n",
    "def train_and_test_normal(all_data, include_list, model):\n",
    "    include_set = set(include_list)\n",
    "    # Create a unique set of bug IDs not in the include_list\n",
    "    unique_bug_ids = set(\n",
    "        bug.bug_id for bug in all_data if bug.bug_id not in include_set\n",
    "    )\n",
    "    include_set = set([bug.bug_id for bug in all_data if bug.bug_id in include_set])\n",
    "    # Calculate the required size of the training set for a 50/50 split\n",
    "    total_unique_ids = len(unique_bug_ids) + len(include_set)\n",
    "    required_train_size = total_unique_ids // 2\n",
    "\n",
    "    additional_ids_needed = required_train_size - len(include_set)\n",
    "\n",
    "    # Split the remaining IDs to fill up the training set\n",
    "    additional_train_ids, test_ids = train_test_split(\n",
    "        sorted(list(unique_bug_ids)), train_size=additional_ids_needed, random_state=42\n",
    "    )\n",
    "    train_ids = set(list(include_set) + additional_train_ids)\n",
    "    # Prepare the data splits\n",
    "    train_data = [bug for bug in all_data if bug.bug_id in train_ids]\n",
    "    test_data = [bug for bug in all_data if bug.bug_id in test_ids]\n",
    "    # Assuming train_data is your original training dataset\n",
    "    X_train = [bug.feature_vector for bug in train_data]\n",
    "    y_train = [bug.success for bug in train_data]\n",
    "\n",
    "    X_test = [bug.feature_vector for bug in test_data]\n",
    "    y_test = [bug.success for bug in test_data]\n",
    "\n",
    "    # Parameter tuning using GridSearchCV\n",
    "    param_grid_rf = {\n",
    "        \"n_estimators\": [100, 200, 300],  # Increased the upper limit for more averaging\n",
    "        \"max_depth\": [5, 10, 15],  # Removed the deepest trees to prevent overfitting\n",
    "        #\"min_samples_split\": [2, 5, 10],  # Uncommented to control the minimum size of a split\n",
    "        #\"min_samples_leaf\": [1, 2, 4],  # Uncommented to control the minimum size of a leaf\n",
    "        \"max_features\": [\"sqrt\", \"log2\", None],  # Added 'None' for using all features\n",
    "        \"bootstrap\": [True],  # True is generally better for Random Forest to ensure diversity\n",
    "        \"criterion\": [\"gini\", \"entropy\"],  # Both criteria are useful\n",
    "        #\"max_leaf_nodes\": [None, 10, 20, 30],  # Added to limit the number of leaf nodes\n",
    "        \"oob_score\": [True, False]  # Out-of-bag samples to estimate generalization accuracy\n",
    "    }\n",
    "    # Parameter grid for XGBoost\n",
    "    param_grid_xgb = {\n",
    "        \"n_estimators\": [50, 100, 200],\n",
    "        \"max_depth\": [5, 10, 15, 20],\n",
    "        \"learning_rate\": [0.01, 0.1, 0.2],\n",
    "        \"subsample\": [0.5, 0.7, 1],\n",
    "        \"colsample_bytree\": [0.5, 0.7, 1],\n",
    "    }\n",
    "    if model == \"rf\":\n",
    "        model = RandomForestClassifier(random_state=42, class_weight=\"balanced\")\n",
    "        grid_search = GridSearchCV(model, param_grid_rf, cv=5, verbose=3, n_jobs=-1)\n",
    "        grid_search.fit(X_train, y_train)\n",
    "    elif model == \"xgb\":\n",
    "        model_xgb = XGBClassifier(\n",
    "            random_state=42, use_label_encoder=False, eval_metric=\"logloss\"\n",
    "        )\n",
    "        grid_search = GridSearchCV(\n",
    "            model_xgb, param_grid_xgb, cv=5, verbose=3, n_jobs=-1\n",
    "        )\n",
    "        grid_search.fit(X_train, y_train)\n",
    "\n",
    "    # Use the best estimator to train the model\n",
    "    best_model = grid_search.best_estimator_\n",
    "\n",
    "    # Assuming 'model' is your trained RandomForestClassifier or RandomForestRegressor instance\n",
    "    importances = best_model.feature_importances_\n",
    "\n",
    "    # To make it easier to interpret, you can sort the features by importance\n",
    "    indices = np.argsort(importances)[::-1]\n",
    "\n",
    "    # Print the feature rankings\n",
    "    print(\"Feature ranking:\")\n",
    "\n",
    "    for f in range(len(X_train[0])):  # Assuming X_train is your training feature set\n",
    "        print(f\"{f + 1}. feature {indices[f]} ({importances[indices[f]]})\")\n",
    "\n",
    "    estimate_score_normal(best_model, test_data)\n",
    "    estimate_score_normal(best_model, train_data)\n",
    "    estimate_score_normal(best_model, test_data + train_data)\n",
    "\n",
    "\n",
    "def create_bug_data_objects_395(facts_location, easy=False):\n",
    "    bug_data_objects = []\n",
    "\n",
    "    # Iterate over repositories in the facts_location\n",
    "    for repo in os.listdir(facts_location):\n",
    "        repo_path = os.path.join(facts_location, repo)\n",
    "\n",
    "        # Check if it's a directory\n",
    "        if os.path.isdir(repo_path):\n",
    "            # Iterate over bug_id directories in the repo\n",
    "            for bug_id in os.listdir(repo_path):\n",
    "                bug_id_path = os.path.join(repo_path, bug_id)\n",
    "\n",
    "                # Read facts-in-prompt.json for bitvector_dict\n",
    "                with open(\n",
    "                    os.path.join(bug_id_path, \"facts-in-prompt.json\"), \"r\"\n",
    "                ) as file:\n",
    "                    bitvector_dict = json.load(file)\n",
    "\n",
    "                # Iterate over files to find <bitvector>_result_1.json\n",
    "                for filename in os.listdir(bug_id_path):\n",
    "                    if filename.endswith(\"_result_1.json\"):\n",
    "                        # Extract bitvector from the filename\n",
    "                        bitvector = filename.split(\"_\")[0]\n",
    "\n",
    "                        # Read the response from the result file\n",
    "                        with open(\n",
    "                            os.path.join(bug_id_path, filename), \"r\"\n",
    "                        ) as result_file:\n",
    "                            result_data = json.load(result_file)\n",
    "                            response = result_data[\n",
    "                                f\"{repo}:{bug_id}\"\n",
    "                            ]  # Replace with actual key\n",
    "                        with open(\n",
    "                            os.path.join(\n",
    "                                bug_id_path, filename.split(\"_\")[0] + \"_response_1.json\"\n",
    "                            )\n",
    "                        ) as f:\n",
    "                            response_data = json.load(f)\n",
    "                            bitvector = convert_dict_to_bitvec(\n",
    "                                response_data[repo][0][\"strata\"]\n",
    "                            )\n",
    "                            available_bv = convert_dict_to_bitvec(\n",
    "                                response_data[repo][0][\"available_strata\"]\n",
    "                            )\n",
    "                            full_bv = convert_dict_to_bitvec(\n",
    "                                response_data[repo][0][\"bitvector\"]\n",
    "                            )\n",
    "                            full_available_bv = convert_dict_to_bitvec(\n",
    "                                response_data[repo][0][\"available_bitvector\"]\n",
    "                            )\n",
    "                        r_2 = os.path.join(\n",
    "                            bug_id_path, filename.split(\"_\")[0] + \"_result_2.json\"\n",
    "                        )\n",
    "                        r_3 = os.path.join(\n",
    "                            bug_id_path, filename.split(\"_\")[0] + \"_result_3.json\"\n",
    "                        )\n",
    "                        x = 1\n",
    "                        if os.path.exists(r_2):\n",
    "                            x += 1\n",
    "                            with open(r_2, \"r\") as result_file:\n",
    "                                result_data = json.load(result_file)\n",
    "                                response_2 = result_data[\n",
    "                                    f\"{repo}:{bug_id}\"\n",
    "                                ]  # Replace with actual key\n",
    "                        if os.path.exists(r_3):\n",
    "                            x += 1\n",
    "                            with open(r_3, \"r\") as result_file:\n",
    "                                result_data = json.load(result_file)\n",
    "                                response_3 = result_data[\n",
    "                                    f\"{repo}:{bug_id}\"\n",
    "                                ]  # Replace with actual key\n",
    "                        success = 0\n",
    "                        if response == 0:\n",
    "                            success += 1\n",
    "                        if response_2 == 0:\n",
    "                            success += 1\n",
    "                        if response_3 == 0:\n",
    "                            success += 1\n",
    "                        response = response * response_2 * response_3\n",
    "                        facts_file = os.path.join(bug_id_path, \"facts.json\")\n",
    "                        with open(facts_file) as f:\n",
    "                            facts = json.load(f)\n",
    "\n",
    "                        # Create a BugData object\n",
    "                        bug_data = BugData(\n",
    "                            f\"{repo.lower()}:{bug_id}\",\n",
    "                            bitvector,\n",
    "                            bitvector_dict,\n",
    "                            response,\n",
    "                            available_bv,\n",
    "                            full_bv,\n",
    "                            full_available_bv,\n",
    "                            success,\n",
    "                            easy,\n",
    "                            facts,\n",
    "                        )\n",
    "                        bug_data_objects.append(bug_data)\n",
    "\n",
    "    return bug_data_objects\n",
    "\n",
    "\n",
    "def convert_dict_to_bitvec(bitvec_dict):\n",
    "    # Convert a dictionary to a bitvector string\n",
    "    # Adjust this function based on how you want to represent the bitvector\n",
    "    return \"\".join(str(bitvec_dict[key]) for key in sorted(bitvec_dict.keys()))\n",
    "\n",
    "\n",
    "def analyze_bug_data(bug_data_list):\n",
    "    # Initialize variables for analysis\n",
    "    success_count = 0\n",
    "    feature_sums = None\n",
    "    feature_counts = defaultdict(int)\n",
    "\n",
    "    # Iterate through each BugData instance\n",
    "    for bug_data in bug_data_list:\n",
    "        # Count successes\n",
    "        if bug_data.success:\n",
    "            success_count += 1\n",
    "        numeric_feature_vector = [float(feature) for feature in bug_data.feature_vector]\n",
    "        # Aggregate feature information\n",
    "        if feature_sums is None:\n",
    "            feature_sums = np.array(numeric_feature_vector)\n",
    "        else:\n",
    "            feature_sums += numeric_feature_vector\n",
    "\n",
    "        for feature in numeric_feature_vector:\n",
    "            feature_counts[feature] += 1\n",
    "\n",
    "    # Calculate success rate\n",
    "    total_count = len(bug_data_list)\n",
    "    success_rate = success_count / total_count\n",
    "\n",
    "    # Calculate average values for each feature\n",
    "    avg_features = feature_sums / total_count\n",
    "\n",
    "    # Sort features by occurrence\n",
    "    sorted_features = sorted(feature_counts.items(), key=lambda x: x[1], reverse=True)\n",
    "\n",
    "    return {\n",
    "        \"success_rate\": success_rate,\n",
    "        \"average_feature_values\": avg_features,\n",
    "        \"most_common_feature\": sorted_features[0],\n",
    "        \"least_common_feature\": sorted_features[-1],\n",
    "    }\n",
    "\n",
    "\n",
    "def calculate_statistics(frequency_dict):\n",
    "    success_counts = []\n",
    "    failure_counts = []\n",
    "\n",
    "    for (sum_val, success), count in frequency_dict.items():\n",
    "        if success == 1:\n",
    "            success_counts.extend([sum_val] * count)\n",
    "        elif success == 0:\n",
    "            failure_counts.extend([sum_val] * count)\n",
    "\n",
    "    # Calculate statistics for success\n",
    "    success_mean = np.mean(success_counts) if success_counts else 0\n",
    "    success_median = np.median(success_counts) if success_counts else 0\n",
    "    success_variance = np.var(success_counts) if success_counts else 0\n",
    "\n",
    "    # Calculate statistics for failure\n",
    "    failure_mean = np.mean(failure_counts) if failure_counts else 0\n",
    "    failure_median = np.median(failure_counts) if failure_counts else 0\n",
    "    failure_variance = np.var(failure_counts) if failure_counts else 0\n",
    "\n",
    "    return {\n",
    "        \"success\": {\n",
    "            \"mean\": success_mean,\n",
    "            \"median\": success_median,\n",
    "            \"variance\": success_variance,\n",
    "        },\n",
    "        \"failure\": {\n",
    "            \"mean\": failure_mean,\n",
    "            \"median\": failure_median,\n",
    "            \"variance\": failure_variance,\n",
    "        },\n",
    "    }\n",
    "\n",
    "\n",
    "def compute_and_plot_success_rate(bug_data_list):\n",
    "    # Dictionary to store success count and total count per partition\n",
    "    partition_data = {}\n",
    "\n",
    "    for bug_data in bug_data_list:\n",
    "        # Determine the partition for this bug_data\n",
    "        if bug_data.prompt_length > 40000:\n",
    "            partition = \"40000+\"\n",
    "        else:\n",
    "            partition = (bug_data.prompt_length // 1000) * 1000\n",
    "\n",
    "        # Initialize partition data if not already present\n",
    "        if partition not in partition_data:\n",
    "            partition_data[partition] = {\"success_count\": 0, \"total_count\": 0}\n",
    "\n",
    "        # Update success count and total count\n",
    "        partition_data[partition][\"success_count\"] += bug_data.success\n",
    "        partition_data[partition][\"total_count\"] += 1\n",
    "    # Calculate average success rate per partition\n",
    "    average_success_rate = {\n",
    "        partition: data[\"success_count\"] / data[\"total_count\"]\n",
    "        for partition, data in partition_data.items()\n",
    "    }\n",
    "    print(\n",
    "        partition_data[20000],\n",
    "        partition_data[21000],\n",
    "        partition_data[22000],\n",
    "        partition_data[23000],\n",
    "    )\n",
    "    # Prepare data for plotting\n",
    "    # Sort partitions with a custom key: integers as-is, '10000+' as a large number\n",
    "    partitions = sorted(\n",
    "        average_success_rate.keys(), key=lambda x: x if isinstance(x, int) else 10001\n",
    "    )\n",
    "    success_rates = [average_success_rate[partition] for partition in partitions]\n",
    "\n",
    "    # Plotting\n",
    "    plt.figure(figsize=(10, 6))\n",
    "    plt.bar(range(len(partitions)), success_rates, align=\"center\")\n",
    "    plt.xlabel(\"Prompt Length Partition\")\n",
    "    plt.ylabel(\"Average Success Rate\")\n",
    "    plt.title(\"Average Success Rate per Prompt Length Partition\")\n",
    "    # Label only every nth partition to avoid clutter\n",
    "    n = 5  # Adjust n as needed for readability\n",
    "    x_ticks_labels = [f\"{p}\" if isinstance(p, int) else p for p in partitions]\n",
    "    x_ticks_positions = range(len(partitions))\n",
    "    plt.xticks(\n",
    "        x_ticks_positions[::n], x_ticks_labels[::n]\n",
    "    )  # Adjust tick labels for readability\n",
    "\n",
    "    plt.show()\n",
    "\n"
   ]
  },
  {
   "cell_type": "code",
   "execution_count": 3,
   "id": "74c4724c-d930-4bc0-8276-ee20818f0ec5",
   "metadata": {},
   "outputs": [],
   "source": [
    "def top_bitvectors(bug_data_list):\n",
    "    success_count = defaultdict(int)\n",
    "    total = defaultdict(int)\n",
    "    bug_done = set()\n",
    "    for bug_data in bug_data_list:\n",
    "        if bug_data.success:\n",
    "            success_count[bug_data.bitvector] += 1\n",
    "    for key, value in success_count.items():\n",
    "        success_count[key] = success_count[key]\n",
    "    # Sort by success count in descending order\n",
    "    sorted_bitvectors = sorted(success_count.items(), key=lambda x: x[1], reverse=True)\n",
    "    top_bitvectors_union(bug_data_list)\n",
    "    # Get top 5\n",
    "    return sorted_bitvectors[:30]\n",
    "\n",
    "\n",
    "def top_bitvectors_union(bug_data_list):\n",
    "    success_count = defaultdict(int)\n",
    "    bitvector_to_bug_ids = defaultdict(set)\n",
    "\n",
    "    for bug_data in bug_data_list:\n",
    "        if bug_data.success:\n",
    "            success_count[bug_data.bitvector] += 1\n",
    "            bitvector_to_bug_ids[bug_data.bitvector].add(bug_data.bug_id)\n",
    "\n",
    "    sorted_bitvectors = sorted(success_count.items(), key=lambda x: x[1], reverse=True)\n",
    "\n",
    "    top_5_bitvectors = sorted_bitvectors[:2]\n",
    "\n",
    "    union_of_top_bitvectors = set()\n",
    "    for bitvector, _ in top_5_bitvectors:\n",
    "        union_of_top_bitvectors.update(bitvector_to_bug_ids[bitvector])\n",
    "    print(len(union_of_top_bitvectors))\n",
    "\n",
    "\n",
    "def load_facts_in_prompt(bug_dir):\n",
    "    facts_file = os.path.join(bug_dir, \"facts-in-prompt.json\")\n",
    "    if os.path.exists(facts_file):\n",
    "        with open(facts_file, \"r\") as file:\n",
    "            return json.load(file)\n",
    "    else:\n",
    "        print(f\"facts-in-prompt.json not found in {bug_dir}.\")\n",
    "        return {}\n",
    "\n",
    "\n",
    "def load_data_from_excel(excel_path):\n",
    "    df = pd.read_excel(excel_path)\n",
    "    return df\n",
    "\n",
    "\n",
    "def create_bug_data_objects(df, facts_location):\n",
    "    all_data = []\n",
    "    for _, row in df.iterrows():\n",
    "        repo = row[\"Project\"]\n",
    "        bug_id = row[\"Bug_id\"]\n",
    "        response = row[\"Pass Test\"]\n",
    "        actual_bv = row[\"result_filename\"].split(\"_\")[0].strip()\n",
    "        exist_bv = \"\".join(\n",
    "            [str(row[i]) for i in range(2, 9)]\n",
    "        )  # Columns 3 to 9 for bitvector        # Convert 17-bit to 7-bit bitvector\n",
    "        bitvector = convert_bitvector(actual_bv)\n",
    "\n",
    "        bug_path = os.path.join(facts_location, repo, str(bug_id))\n",
    "        bitvector_dict = load_facts_in_prompt(bug_path)\n",
    "        all_data.append(\n",
    "            BugData(f\"{repo}:{bug_id}\", bitvector, bitvector_dict, response, exist_bv)\n",
    "        )\n",
    "    return all_data\n",
    "\n",
    "\n",
    "def convert_bitvector(actual_bv):\n",
    "    # Define the groupings\n",
    "    groupings = [(0, 1), (2, 4), (5, 6), (7, 10), (11, 14), (15, 16), (17, 17)]\n",
    "    new_bv = \"\"\n",
    "\n",
    "    for start, end in groupings:\n",
    "        if any(actual_bv[i] == \"1\" for i in range(start, end + 1)):\n",
    "            new_bv += \"1\"\n",
    "        else:\n",
    "            new_bv += \"0\"\n",
    "\n",
    "    return new_bv\n",
    "\n",
    "\n",
    "def calculate_success_rate(bug_data_list):\n",
    "    bit_sum_success = defaultdict(lambda: {\"success\": 0, \"total\": 0, \"lis\": set()})\n",
    "    for bug_data in bug_data_list:\n",
    "        bit_sum = sum(map(int, bug_data.bitvector))\n",
    "        bit_sum_success[bit_sum][\"total\"] += 1\n",
    "        if bug_data.success:\n",
    "            bit_sum_success[bit_sum][\"lis\"].add(bug_data.bug_id)\n",
    "            bit_sum_success[bit_sum][\"success\"] += 1\n",
    "    success_rates = {}\n",
    "    for bit_sum, counts in bit_sum_success.items():\n",
    "        success_rates[bit_sum] = (\n",
    "            counts[\"success\"] / counts[\"total\"] if counts[\"total\"] > 0 else 0\n",
    "        )\n",
    "    top_5_bit_sums = sorted(success_rates, key=success_rates.get, reverse=True)\n",
    "\n",
    "    return top_5_bit_sums\n",
    "\n",
    "\n",
    "def plot_success_rate(success_rate):\n",
    "    # Sorting the keys for a better plot\n",
    "    sorted_bit_sums = sorted(success_rate.keys())\n",
    "    success_rates = [success_rate[bit_sum] for bit_sum in sorted_bit_sums]\n",
    "\n",
    "    plt.plot(sorted_bit_sums, success_rates, marker=\"o\")\n",
    "    plt.xlabel(\"Sum of Bits\")\n",
    "    plt.ylabel(\"Success Rate\")\n",
    "    plt.title(\"Success Rate vs Sum of Bits\")\n",
    "    plt.grid(True)\n",
    "    plt.show()\n",
    "\n",
    "\n",
    "def find_bugs_without_bitvector(all_data, target_bitvector):\n",
    "    bugs_without_target = set()\n",
    "    has_set = set()\n",
    "    for bug_data in all_data:\n",
    "        if bug_data.bitvector == target_bitvector:\n",
    "            has_set.add(bug_data.bug_id)\n",
    "    for bug_data in all_data:\n",
    "        if bug_data.bug_id not in has_set:\n",
    "            bugs_without_target.add(bug_data.bug_id)\n",
    "    return bugs_without_target\n",
    "\n",
    "\n",
    "def remove_duplicates(bug_data_list):\n",
    "    unique = []\n",
    "    for item in bug_data_list:\n",
    "        if all(not item.__eq__(existing) for existing in unique):\n",
    "            unique.append(item)\n",
    "    return unique\n",
    "\n",
    "\n",
    "def calculate_optimal_success_rate(bug_data_list):\n",
    "    # Group BugData by Bug ID\n",
    "    bugs = defaultdict(list)\n",
    "    for data in bug_data_list:\n",
    "        bugs[data.bug_id].append(data)\n",
    "\n",
    "    # Count bugs with at least one successful bitvector\n",
    "    successful_bugs = 0\n",
    "    for bug_id, bug_data in bugs.items():\n",
    "        if any(data.success for data in bug_data):\n",
    "            successful_bugs += 1\n",
    "\n",
    "    # Calculate success rate\n",
    "    total_unique_bugs = len(bugs)\n",
    "    success_rate = successful_bugs / total_unique_bugs if total_unique_bugs > 0 else 0\n",
    "    return successful_bugs, total_unique_bugs\n",
    "\n",
    "\n",
    "def estimate_score_normal(model, test_data):\n",
    "    test_groups = {}\n",
    "    for bug in test_data:\n",
    "        if bug.bug_id not in test_groups:\n",
    "            test_groups[bug.bug_id] = []\n",
    "        test_groups[bug.bug_id].append(bug)\n",
    "\n",
    "    successful_selections = 0\n",
    "    optimal_success_count = 0\n",
    "\n",
    "    successful_selections = 0\n",
    "    optimal_success_count = 0\n",
    "    best_bitvectors = {}  # To store the best bitvector for each bug_id\n",
    "\n",
    "    threshold = 0  # Set a threshold for the highest probability score\n",
    "    top_k = 5  # Consider top 5 predictions\n",
    "\n",
    "    for bug_id, bugs in test_groups.items():\n",
    "        # Get probabilities for each bug\n",
    "        bug_probabilities = [\n",
    "            (bug, model.predict_proba([bug.feature_vector])[0][1]) for bug in bugs\n",
    "        ]\n",
    "\n",
    "        # Sort bugs by their probability in descending order\n",
    "        sorted_bugs = sorted(bug_probabilities, key=lambda x: x[1], reverse=True)\n",
    "        best_bug = sorted_bugs[0][0]\n",
    "\n",
    "        best_bitvectors[bug_id] = best_bug.bitvector  # Store the best bitvector\n",
    "        if best_bug.success:\n",
    "            successful_selections += 1\n",
    "\n",
    "        # Check for optimal success in the group\n",
    "        if any(bug.success for bug in bugs):\n",
    "            optimal_success_count += 1\n",
    "    # Calculate accuracy and optimal accuracy\n",
    "    accuracy = successful_selections / len(test_groups)\n",
    "    optimal_accuracy = optimal_success_count / len(test_groups)\n",
    "\n",
    "    # Print the results\n",
    "    print(\n",
    "        f\"Model Accuracy: {accuracy}, Optimal Accuracy: {optimal_accuracy}, Successful\"\n",
    "        f\" Selections: {successful_selections}, Total Groups: {len(test_groups)}\"\n",
    "    )\n",
    "\n",
    "    # Process each group in test_groups\n",
    "    bitvector_success_rates = {}\n",
    "    for bug_id, bugs in test_groups.items():\n",
    "        bv_set = set()\n",
    "        for bug in bugs:\n",
    "            bv_set.add(bug.bitvector)\n",
    "            if bug.bitvector not in bitvector_success_rates:\n",
    "                bitvector_success_rates[bug.bitvector] = {\"successes\": 0, \"total\": 0}\n",
    "\n",
    "            bitvector_success_rates[bug.bitvector][\"total\"] += 1\n",
    "            if bug.success:\n",
    "                bitvector_success_rates[bug.bitvector][\"successes\"] += 1\n",
    "\n",
    "    # Calculate success rate for each bitvector\n",
    "    for bitvector, stats in bitvector_success_rates.items():\n",
    "        success_rate = stats[\"successes\"] / stats[\"total\"]\n",
    "        bitvector_success_rates[bitvector][\"success_rate\"] = success_rate\n",
    "    print(f\"Best bitvector (1001011): {bitvector_success_rates['1001011']}\")\n",
    "    # Find the bitvectors with the highest success rates\n",
    "    highest_success_rate = max(\n",
    "        rate[\"success_rate\"] for rate in bitvector_success_rates.values()\n",
    "    )\n",
    "    best_bitvectors = [\n",
    "        (bitvector, rate)\n",
    "        for bitvector, rate in bitvector_success_rates.items()\n",
    "        if rate[\"success_rate\"] == highest_success_rate\n",
    "    ]\n",
    "\n",
    "    # Print the best bitvectors\n",
    "    print(f\"Bitvectors with the highest success rate: {best_bitvectors}\")\n",
    "\n",
    "\n",
    "def estimate_score_models(models, test_data):\n",
    "    # Group test_data by bug_id\n",
    "    test_groups = {}\n",
    "    for bug in test_data:\n",
    "        if bug.bug_id not in test_groups:\n",
    "            test_groups[bug.bug_id] = []\n",
    "        test_groups[bug.bug_id].append(bug)\n",
    "\n",
    "    successful_selections = 0\n",
    "    optimal_success_count = 0\n",
    "    best_bitvectors = {}  # To store the best bitvector for each bug_id\n",
    "\n",
    "    threshold = 0  # Set a threshold for the highest probability score\n",
    "    top_k = 5  # Consider top 5 predictions\n",
    "\n",
    "    for bug_id, bugs in test_groups.items():\n",
    "        bug_probabilities = []\n",
    "\n",
    "        for bug in bugs:\n",
    "            model_index = int(\n",
    "                bug.bitvector[1:], 2\n",
    "            )  # Determine which model to use based on bitvector\n",
    "            selected_model = models[model_index]\n",
    "            probability = selected_model.predict_proba([bug.feature_vector])[0][1]\n",
    "            bug_probabilities.append((bug, probability))\n",
    "\n",
    "        # Sort bugs by their probability in descending order\n",
    "        sorted_bugs = sorted(bug_probabilities, key=lambda x: x[1], reverse=True)\n",
    "\n",
    "        # Select best bug based on threshold and randomness\n",
    "        if sorted_bugs[0][1] >= threshold:\n",
    "            best_bug = sorted_bugs[0][0]\n",
    "        else:\n",
    "            best_bug = random.choice(sorted_bugs[:top_k])[0]\n",
    "\n",
    "        best_bitvectors[bug_id] = best_bug.bitvector  # Store the best bitvector\n",
    "        if best_bug.success:\n",
    "            successful_selections += 1\n",
    "\n",
    "        # Check for optimal success in the group\n",
    "        if any(bug.success for bug in bugs):\n",
    "            optimal_success_count += 1\n",
    "\n",
    "    # Calculate accuracy and optimal accuracy\n",
    "    accuracy = successful_selections / len(test_groups) if test_groups else 0\n",
    "    optimal_accuracy = optimal_success_count / len(test_groups) if test_groups else 0\n",
    "\n",
    "    # Print the results\n",
    "    print(\n",
    "        f\"Model Accuracy: {accuracy}, Optimal Accuracy: {optimal_accuracy}, Successful\"\n",
    "        f\" Selections: {successful_selections}, Total Groups: {len(test_groups)}\"\n",
    "    )\n",
    "    # Process each group in test_groups\n",
    "    bitvector_success_rates = {}\n",
    "    for bug_id, bugs in test_groups.items():\n",
    "        bv_set = set()\n",
    "        for bug in bugs:\n",
    "            bv_set.add(bug.bitvector)\n",
    "            if bug.bitvector not in bitvector_success_rates:\n",
    "                bitvector_success_rates[bug.bitvector] = {\"successes\": 0, \"total\": 0}\n",
    "\n",
    "            bitvector_success_rates[bug.bitvector][\"total\"] += 1\n",
    "            if bug.success:\n",
    "                bitvector_success_rates[bug.bitvector][\"successes\"] += 1\n",
    "        assert len(bv_set) == 64\n",
    "        assert len(bugs) == 64\n",
    "\n",
    "    # Calculate success rate for each bitvector\n",
    "    for bitvector, stats in bitvector_success_rates.items():\n",
    "        success_rate = stats[\"successes\"] / stats[\"total\"]\n",
    "        bitvector_success_rates[bitvector][\"success_rate\"] = success_rate\n",
    "    print(f\"Best bitvector (1001011): {bitvector_success_rates['1001011']}\")\n",
    "    # Find the bitvectors with the highest success rates\n",
    "    highest_success_rate = max(\n",
    "        rate[\"success_rate\"] for rate in bitvector_success_rates.values()\n",
    "    )\n",
    "    best_bitvectors = [\n",
    "        (bitvector, rate)\n",
    "        for bitvector, rate in bitvector_success_rates.items()\n",
    "        if rate[\"success_rate\"] == highest_success_rate\n",
    "    ]\n",
    "\n",
    "    # Print the best bitvectors\n",
    "    print(f\"Bitvectors with the highest success rate: {best_bitvectors}\")\n",
    "\n",
    "\n",
    "def train_and_test_normal(all_data, include_list, model):\n",
    "    include_set = set(include_list)\n",
    "    # Create a unique set of bug IDs not in the include_list\n",
    "    unique_bug_ids = set(\n",
    "        bug.bug_id for bug in all_data if bug.bug_id not in include_set\n",
    "    )\n",
    "    include_set = set([bug.bug_id for bug in all_data if bug.bug_id in include_set])\n",
    "    # Calculate the required size of the training set for a 50/50 split\n",
    "    total_unique_ids = len(unique_bug_ids) + len(include_set)\n",
    "    required_train_size = total_unique_ids // 2\n",
    "\n",
    "    additional_ids_needed = required_train_size - len(include_set)\n",
    "\n",
    "    # Split the remaining IDs to fill up the training set\n",
    "    additional_train_ids, test_ids = train_test_split(\n",
    "        sorted(list(unique_bug_ids)), train_size=additional_ids_needed, random_state=42\n",
    "    )\n",
    "    train_ids = set(list(include_set) + additional_train_ids)\n",
    "    # Prepare the data splits\n",
    "    train_data = [bug for bug in all_data if bug.bug_id in train_ids]\n",
    "    test_data = [bug for bug in all_data if bug.bug_id in test_ids]\n",
    "    # Assuming train_data is your original training dataset\n",
    "    X_train = [bug.feature_vector for bug in train_data]\n",
    "    y_train = [bug.success for bug in train_data]\n",
    "\n",
    "    X_test = [bug.feature_vector for bug in test_data]\n",
    "    y_test = [bug.success for bug in test_data]\n",
    "\n",
    "    # Parameter tuning using GridSearchCV\n",
    "    param_grid_rf = {\n",
    "        \"n_estimators\": [100, 200, 300],  # Increased the upper limit for more averaging\n",
    "        \"max_depth\": [5, 10, 15],  # Removed the deepest trees to prevent overfitting\n",
    "        #\"min_samples_split\": [2, 5, 10],  # Uncommented to control the minimum size of a split\n",
    "        #\"min_samples_leaf\": [1, 2, 4],  # Uncommented to control the minimum size of a leaf\n",
    "        \"max_features\": [\"sqrt\", \"log2\", None],  # Added 'None' for using all features\n",
    "        \"bootstrap\": [True],  # True is generally better for Random Forest to ensure diversity\n",
    "        \"criterion\": [\"gini\", \"entropy\"],  # Both criteria are useful\n",
    "        #\"max_leaf_nodes\": [None, 10, 20, 30],  # Added to limit the number of leaf nodes\n",
    "        \"oob_score\": [True, False]  # Out-of-bag samples to estimate generalization accuracy\n",
    "    }\n",
    "    # Parameter grid for XGBoost\n",
    "    param_grid_xgb = {\n",
    "        \"n_estimators\": [50, 100, 200],\n",
    "        \"max_depth\": [5, 10, 15, 20],\n",
    "        \"learning_rate\": [0.01, 0.1, 0.2],\n",
    "        \"subsample\": [0.5, 0.7, 1],\n",
    "        \"colsample_bytree\": [0.5, 0.7, 1],\n",
    "    }\n",
    "    if model == \"rf\":\n",
    "        model = RandomForestClassifier(random_state=42)\n",
    "        grid_search = GridSearchCV(model, param_grid_rf, cv=5, verbose=3, n_jobs=-1)\n",
    "        grid_search.fit(X_train, y_train)\n",
    "    elif model == \"xgb\":\n",
    "        model_xgb = XGBClassifier(\n",
    "            random_state=42, use_label_encoder=False, eval_metric=\"logloss\"\n",
    "        )\n",
    "        grid_search = GridSearchCV(\n",
    "            model_xgb, param_grid_xgb, cv=5, verbose=3, n_jobs=-1\n",
    "        )\n",
    "        grid_search.fit(X_train, y_train)\n",
    "\n",
    "    # Use the best estimator to train the model\n",
    "    best_model = grid_search.best_estimator_\n",
    "\n",
    "    # Assuming 'model' is your trained RandomForestClassifier or RandomForestRegressor instance\n",
    "    importances = best_model.feature_importances_\n",
    "\n",
    "    # To make it easier to interpret, you can sort the features by importance\n",
    "    indices = np.argsort(importances)[::-1]\n",
    "\n",
    "    # Print the feature rankings\n",
    "    print(\"Feature ranking:\")\n",
    "\n",
    "    for f in range(len(X_train[0])):  # Assuming X_train is your training feature set\n",
    "        print(f\"{f + 1}. feature {indices[f]} ({importances[indices[f]]})\")\n",
    "\n",
    "    estimate_score_normal(best_model, test_data)\n",
    "    estimate_score_normal(best_model, train_data)\n",
    "    estimate_score_normal(best_model, test_data + train_data)\n",
    "\n",
    "\n",
    "def create_bug_data_objects_395(facts_location, easy=False):\n",
    "    bug_data_objects = []\n",
    "\n",
    "    # Iterate over repositories in the facts_location\n",
    "    for repo in os.listdir(facts_location):\n",
    "        repo_path = os.path.join(facts_location, repo)\n",
    "\n",
    "        # Check if it's a directory\n",
    "        if os.path.isdir(repo_path):\n",
    "            # Iterate over bug_id directories in the repo\n",
    "            for bug_id in os.listdir(repo_path):\n",
    "                bug_id_path = os.path.join(repo_path, bug_id)\n",
    "\n",
    "                # Read facts-in-prompt.json for bitvector_dict\n",
    "                with open(\n",
    "                    os.path.join(bug_id_path, \"facts-in-prompt.json\"), \"r\"\n",
    "                ) as file:\n",
    "                    bitvector_dict = json.load(file)\n",
    "\n",
    "                # Iterate over files to find <bitvector>_result_1.json\n",
    "                for filename in os.listdir(bug_id_path):\n",
    "                    if filename.endswith(\"_result_1.json\"):\n",
    "                        # Extract bitvector from the filename\n",
    "                        bitvector = filename.split(\"_\")[0]\n",
    "\n",
    "                        # Read the response from the result file\n",
    "                        with open(\n",
    "                            os.path.join(bug_id_path, filename), \"r\"\n",
    "                        ) as result_file:\n",
    "                            result_data = json.load(result_file)\n",
    "                            response = result_data[\n",
    "                                f\"{repo}:{bug_id}\"\n",
    "                            ]  # Replace with actual key\n",
    "                        with open(\n",
    "                            os.path.join(\n",
    "                                bug_id_path, filename.split(\"_\")[0] + \"_response_1.json\"\n",
    "                            )\n",
    "                        ) as f:\n",
    "                            response_data = json.load(f)\n",
    "                            bitvector = convert_dict_to_bitvec(\n",
    "                                response_data[repo][0][\"strata\"]\n",
    "                            )\n",
    "                            available_bv = convert_dict_to_bitvec(\n",
    "                                response_data[repo][0][\"available_strata\"]\n",
    "                            )\n",
    "                            full_bv = convert_dict_to_bitvec(\n",
    "                                response_data[repo][0][\"bitvector\"]\n",
    "                            )\n",
    "                            full_available_bv = convert_dict_to_bitvec(\n",
    "                                response_data[repo][0][\"available_bitvector\"]\n",
    "                            )\n",
    "                        r_2 = os.path.join(\n",
    "                            bug_id_path, filename.split(\"_\")[0] + \"_result_2.json\"\n",
    "                        )\n",
    "                        r_3 = os.path.join(\n",
    "                            bug_id_path, filename.split(\"_\")[0] + \"_result_3.json\"\n",
    "                        )\n",
    "                        x = 1\n",
    "                        if os.path.exists(r_2):\n",
    "                            x += 1\n",
    "                            with open(r_2, \"r\") as result_file:\n",
    "                                result_data = json.load(result_file)\n",
    "                                response_2 = result_data[\n",
    "                                    f\"{repo}:{bug_id}\"\n",
    "                                ]  # Replace with actual key\n",
    "                        if os.path.exists(r_3):\n",
    "                            x += 1\n",
    "                            with open(r_3, \"r\") as result_file:\n",
    "                                result_data = json.load(result_file)\n",
    "                                response_3 = result_data[\n",
    "                                    f\"{repo}:{bug_id}\"\n",
    "                                ]  # Replace with actual key\n",
    "                        success = 0\n",
    "                        if response == 0:\n",
    "                            success += 1\n",
    "                        if response_2 == 0:\n",
    "                            success += 1\n",
    "                        if response_3 == 0:\n",
    "                            success += 1\n",
    "                        response = response * response_2 * response_3\n",
    "                        facts_file = os.path.join(bug_id_path, \"facts.json\")\n",
    "                        with open(facts_file) as f:\n",
    "                            facts = json.load(f)\n",
    "\n",
    "                        # Create a BugData object\n",
    "                        bug_data = BugData(\n",
    "                            f\"{repo.lower()}:{bug_id}\",\n",
    "                            bitvector,\n",
    "                            bitvector_dict,\n",
    "                            response,\n",
    "                            available_bv,\n",
    "                            full_bv,\n",
    "                            full_available_bv,\n",
    "                            success,\n",
    "                            easy,\n",
    "                            facts,\n",
    "                        )\n",
    "                        bug_data_objects.append(bug_data)\n",
    "\n",
    "    return bug_data_objects\n",
    "\n",
    "\n",
    "def convert_dict_to_bitvec(bitvec_dict):\n",
    "    # Convert a dictionary to a bitvector string\n",
    "    # Adjust this function based on how you want to represent the bitvector\n",
    "    return \"\".join(str(bitvec_dict[key]) for key in sorted(bitvec_dict.keys()))\n",
    "\n",
    "\n",
    "def analyze_bug_data(bug_data_list):\n",
    "    # Initialize variables for analysis\n",
    "    success_count = 0\n",
    "    feature_sums = None\n",
    "    feature_counts = defaultdict(int)\n",
    "\n",
    "    # Iterate through each BugData instance\n",
    "    for bug_data in bug_data_list:\n",
    "        # Count successes\n",
    "        if bug_data.success:\n",
    "            success_count += 1\n",
    "        numeric_feature_vector = [float(feature) for feature in bug_data.feature_vector]\n",
    "        # Aggregate feature information\n",
    "        if feature_sums is None:\n",
    "            feature_sums = np.array(numeric_feature_vector)\n",
    "        else:\n",
    "            feature_sums += numeric_feature_vector\n",
    "\n",
    "        for feature in numeric_feature_vector:\n",
    "            feature_counts[feature] += 1\n",
    "\n",
    "    # Calculate success rate\n",
    "    total_count = len(bug_data_list)\n",
    "    success_rate = success_count / total_count\n",
    "\n",
    "    # Calculate average values for each feature\n",
    "    avg_features = feature_sums / total_count\n",
    "\n",
    "    # Sort features by occurrence\n",
    "    sorted_features = sorted(feature_counts.items(), key=lambda x: x[1], reverse=True)\n",
    "\n",
    "    return {\n",
    "        \"success_rate\": success_rate,\n",
    "        \"average_feature_values\": avg_features,\n",
    "        \"most_common_feature\": sorted_features[0],\n",
    "        \"least_common_feature\": sorted_features[-1],\n",
    "    }\n",
    "\n",
    "\n",
    "def calculate_statistics(frequency_dict):\n",
    "    success_counts = []\n",
    "    failure_counts = []\n",
    "\n",
    "    for (sum_val, success), count in frequency_dict.items():\n",
    "        if success == 1:\n",
    "            success_counts.extend([sum_val] * count)\n",
    "        elif success == 0:\n",
    "            failure_counts.extend([sum_val] * count)\n",
    "\n",
    "    # Calculate statistics for success\n",
    "    success_mean = np.mean(success_counts) if success_counts else 0\n",
    "    success_median = np.median(success_counts) if success_counts else 0\n",
    "    success_variance = np.var(success_counts) if success_counts else 0\n",
    "\n",
    "    # Calculate statistics for failure\n",
    "    failure_mean = np.mean(failure_counts) if failure_counts else 0\n",
    "    failure_median = np.median(failure_counts) if failure_counts else 0\n",
    "    failure_variance = np.var(failure_counts) if failure_counts else 0\n",
    "\n",
    "    return {\n",
    "        \"success\": {\n",
    "            \"mean\": success_mean,\n",
    "            \"median\": success_median,\n",
    "            \"variance\": success_variance,\n",
    "        },\n",
    "        \"failure\": {\n",
    "            \"mean\": failure_mean,\n",
    "            \"median\": failure_median,\n",
    "            \"variance\": failure_variance,\n",
    "        },\n",
    "    }\n",
    "\n",
    "\n",
    "def compute_and_plot_success_rate(bug_data_list):\n",
    "    # Dictionary to store success count and total count per partition\n",
    "    partition_data = {}\n",
    "\n",
    "    for bug_data in bug_data_list:\n",
    "        # Determine the partition for this bug_data\n",
    "        if bug_data.prompt_length > 40000:\n",
    "            partition = \"40000+\"\n",
    "        else:\n",
    "            partition = (bug_data.prompt_length // 1000) * 1000\n",
    "\n",
    "        # Initialize partition data if not already present\n",
    "        if partition not in partition_data:\n",
    "            partition_data[partition] = {\"success_count\": 0, \"total_count\": 0}\n",
    "\n",
    "        # Update success count and total count\n",
    "        partition_data[partition][\"success_count\"] += bug_data.success\n",
    "        partition_data[partition][\"total_count\"] += 1\n",
    "    # Calculate average success rate per partition\n",
    "    average_success_rate = {\n",
    "        partition: data[\"success_count\"] / data[\"total_count\"]\n",
    "        for partition, data in partition_data.items()\n",
    "    }\n",
    "    print(\n",
    "        partition_data[20000],\n",
    "        partition_data[21000],\n",
    "        partition_data[22000],\n",
    "        partition_data[23000],\n",
    "    )\n",
    "    # Prepare data for plotting\n",
    "    # Sort partitions with a custom key: integers as-is, '10000+' as a large number\n",
    "    partitions = sorted(\n",
    "        average_success_rate.keys(), key=lambda x: x if isinstance(x, int) else 10001\n",
    "    )\n",
    "    success_rates = [average_success_rate[partition] for partition in partitions]\n",
    "\n",
    "    # Plotting\n",
    "    plt.figure(figsize=(10, 6))\n",
    "    plt.bar(range(len(partitions)), success_rates, align=\"center\")\n",
    "    plt.xlabel(\"Prompt Length Partition\")\n",
    "    plt.ylabel(\"Average Success Rate\")\n",
    "    plt.title(\"Average Success Rate per Prompt Length Partition\")\n",
    "    # Label only every nth partition to avoid clutter\n",
    "    n = 5  # Adjust n as needed for readability\n",
    "    x_ticks_labels = [f\"{p}\" if isinstance(p, int) else p for p in partitions]\n",
    "    x_ticks_positions = range(len(partitions))\n",
    "    plt.xticks(\n",
    "        x_ticks_positions[::n], x_ticks_labels[::n]\n",
    "    )  # Adjust tick labels for readability\n",
    "\n",
    "    plt.show()\n",
    "\n"
   ]
  },
  {
   "cell_type": "code",
   "execution_count": 4,
   "id": "4b9c823c-29e8-4ac5-860f-ea8391cbcc4f",
   "metadata": {},
   "outputs": [],
   "source": [
    "import json"
   ]
  },
  {
   "cell_type": "code",
   "execution_count": 5,
   "id": "8fa7aceb-6e47-4108-b0ba-f3d85e5a6124",
   "metadata": {},
   "outputs": [
    {
     "name": "stderr",
     "output_type": "stream",
     "text": [
      "/tmp/ipykernel_314506/2203851347.py:7: DeprecationWarning: \n",
      "Pyarrow will become a required dependency of pandas in the next major release of pandas (pandas 3.0),\n",
      "(to allow more performant data types, such as the Arrow string type, and better interoperability with other libraries)\n",
      "but was not found to be installed on your system.\n",
      "If this would cause problems for you,\n",
      "please provide us feedback at https://github.com/pandas-dev/pandas/issues/54466\n",
      "        \n",
      "  import pandas as pd\n"
     ]
    }
   ],
   "source": [
    "import argparse\n",
    "import os\n",
    "import json\n",
    "from collections import defaultdict\n",
    "from pyexpat import features\n",
    "from re import S\n",
    "import pandas as pd\n",
    "import nltk\n",
    "import matplotlib.pyplot as plt\n",
    "import numpy as np\n",
    "from sklearn.model_selection import train_test_split\n",
    "from sklearn.ensemble import RandomForestClassifier\n",
    "from sklearn.metrics import accuracy_score\n",
    "from sklearn.model_selection import GridSearchCV\n",
    "from xgboost import XGBClassifier\n",
    "from scipy.stats import shapiro\n",
    "import nltk\n",
    "from nltk.tokenize import word_tokenize\n",
    "import random\n",
    "import textwrap\n",
    "from radon.visitors import ComplexityVisitor\n",
    "\n",
    "random.seed(42)\n",
    "\n"
   ]
  },
  {
   "cell_type": "code",
   "execution_count": 6,
   "id": "f71c34fc-32f2-4ef5-a73e-27f2727b0e8a",
   "metadata": {},
   "outputs": [
    {
     "name": "stdout",
     "output_type": "stream",
     "text": [
      "Error computing cyclomatic complexity: unexpected indent (<unknown>, line 1)\n",
      "Error computing cyclomatic complexity: unexpected indent (<unknown>, line 1)\n",
      "Error computing cyclomatic complexity: unexpected indent (<unknown>, line 1)\n",
      "Error computing cyclomatic complexity: unexpected indent (<unknown>, line 1)\n",
      "Error computing cyclomatic complexity: unexpected indent (<unknown>, line 1)\n",
      "Error computing cyclomatic complexity: unexpected indent (<unknown>, line 1)\n",
      "Error computing cyclomatic complexity: unexpected indent (<unknown>, line 1)\n",
      "Error computing cyclomatic complexity: unexpected indent (<unknown>, line 1)\n",
      "Error computing cyclomatic complexity: unexpected indent (<unknown>, line 1)\n",
      "Error computing cyclomatic complexity: unexpected indent (<unknown>, line 1)\n",
      "Error computing cyclomatic complexity: unexpected indent (<unknown>, line 1)\n",
      "Error computing cyclomatic complexity: unexpected indent (<unknown>, line 1)\n",
      "Error computing cyclomatic complexity: unexpected indent (<unknown>, line 1)\n",
      "Error computing cyclomatic complexity: unexpected indent (<unknown>, line 1)\n",
      "Error computing cyclomatic complexity: unexpected indent (<unknown>, line 1)\n",
      "Error computing cyclomatic complexity: unexpected indent (<unknown>, line 1)\n",
      "Error computing cyclomatic complexity: unexpected indent (<unknown>, line 1)\n",
      "Error computing cyclomatic complexity: unexpected indent (<unknown>, line 1)\n",
      "Error computing cyclomatic complexity: unexpected indent (<unknown>, line 1)\n",
      "Error computing cyclomatic complexity: unexpected indent (<unknown>, line 1)\n",
      "Error computing cyclomatic complexity: unexpected indent (<unknown>, line 1)\n",
      "Error computing cyclomatic complexity: unexpected indent (<unknown>, line 1)\n",
      "Error computing cyclomatic complexity: unexpected indent (<unknown>, line 1)\n",
      "Error computing cyclomatic complexity: unexpected indent (<unknown>, line 1)\n",
      "Error computing cyclomatic complexity: unexpected indent (<unknown>, line 1)\n",
      "Error computing cyclomatic complexity: unexpected indent (<unknown>, line 1)\n",
      "Error computing cyclomatic complexity: unexpected indent (<unknown>, line 1)\n",
      "Error computing cyclomatic complexity: unexpected indent (<unknown>, line 1)\n",
      "Error computing cyclomatic complexity: unexpected indent (<unknown>, line 1)\n",
      "Error computing cyclomatic complexity: unexpected indent (<unknown>, line 1)\n",
      "Error computing cyclomatic complexity: unexpected indent (<unknown>, line 1)\n",
      "Error computing cyclomatic complexity: unexpected indent (<unknown>, line 1)\n",
      "Error computing cyclomatic complexity: unexpected indent (<unknown>, line 1)\n",
      "Error computing cyclomatic complexity: unexpected indent (<unknown>, line 1)\n",
      "Error computing cyclomatic complexity: unexpected indent (<unknown>, line 1)\n",
      "Error computing cyclomatic complexity: unexpected indent (<unknown>, line 1)\n",
      "Error computing cyclomatic complexity: unexpected indent (<unknown>, line 1)\n",
      "Error computing cyclomatic complexity: unexpected indent (<unknown>, line 1)\n",
      "Error computing cyclomatic complexity: unexpected indent (<unknown>, line 1)\n",
      "Error computing cyclomatic complexity: unexpected indent (<unknown>, line 1)\n",
      "Error computing cyclomatic complexity: unexpected indent (<unknown>, line 1)\n",
      "Error computing cyclomatic complexity: unexpected indent (<unknown>, line 1)\n",
      "Error computing cyclomatic complexity: unexpected indent (<unknown>, line 1)\n",
      "Error computing cyclomatic complexity: unexpected indent (<unknown>, line 1)\n",
      "Error computing cyclomatic complexity: unexpected indent (<unknown>, line 1)\n",
      "Error computing cyclomatic complexity: unexpected indent (<unknown>, line 1)\n",
      "Error computing cyclomatic complexity: unexpected indent (<unknown>, line 1)\n",
      "Error computing cyclomatic complexity: unexpected indent (<unknown>, line 1)\n",
      "Error computing cyclomatic complexity: unexpected indent (<unknown>, line 1)\n",
      "Error computing cyclomatic complexity: unexpected indent (<unknown>, line 1)\n",
      "Error computing cyclomatic complexity: unexpected indent (<unknown>, line 1)\n",
      "Error computing cyclomatic complexity: unexpected indent (<unknown>, line 1)\n",
      "Error computing cyclomatic complexity: unexpected indent (<unknown>, line 1)\n",
      "Error computing cyclomatic complexity: unexpected indent (<unknown>, line 1)\n",
      "Error computing cyclomatic complexity: unexpected indent (<unknown>, line 1)\n",
      "Error computing cyclomatic complexity: unexpected indent (<unknown>, line 1)\n",
      "Error computing cyclomatic complexity: unexpected indent (<unknown>, line 1)\n",
      "Error computing cyclomatic complexity: unexpected indent (<unknown>, line 1)\n",
      "Error computing cyclomatic complexity: unexpected indent (<unknown>, line 1)\n",
      "Error computing cyclomatic complexity: unexpected indent (<unknown>, line 1)\n",
      "Error computing cyclomatic complexity: unexpected indent (<unknown>, line 1)\n",
      "Error computing cyclomatic complexity: unexpected indent (<unknown>, line 1)\n",
      "Error computing cyclomatic complexity: unexpected indent (<unknown>, line 1)\n",
      "Error computing cyclomatic complexity: unexpected indent (<unknown>, line 1)\n"
     ]
    }
   ],
   "source": [
    "xxx = {}\n",
    "\n",
    "id_gen = {}\n",
    "counter = 1\n",
    "\n",
    "facts_location = \"../../LPPR/training-data/106-dataset/\"\n",
    "data_location = \"../../LPPR/training-data/result-sheet/106-dataset/raw_result_strata.xlsx\"\n",
    "facts_location_395 = \"../../LPPR/training-data/395-dataset/\"\n",
    "train_include_1 = \"../../LPPR/experiment-initialization-resources/datasets-list/30-106-dataset.json\"\n",
    "train_include_2 = \"../../LPPR/experiment-initialization-resources/datasets-list/30-395-dataset.json\"\n",
    "with open(train_include_1) as f:\n",
    "    dic = json.load(f)\n",
    "    include_list = []\n",
    "    for key, vals in dic.items():\n",
    "        include_list += [f\"{key.lower()}:{val}\" for val in vals]\n",
    "with open(train_include_2) as f:\n",
    "    dic = json.load(f)\n",
    "    for key, vals in dic.items():\n",
    "        include_list += [f\"{key.lower()}:{val}\" for val in vals]\n",
    "\n",
    "easy_set = set()\n",
    "\n",
    "excel_data = load_data_from_excel(data_location)\n",
    "all_data = create_bug_data_objects_395(facts_location, easy=True)\n",
    "all_data += create_bug_data_objects_395(facts_location_395)\n"
   ]
  },
  {
   "cell_type": "code",
   "execution_count": 7,
   "id": "c0829859-d746-49dd-baae-547d97e400bc",
   "metadata": {},
   "outputs": [
    {
     "data": {
      "text/plain": [
       "20160"
      ]
     },
     "execution_count": 7,
     "metadata": {},
     "output_type": "execute_result"
    }
   ],
   "source": [
    "len(all_data)"
   ]
  },
  {
   "cell_type": "code",
   "execution_count": 8,
   "id": "f651dc2b-cab0-42d6-b4e6-83caee0075f8",
   "metadata": {},
   "outputs": [],
   "source": [
    "complexities = [bd.cyclomatic_complexity for bd in all_data]\n",
    "successes = [bd.success for bd in all_data]"
   ]
  },
  {
   "cell_type": "code",
   "execution_count": 9,
   "id": "1e1919c8-4c1f-4d00-8491-e8c540849efb",
   "metadata": {},
   "outputs": [],
   "source": [
    "import pandas as pd\n",
    "from scipy import stats"
   ]
  },
  {
   "cell_type": "code",
   "execution_count": 10,
   "id": "59936083-3ee7-4f21-ba19-23099777fcdd",
   "metadata": {},
   "outputs": [],
   "source": [
    "data = pd.DataFrame({\n",
    "    'CyclomaticComplexity': complexities,\n",
    "    'Success': successes\n",
    "})"
   ]
  },
  {
   "cell_type": "code",
   "execution_count": 11,
   "id": "7eff2021-e144-444f-b23c-b0ed8c456ed1",
   "metadata": {},
   "outputs": [
    {
     "name": "stdout",
     "output_type": "stream",
     "text": [
      "       CyclomaticComplexity\n",
      "count          20160.000000\n",
      "mean              10.174603\n",
      "std               11.500098\n",
      "min                0.000000\n",
      "25%                2.000000\n",
      "50%                6.000000\n",
      "75%               13.000000\n",
      "max               75.000000\n"
     ]
    },
    {
     "data": {
      "image/png": "[encoded data removed]",
      "text/plain": [
       "<Figure size 640x480 with 1 Axes>"
      ]
     },
     "metadata": {},
     "output_type": "display_data"
    }
   ],
   "source": [
    "print(data.describe())\n",
    "\n",
    "# Visualization (e.g., using seaborn or matplotlib)\n",
    "import seaborn as sns\n",
    "import matplotlib.pyplot as plt\n",
    "\n",
    "sns.boxplot(x='Success', y='CyclomaticComplexity', data=data)\n",
    "plt.show()"
   ]
  },
  {
   "cell_type": "code",
   "execution_count": 12,
   "id": "c9adee37-957f-4f22-840e-e8c89bedaa95",
   "metadata": {},
   "outputs": [
    {
     "name": "stdout",
     "output_type": "stream",
     "text": [
      "errorType\n",
      "0    12440\n",
      "1     1293\n",
      "2     1204\n",
      "3      584\n",
      "Name: Failures, dtype: int64\n",
      "errorType\n",
      "0    3560\n",
      "1     435\n",
      "2     268\n",
      "3     376\n",
      "Name: Success, dtype: int64\n"
     ]
    }
   ],
   "source": [
    "error = [bd.issue_description_type for bd in all_data]\n",
    "successes = [bd.success for bd in all_data]\n",
    "failures = [not bd.success for bd in all_data]\n",
    "complexity = [not bd.success for bd in all_data]\n",
    "\n",
    "data = pd.DataFrame({\n",
    "    'errorType': error,\n",
    "    'Success': successes,\n",
    "    'Failures': failures,\n",
    "    'CyclomaticComplexity': complexity\n",
    "})\n",
    "success_counts = data.groupby('errorType')['Failures'].sum()\n",
    "print(success_counts)\n",
    "success_counts = data.groupby('errorType')['Success'].sum()\n",
    "print(success_counts)\n"
   ]
  },
  {
   "cell_type": "code",
   "execution_count": 13,
   "id": "6c75ca3a-62e2-4356-9b79-18b5bae139c5",
   "metadata": {},
   "outputs": [
    {
     "name": "stdout",
     "output_type": "stream",
     "text": [
      "ShapiroResult(statistic=0.5207234826740467, pvalue=2.3904464268334057e-115)\n"
     ]
    },
    {
     "name": "stderr",
     "output_type": "stream",
     "text": [
      "/tmp/ipykernel_314506/460011114.py:1: UserWarning: scipy.stats.shapiro: For N > 5000, computed p-value may not be accurate. Current N is 20160.\n",
      "  print(stats.shapiro(data['CyclomaticComplexity']))\n"
     ]
    }
   ],
   "source": [
    "print(stats.shapiro(data['CyclomaticComplexity']))"
   ]
  },
  {
   "cell_type": "code",
   "execution_count": 14,
   "id": "02dd046e-2aae-4ea1-886f-2166d6ca3596",
   "metadata": {},
   "outputs": [
    {
     "name": "stderr",
     "output_type": "stream",
     "text": [
      "/home/nikhil/anaconda3/envs/pymc_env/lib/python3.11/site-packages/scipy/stats/_axis_nan_policy.py:531: RuntimeWarning: Precision loss occurred in moment calculation due to catastrophic cancellation. This occurs when the data are nearly identical. Results may be unreliable.\n",
      "  res = hypotest_fun_out(*samples, **kwds)\n"
     ]
    }
   ],
   "source": [
    "t_test_result = stats.ttest_ind(\n",
    "    data[data['Success'] == 1]['CyclomaticComplexity'],\n",
    "    data[data['Success'] == 0]['CyclomaticComplexity']\n",
    ")\n",
    "\n",
    "# For non-normally distributed data\n",
    "mwu_test_result = stats.mannwhitneyu(\n",
    "    data[data['Success'] == 1]['CyclomaticComplexity'],\n",
    "    data[data['Success'] == 0]['CyclomaticComplexity']\n",
    ")"
   ]
  },
  {
   "cell_type": "code",
   "execution_count": 15,
   "id": "a55f8819-3903-4fa4-aeb5-eb57aa5b1035",
   "metadata": {},
   "outputs": [
    {
     "name": "stdout",
     "output_type": "stream",
     "text": [
      "P-value: 0.0000\n",
      "The result is statistically significant. We reject the null hypothesis.\n",
      "There is significant evidence to suggest that cyclomatic complexity affects the success of BugData.\n"
     ]
    }
   ],
   "source": [
    "# Assuming t_test_result is the result of your t-test\n",
    "print(f\"P-value: {t_test_result.pvalue:.4f}\")\n",
    "\n",
    "if t_test_result.pvalue <= 0.05:\n",
    "    print(\"The result is statistically significant. We reject the null hypothesis.\")\n",
    "    print(\"There is significant evidence to suggest that cyclomatic complexity affects the success of BugData.\")\n",
    "else:\n",
    "    print(\"The result is not statistically significant. We fail to reject the null hypothesis.\")\n",
    "    print(\"There is not enough evidence to suggest that cyclomatic complexity affects the success of BugData.\")"
   ]
  },
  {
   "cell_type": "code",
   "execution_count": 16,
   "id": "6d998b59-8174-4669-9706-889cad666656",
   "metadata": {},
   "outputs": [
    {
     "data": {
      "text/plain": [
       "0.0"
      ]
     },
     "execution_count": 16,
     "metadata": {},
     "output_type": "execute_result"
    }
   ],
   "source": [
    "t_test_result.pvalue"
   ]
  },
  {
   "cell_type": "code",
   "execution_count": 17,
   "id": "1aceb344-b35f-4ff1-833e-cbcc7a6ff9cc",
   "metadata": {},
   "outputs": [
    {
     "data": {
      "text/plain": [
       "MannwhitneyuResult(statistic=0.0, pvalue=0.0)"
      ]
     },
     "execution_count": 17,
     "metadata": {},
     "output_type": "execute_result"
    }
   ],
   "source": [
    "mwu_test_result"
   ]
  },
  {
   "cell_type": "code",
   "execution_count": 18,
   "id": "399fdad7-601f-4695-9417-89aec6190ed4",
   "metadata": {},
   "outputs": [
    {
     "data": {
      "text/plain": [
       "TtestResult(statistic=-inf, pvalue=0.0, df=20158.0)"
      ]
     },
     "execution_count": 18,
     "metadata": {},
     "output_type": "execute_result"
    }
   ],
   "source": [
    "t_test_result"
   ]
  },
  {
   "cell_type": "code",
   "execution_count": 19,
   "id": "ba8c330e-b00f-4e81-8be6-02fca6e697c4",
   "metadata": {},
   "outputs": [],
   "source": [
    "prompt_length = [bd.prompt_length for bd in all_data]\n",
    "token_count = [bd.token_count for bd in all_data]\n",
    "successes = [bd.success for bd in all_data]"
   ]
  },
  {
   "cell_type": "code",
   "execution_count": 20,
   "id": "0ba0188f-cfc3-4664-b2d7-c8af9b992b1f",
   "metadata": {},
   "outputs": [],
   "source": [
    "data = pd.DataFrame({\n",
    "    'PromptLength': prompt_length,\n",
    "    'Success': successes,\n",
    "    'TokenCount':token_count\n",
    "})"
   ]
  },
  {
   "cell_type": "code",
   "execution_count": 21,
   "id": "045a207e-f9ff-414c-99f1-619d50f5f76e",
   "metadata": {},
   "outputs": [
    {
     "data": {
      "text/plain": [
       "6028.3487820651"
      ]
     },
     "execution_count": 21,
     "metadata": {},
     "output_type": "execute_result"
    }
   ],
   "source": [
    "mean_prompt_length_success_1 = data[data['Success'] == 1]['PromptLength'].mean()\n",
    "mean_prompt_length_success_1"
   ]
  },
  {
   "cell_type": "code",
   "execution_count": 22,
   "id": "2dec5cef-757d-47b5-8153-2a42d3b4d040",
   "metadata": {},
   "outputs": [
    {
     "data": {
      "text/plain": [
       "14969.123767798466"
      ]
     },
     "execution_count": 22,
     "metadata": {},
     "output_type": "execute_result"
    }
   ],
   "source": [
    "mean_prompt_length_success_1 = data[data['Success'] == 0]['PromptLength'].mean()\n",
    "mean_prompt_length_success_1"
   ]
  },
  {
   "cell_type": "code",
   "execution_count": 24,
   "id": "2ae56e44-3ca4-497c-8393-1bfa188f0f8a",
   "metadata": {},
   "outputs": [
    {
     "name": "stdout",
     "output_type": "stream",
     "text": [
      "       PromptLength     TokenCount\n",
      "count  2.016000e+04   20160.000000\n",
      "mean   1.291177e+04    3051.601587\n",
      "std    5.848196e+04   17618.986653\n",
      "min    0.000000e+00       0.000000\n",
      "25%    1.688500e+03     326.000000\n",
      "50%    3.944000e+03     785.000000\n",
      "75%    8.271500e+03    1782.250000\n",
      "max    1.330649e+06  435097.000000\n"
     ]
    },
    {
     "data": {
      "image/png": "[encoded data removed]",
      "text/plain": [
       "<Figure size 640x480 with 1 Axes>"
      ]
     },
     "metadata": {},
     "output_type": "display_data"
    }
   ],
   "source": [
    "print(data.describe())\n",
    "\n",
    "sns.boxplot(x='Success', y='PromptLength', data=data)\n",
    "plt.show()"
   ]
  },
  {
   "cell_type": "code",
   "execution_count": 102,
   "id": "1975af00-9a19-4c8f-a83c-ebf8d085503e",
   "metadata": {},
   "outputs": [
    {
     "name": "stdout",
     "output_type": "stream",
     "text": [
      "[1 0 1 ... 0 0 0]\n"
     ]
    },
    {
     "name": "stderr",
     "output_type": "stream",
     "text": [
      "Auto-assigning NUTS sampler...\n",
      "Initializing NUTS using jitter+adapt_diag...\n",
      "Multiprocess sampling (12 chains in 12 jobs)\n",
      "NUTS: [alpha, beta]\n"
     ]
    },
    {
     "data": {
      "text/html": [
       "\n",
       "<style>\n",
       "    /* Turns off some styling */\n",
       "    progress {\n",
       "        /* gets rid of default border in Firefox and Opera. */\n",
       "        border: none;\n",
       "        /* Needs to be in here for Safari polyfill so background images work as expected. */\n",
       "        background-size: auto;\n",
       "    }\n",
       "    progress:not([value]), progress:not([value])::-webkit-progress-bar {\n",
       "        background: repeating-linear-gradient(45deg, #7e7e7e, #7e7e7e 10px, #5c5c5c 10px, #5c5c5c 20px);\n",
       "    }\n",
       "    .progress-bar-interrupted, .progress-bar-interrupted::-webkit-progress-bar {\n",
       "        background: #F44336;\n",
       "    }\n",
       "</style>\n"
      ],
      "text/plain": [
       "<IPython.core.display.HTML object>"
      ]
     },
     "metadata": {},
     "output_type": "display_data"
    },
    {
     "data": {
      "text/html": [
       "\n",
       "    <div>\n",
       "      <progress value='24000' class='' max='24000' style='width:300px; height:20px; vertical-align: middle;'></progress>\n",
       "      100.00% [24000/24000 00:42&lt;00:00 Sampling 12 chains, 4,000 divergences]\n",
       "    </div>\n",
       "    "
      ],
      "text/plain": [
       "<IPython.core.display.HTML object>"
      ]
     },
     "metadata": {},
     "output_type": "display_data"
    },
    {
     "name": "stderr",
     "output_type": "stream",
     "text": [
      "Sampling 12 chains for 1_000 tune and 1_000 draw iterations (12_000 + 12_000 draws total) took 43 seconds.\n",
      "The rhat statistic is larger than 1.01 for some parameters. This indicates problems during sampling. See https://arxiv.org/abs/1903.08008 for details\n",
      "The effective sample size per chain is smaller than 100 for some parameters.  A higher number is needed for reliable rhat and ess computation. See https://arxiv.org/abs/1903.08008 for details\n",
      "There were 4000 divergences after tuning. Increase `target_accept` or reparameterize.\n"
     ]
    },
    {
     "data": {
      "text/plain": [
       "{'str(1)': 0.17600192800405345}"
      ]
     },
     "execution_count": 102,
     "metadata": {},
     "output_type": "execute_result"
    }
   ],
   "source": [
    "function_length = [len(bd.bitvector_dict[str(1)]) for bd in all_data]\n",
    "data = pd.DataFrame({\n",
    "    'PromptLength': prompt_length,\n",
    "    'Success': successes,\n",
    "    'TokenCount':token_count,\n",
    "    \"FunctionLength\": function_length\n",
    "})\n",
    "fact_lengths = {f'str({i})': [len(bd.bitvector_dict[str(i)]) for bd in all_data] for i in range(1, 8)}\n",
    "\n",
    "fact_lengths['sum'] = [sum([len(bd.bitvector_dict[str(i)]) for i in range(1, 8)]) for bd in all_data]\n",
    "beta_results = {}\n",
    "\n",
    "\n",
    "# Loop through each predictor in the fact_lengths dictionary\n",
    "for predictor in fact_lengths.keys():\n",
    "    # Extract the predictor values and the success outcomes\n",
    "    predictor_values = np.array(fact_lengths[predictor])\n",
    "    success_outcomes = np.array([1 if data.success_count > 0 else 0 for data in all_data])\n",
    "    print(success_outcomes)\n",
    "    with pm.Model() as model:\n",
    "        # Priors\n",
    "        alpha = pm.Normal('alpha', mu=0, sigma=10)\n",
    "        beta = pm.Normal('beta', mu=0, sigma=1)\n",
    "        \n",
    "        p = pm.math.sigmoid(alpha + beta * predictor_values)\n",
    "\n",
    "        # Likelihood\n",
    "        Y_obs = pm.Bernoulli('Y_obs', p=p, observed=success_outcomes)\n",
    "        \n",
    "        # Sampling\n",
    "        trace = pm.sample(1000, tune=1000, target_accept=0.95, cores=12)\n",
    "        \n",
    "        # Calculate the mean of the posterior for the beta coefficient\n",
    "        beta_mean = np.mean(trace.posterior[\"beta\"].mean().values)\n",
    "        \n",
    "        # Store the result\n",
    "        beta_results[predictor] = beta_mean\n",
    "        break\n",
    "\n",
    "beta_results  # This will display the beta coefficients for each predictor"
   ]
  },
  {
   "cell_type": "code",
   "execution_count": 25,
   "id": "3aaf9587-28ca-423e-b16f-784bdab0bd23",
   "metadata": {},
   "outputs": [
    {
     "name": "stdout",
     "output_type": "stream",
     "text": [
      "ShapiroResult(statistic=0.15343275503371878, pvalue=3.056603090958622e-131)\n"
     ]
    },
    {
     "name": "stderr",
     "output_type": "stream",
     "text": [
      "/tmp/ipykernel_314506/3454462357.py:1: UserWarning: scipy.stats.shapiro: For N > 5000, computed p-value may not be accurate. Current N is 20160.\n",
      "  print(stats.shapiro(data['PromptLength']))\n"
     ]
    }
   ],
   "source": [
    "print(stats.shapiro(data['PromptLength']))"
   ]
  },
  {
   "cell_type": "code",
   "execution_count": 23,
   "id": "40a725b9-574b-4928-a737-a3fa43532c30",
   "metadata": {},
   "outputs": [
    {
     "name": "stdout",
     "output_type": "stream",
     "text": [
      "Median Prompt Length when Success = 1: 3704.0\n",
      "Median Prompt Length when Success = 0: 4045.0\n",
      "Median Token Count when Success = 1: 721.0\n",
      "Median Token Count when Success = 0: 812.0\n",
      "Mean Token Count when Success = 0: 3576.151794343148\n",
      "Mean Token Count when Success = 1: 1296.5802974779047\n"
     ]
    }
   ],
   "source": [
    "median_prompt_length_success_1 = data[data['Success'] == 1]['PromptLength'].median()\n",
    "\n",
    "print(\"Median Prompt Length when Success = 1:\", median_prompt_length_success_1)\n",
    "median_prompt_length_success_0 = data[data['Success'] == 0]['PromptLength'].median()\n",
    "\n",
    "print(\"Median Prompt Length when Success = 0:\", median_prompt_length_success_0)\n",
    "\n",
    "median_tc_success_1 = data[data['Success'] == 1]['TokenCount'].median()\n",
    "\n",
    "print(\"Median Token Count when Success = 1:\", median_tc_success_1)\n",
    "median_tc_success_0 = data[data['Success'] == 0]['TokenCount'].median()\n",
    "\n",
    "print(\"Median Token Count when Success = 0:\", median_tc_success_0)\n",
    "\n",
    "mean_tc_success_0 = data[data['Success'] == 0]['TokenCount'].mean()\n",
    "print(\"Mean Token Count when Success = 0:\", mean_tc_success_0)\n",
    "\n",
    "mean_tc_success_1 = data[data['Success'] == 1]['TokenCount'].mean()\n",
    "print(\"Mean Token Count when Success = 1:\", mean_tc_success_1)\n"
   ]
  },
  {
   "cell_type": "code",
   "execution_count": 26,
   "id": "1f11f071-587c-4100-b903-9e6e3f93b482",
   "metadata": {},
   "outputs": [],
   "source": [
    "t_test_result = stats.ttest_ind(\n",
    "    data[data['Success'] == 1]['PromptLength'],\n",
    "    data[data['Success'] == 0]['PromptLength']\n",
    ")\n"
   ]
  },
  {
   "cell_type": "code",
   "execution_count": 27,
   "id": "52b1abba-be3a-43e9-8abf-13fa60a7d41d",
   "metadata": {},
   "outputs": [
    {
     "data": {
      "text/plain": [
       "TtestResult(statistic=-9.155251384788745, pvalue=5.92765522014874e-20, df=20158.0)"
      ]
     },
     "execution_count": 27,
     "metadata": {},
     "output_type": "execute_result"
    }
   ],
   "source": [
    "t_test_result"
   ]
  },
  {
   "cell_type": "code",
   "execution_count": 28,
   "id": "f5830196-3068-4378-be7c-6b13d99ca116",
   "metadata": {},
   "outputs": [],
   "source": [
    "prompt_length = [bd.prompt_length for bd in all_data]\n",
    "token_count = [bd.token_count for bd in all_data]\n",
    "successes = [bd.success for bd in all_data]"
   ]
  },
  {
   "cell_type": "code",
   "execution_count": 29,
   "id": "5f92ed42-437e-401c-ad28-b7c2fad4a2af",
   "metadata": {},
   "outputs": [],
   "source": [
    "cot = [int(bd.bitvector[-1]) for bd in all_data]\n",
    "successes = [bd.success for bd in all_data]"
   ]
  },
  {
   "cell_type": "code",
   "execution_count": 30,
   "id": "10c5ce7b-32de-4774-baad-812c60c0696b",
   "metadata": {},
   "outputs": [],
   "source": [
    "data = pd.DataFrame({\n",
    "    'CoT': cot,\n",
    "    'Success': successes\n",
    "})"
   ]
  },
  {
   "cell_type": "code",
   "execution_count": 31,
   "id": "a3531c85-5030-47ce-bdd8-4735f2c6fd79",
   "metadata": {},
   "outputs": [
    {
     "name": "stdout",
     "output_type": "stream",
     "text": [
      "                CoT\n",
      "count  20160.000000\n",
      "mean       0.500000\n",
      "std        0.500012\n",
      "min        0.000000\n",
      "25%        0.000000\n",
      "50%        0.500000\n",
      "75%        1.000000\n",
      "max        1.000000\n"
     ]
    },
    {
     "data": {
      "image/png": "[encoded data removed]",
      "text/plain": [
       "<Figure size 640x480 with 1 Axes>"
      ]
     },
     "metadata": {},
     "output_type": "display_data"
    }
   ],
   "source": [
    "print(data.describe())\n",
    "\n",
    "sns.boxplot(x='Success', y='CoT', data=data)\n",
    "plt.show()"
   ]
  },
  {
   "cell_type": "code",
   "execution_count": 32,
   "id": "20ff3acc-5338-41cf-b993-63a5c2f5e8f7",
   "metadata": {},
   "outputs": [
    {
     "data": {
      "text/plain": [
       "0"
      ]
     },
     "execution_count": 32,
     "metadata": {},
     "output_type": "execute_result"
    }
   ],
   "source": [
    "cot[0]"
   ]
  },
  {
   "cell_type": "code",
   "execution_count": 33,
   "id": "c9950d1f-1c64-49d2-8dd7-f2831a582765",
   "metadata": {},
   "outputs": [],
   "source": [
    "success_counts = data.groupby('CoT')['Success'].sum()"
   ]
  },
  {
   "cell_type": "code",
   "execution_count": 34,
   "id": "d2f277ce-f7d6-4304-90f5-9dfdcab3736f",
   "metadata": {},
   "outputs": [
    {
     "data": {
      "text/plain": [
       "CoT\n",
       "0    1987\n",
       "1    2652\n",
       "Name: Success, dtype: int64"
      ]
     },
     "execution_count": 34,
     "metadata": {},
     "output_type": "execute_result"
    }
   ],
   "source": [
    "success_counts"
   ]
  },
  {
   "cell_type": "code",
   "execution_count": 35,
   "id": "d94e4749-03ca-43b2-b971-6ee24e6a0891",
   "metadata": {},
   "outputs": [
    {
     "data": {
      "text/plain": [
       "20160"
      ]
     },
     "execution_count": 35,
     "metadata": {},
     "output_type": "execute_result"
    }
   ],
   "source": [
    "len(data)"
   ]
  },
  {
   "cell_type": "code",
   "execution_count": 36,
   "id": "94fb2a22-96bb-4505-8698-a5be4b4c9e15",
   "metadata": {},
   "outputs": [
    {
     "name": "stdout",
     "output_type": "stream",
     "text": [
      "Series([], dtype: int64)\n"
     ]
    }
   ],
   "source": [
    "success_counts = data[data['Success'] == 'success'].groupby('CoT').size()\n",
    "print(success_counts)"
   ]
  },
  {
   "cell_type": "code",
   "execution_count": 37,
   "id": "5a644005-45d1-469f-b497-e41265b11520",
   "metadata": {},
   "outputs": [],
   "source": [
    "success_counts = data.groupby('CoT')['Success'].sum()"
   ]
  },
  {
   "cell_type": "code",
   "execution_count": 38,
   "id": "d9e1d0eb-2cc6-4529-991f-f3e3340b5233",
   "metadata": {},
   "outputs": [
    {
     "data": {
      "text/plain": [
       "CoT\n",
       "0    1987\n",
       "1    2652\n",
       "Name: Success, dtype: int64"
      ]
     },
     "execution_count": 38,
     "metadata": {},
     "output_type": "execute_result"
    }
   ],
   "source": [
    "success_counts"
   ]
  },
  {
   "cell_type": "code",
   "execution_count": 39,
   "id": "1150282a-7ce2-4362-9b61-11261398a4b8",
   "metadata": {},
   "outputs": [
    {
     "data": {
      "text/plain": [
       "(20160, 2)"
      ]
     },
     "execution_count": 39,
     "metadata": {},
     "output_type": "execute_result"
    }
   ],
   "source": [
    "data.shape"
   ]
  },
  {
   "cell_type": "code",
   "execution_count": 40,
   "id": "5238cd8d-dc72-40bb-b8c1-a94af47ccbfc",
   "metadata": {},
   "outputs": [
    {
     "data": {
      "text/html": [
       "<div>\n",
       "<style scoped>\n",
       "    .dataframe tbody tr th:only-of-type {\n",
       "        vertical-align: middle;\n",
       "    }\n",
       "\n",
       "    .dataframe tbody tr th {\n",
       "        vertical-align: top;\n",
       "    }\n",
       "\n",
       "    .dataframe thead th {\n",
       "        text-align: right;\n",
       "    }\n",
       "</style>\n",
       "<table border=\"1\" class=\"dataframe\">\n",
       "  <thead>\n",
       "    <tr style=\"text-align: right;\">\n",
       "      <th></th>\n",
       "      <th>CoT</th>\n",
       "      <th>Success</th>\n",
       "    </tr>\n",
       "  </thead>\n",
       "  <tbody>\n",
       "    <tr>\n",
       "      <th>0</th>\n",
       "      <td>0</td>\n",
       "      <td>True</td>\n",
       "    </tr>\n",
       "    <tr>\n",
       "      <th>1</th>\n",
       "      <td>0</td>\n",
       "      <td>False</td>\n",
       "    </tr>\n",
       "    <tr>\n",
       "      <th>2</th>\n",
       "      <td>1</td>\n",
       "      <td>True</td>\n",
       "    </tr>\n",
       "    <tr>\n",
       "      <th>3</th>\n",
       "      <td>1</td>\n",
       "      <td>False</td>\n",
       "    </tr>\n",
       "    <tr>\n",
       "      <th>4</th>\n",
       "      <td>0</td>\n",
       "      <td>False</td>\n",
       "    </tr>\n",
       "    <tr>\n",
       "      <th>...</th>\n",
       "      <td>...</td>\n",
       "      <td>...</td>\n",
       "    </tr>\n",
       "    <tr>\n",
       "      <th>20155</th>\n",
       "      <td>1</td>\n",
       "      <td>False</td>\n",
       "    </tr>\n",
       "    <tr>\n",
       "      <th>20156</th>\n",
       "      <td>0</td>\n",
       "      <td>False</td>\n",
       "    </tr>\n",
       "    <tr>\n",
       "      <th>20157</th>\n",
       "      <td>0</td>\n",
       "      <td>False</td>\n",
       "    </tr>\n",
       "    <tr>\n",
       "      <th>20158</th>\n",
       "      <td>0</td>\n",
       "      <td>False</td>\n",
       "    </tr>\n",
       "    <tr>\n",
       "      <th>20159</th>\n",
       "      <td>1</td>\n",
       "      <td>False</td>\n",
       "    </tr>\n",
       "  </tbody>\n",
       "</table>\n",
       "<p>20160 rows × 2 columns</p>\n",
       "</div>"
      ],
      "text/plain": [
       "       CoT  Success\n",
       "0        0     True\n",
       "1        0    False\n",
       "2        1     True\n",
       "3        1    False\n",
       "4        0    False\n",
       "...    ...      ...\n",
       "20155    1    False\n",
       "20156    0    False\n",
       "20157    0    False\n",
       "20158    0    False\n",
       "20159    1    False\n",
       "\n",
       "[20160 rows x 2 columns]"
      ]
     },
     "execution_count": 40,
     "metadata": {},
     "output_type": "execute_result"
    }
   ],
   "source": [
    "data"
   ]
  },
  {
   "cell_type": "code",
   "execution_count": 41,
   "id": "bacfc97a-b8ec-4ed9-b6be-88e3c3312d71",
   "metadata": {},
   "outputs": [
    {
     "data": {
      "text/plain": [
       "<pandas.core.groupby.generic.SeriesGroupBy object at 0x7f6be3d92090>"
      ]
     },
     "execution_count": 41,
     "metadata": {},
     "output_type": "execute_result"
    }
   ],
   "source": [
    "data.groupby('CoT')['Success']"
   ]
  },
  {
   "cell_type": "code",
   "execution_count": 42,
   "id": "78795826-598f-48ef-9679-566fbd8b9c34",
   "metadata": {},
   "outputs": [
    {
     "data": {
      "text/plain": [
       "CoT\n",
       "0    10080\n",
       "1    10080\n",
       "Name: count, dtype: int64"
      ]
     },
     "execution_count": 42,
     "metadata": {},
     "output_type": "execute_result"
    }
   ],
   "source": [
    "data['CoT'].value_counts()"
   ]
  },
  {
   "cell_type": "code",
   "execution_count": 43,
   "id": "44195047-7a9c-4a88-9bd8-7e9a3466bf5a",
   "metadata": {},
   "outputs": [],
   "source": [
    "cot = [int(bd.bitvector[-1]) for bd in all_data]\n"
   ]
  },
  {
   "cell_type": "code",
   "execution_count": 44,
   "id": "ff3f1aa1-43aa-43f7-bdbc-9c029b34451a",
   "metadata": {},
   "outputs": [],
   "source": [
    "bits = []"
   ]
  },
  {
   "cell_type": "code",
   "execution_count": 45,
   "id": "5d711ca7-5ae2-47a2-8647-e24481675cd6",
   "metadata": {},
   "outputs": [],
   "source": [
    "for bit in range(0, 7):\n",
    "    bits.append([int(data.bitvector[bit]) for data in all_data])"
   ]
  },
  {
   "cell_type": "code",
   "execution_count": 46,
   "id": "27bb6e05-0366-467b-a8d2-2f47dc099e9d",
   "metadata": {},
   "outputs": [],
   "source": [
    "nd = []\n",
    "for bit_index, bit_data in enumerate(bits):\n",
    "    for data_point in bit_data:\n",
    "        nd.append({'BitIndex': bit_index, 'Data': data_point, \"Success\": successes})"
   ]
  },
  {
   "cell_type": "code",
   "execution_count": 47,
   "id": "7fe11df1-c4d2-4e1b-a256-77ef5a2e1bf4",
   "metadata": {},
   "outputs": [],
   "source": [
    "df = pd.DataFrame(nd)"
   ]
  },
  {
   "cell_type": "code",
   "execution_count": 48,
   "id": "cc3c0516-6fed-45cc-9d60-89b709e45eb8",
   "metadata": {},
   "outputs": [
    {
     "data": {
      "text/html": [
       "<div>\n",
       "<style scoped>\n",
       "    .dataframe tbody tr th:only-of-type {\n",
       "        vertical-align: middle;\n",
       "    }\n",
       "\n",
       "    .dataframe tbody tr th {\n",
       "        vertical-align: top;\n",
       "    }\n",
       "\n",
       "    .dataframe thead th {\n",
       "        text-align: right;\n",
       "    }\n",
       "</style>\n",
       "<table border=\"1\" class=\"dataframe\">\n",
       "  <thead>\n",
       "    <tr style=\"text-align: right;\">\n",
       "      <th></th>\n",
       "      <th>BitIndex</th>\n",
       "      <th>Data</th>\n",
       "      <th>Success</th>\n",
       "    </tr>\n",
       "  </thead>\n",
       "  <tbody>\n",
       "    <tr>\n",
       "      <th>0</th>\n",
       "      <td>0</td>\n",
       "      <td>1</td>\n",
       "      <td>[True, False, True, False, False, False, True,...</td>\n",
       "    </tr>\n",
       "    <tr>\n",
       "      <th>1</th>\n",
       "      <td>0</td>\n",
       "      <td>1</td>\n",
       "      <td>[True, False, True, False, False, False, True,...</td>\n",
       "    </tr>\n",
       "    <tr>\n",
       "      <th>2</th>\n",
       "      <td>0</td>\n",
       "      <td>1</td>\n",
       "      <td>[True, False, True, False, False, False, True,...</td>\n",
       "    </tr>\n",
       "    <tr>\n",
       "      <th>3</th>\n",
       "      <td>0</td>\n",
       "      <td>1</td>\n",
       "      <td>[True, False, True, False, False, False, True,...</td>\n",
       "    </tr>\n",
       "    <tr>\n",
       "      <th>4</th>\n",
       "      <td>0</td>\n",
       "      <td>1</td>\n",
       "      <td>[True, False, True, False, False, False, True,...</td>\n",
       "    </tr>\n",
       "    <tr>\n",
       "      <th>...</th>\n",
       "      <td>...</td>\n",
       "      <td>...</td>\n",
       "      <td>...</td>\n",
       "    </tr>\n",
       "    <tr>\n",
       "      <th>141115</th>\n",
       "      <td>6</td>\n",
       "      <td>1</td>\n",
       "      <td>[True, False, True, False, False, False, True,...</td>\n",
       "    </tr>\n",
       "    <tr>\n",
       "      <th>141116</th>\n",
       "      <td>6</td>\n",
       "      <td>0</td>\n",
       "      <td>[True, False, True, False, False, False, True,...</td>\n",
       "    </tr>\n",
       "    <tr>\n",
       "      <th>141117</th>\n",
       "      <td>6</td>\n",
       "      <td>0</td>\n",
       "      <td>[True, False, True, False, False, False, True,...</td>\n",
       "    </tr>\n",
       "    <tr>\n",
       "      <th>141118</th>\n",
       "      <td>6</td>\n",
       "      <td>0</td>\n",
       "      <td>[True, False, True, False, False, False, True,...</td>\n",
       "    </tr>\n",
       "    <tr>\n",
       "      <th>141119</th>\n",
       "      <td>6</td>\n",
       "      <td>1</td>\n",
       "      <td>[True, False, True, False, False, False, True,...</td>\n",
       "    </tr>\n",
       "  </tbody>\n",
       "</table>\n",
       "<p>141120 rows × 3 columns</p>\n",
       "</div>"
      ],
      "text/plain": [
       "        BitIndex  Data                                            Success\n",
       "0              0     1  [True, False, True, False, False, False, True,...\n",
       "1              0     1  [True, False, True, False, False, False, True,...\n",
       "2              0     1  [True, False, True, False, False, False, True,...\n",
       "3              0     1  [True, False, True, False, False, False, True,...\n",
       "4              0     1  [True, False, True, False, False, False, True,...\n",
       "...          ...   ...                                                ...\n",
       "141115         6     1  [True, False, True, False, False, False, True,...\n",
       "141116         6     0  [True, False, True, False, False, False, True,...\n",
       "141117         6     0  [True, False, True, False, False, False, True,...\n",
       "141118         6     0  [True, False, True, False, False, False, True,...\n",
       "141119         6     1  [True, False, True, False, False, False, True,...\n",
       "\n",
       "[141120 rows x 3 columns]"
      ]
     },
     "execution_count": 48,
     "metadata": {},
     "output_type": "execute_result"
    }
   ],
   "source": [
    "df"
   ]
  },
  {
   "cell_type": "code",
   "execution_count": 49,
   "id": "e71a5c5b-acaf-4807-97c4-51de1d93b9af",
   "metadata": {},
   "outputs": [],
   "source": [
    "df = pd.DataFrame(data)"
   ]
  },
  {
   "cell_type": "code",
   "execution_count": 50,
   "id": "22f53e89-7244-48f9-8c47-414276405110",
   "metadata": {},
   "outputs": [
    {
     "name": "stdout",
     "output_type": "stream",
     "text": [
      "            Bit_0_Set_Avg_Success  Bit_0_Unset_Avg_Success  \\\n",
      "luigi:18                 0.281250                        0   \n",
      "luigi:33                 0.000000                        0   \n",
      "luigi:15                 0.234375                        0   \n",
      "luigi:28                 0.609375                        0   \n",
      "luigi:20                 0.171875                        0   \n",
      "...                           ...                      ...   \n",
      "thefuck:7                0.171875                        0   \n",
      "thefuck:31               0.109375                        0   \n",
      "thefuck:4                0.140625                        0   \n",
      "thefuck:11               0.015625                        0   \n",
      "thefuck:23               0.031250                        0   \n",
      "\n",
      "            Bit_1_Set_Avg_Success  Bit_1_Unset_Avg_Success  \\\n",
      "luigi:18                  0.28125                 0.281250   \n",
      "luigi:33                  0.00000                 0.000000   \n",
      "luigi:15                  0.12500                 0.343750   \n",
      "luigi:28                  0.59375                 0.625000   \n",
      "luigi:20                  0.09375                 0.250000   \n",
      "...                           ...                      ...   \n",
      "thefuck:7                 0.00000                 0.171875   \n",
      "thefuck:31                0.00000                 0.109375   \n",
      "thefuck:4                 0.00000                 0.140625   \n",
      "thefuck:11                0.00000                 0.015625   \n",
      "thefuck:23                0.00000                 0.031250   \n",
      "\n",
      "            Bit_2_Set_Avg_Success  Bit_2_Unset_Avg_Success  \\\n",
      "luigi:18                  0.34375                  0.21875   \n",
      "luigi:33                  0.00000                  0.00000   \n",
      "luigi:15                  0.25000                  0.21875   \n",
      "luigi:28                  0.62500                  0.59375   \n",
      "luigi:20                  0.12500                  0.21875   \n",
      "...                           ...                      ...   \n",
      "thefuck:7                 0.18750                  0.15625   \n",
      "thefuck:31                0.15625                  0.06250   \n",
      "thefuck:4                 0.15625                  0.12500   \n",
      "thefuck:11                0.00000                  0.03125   \n",
      "thefuck:23                0.03125                  0.03125   \n",
      "\n",
      "            Bit_3_Set_Avg_Success  Bit_3_Unset_Avg_Success  \\\n",
      "luigi:18                  0.43750                  0.12500   \n",
      "luigi:33                  0.00000                  0.00000   \n",
      "luigi:15                  0.40625                  0.06250   \n",
      "luigi:28                  0.71875                  0.50000   \n",
      "luigi:20                  0.25000                  0.09375   \n",
      "...                           ...                      ...   \n",
      "thefuck:7                 0.21875                  0.12500   \n",
      "thefuck:31                0.21875                  0.00000   \n",
      "thefuck:4                 0.12500                  0.15625   \n",
      "thefuck:11                0.03125                  0.00000   \n",
      "thefuck:23                0.06250                  0.00000   \n",
      "\n",
      "            Bit_4_Set_Avg_Success  Bit_4_Unset_Avg_Success  \\\n",
      "luigi:18                  0.28125                  0.28125   \n",
      "luigi:33                  0.00000                  0.00000   \n",
      "luigi:15                  0.25000                  0.21875   \n",
      "luigi:28                  0.68750                  0.53125   \n",
      "luigi:20                  0.15625                  0.18750   \n",
      "...                           ...                      ...   \n",
      "thefuck:7                 0.12500                  0.21875   \n",
      "thefuck:31                0.06250                  0.15625   \n",
      "thefuck:4                 0.28125                  0.00000   \n",
      "thefuck:11                0.03125                  0.00000   \n",
      "thefuck:23                0.00000                  0.06250   \n",
      "\n",
      "            Bit_5_Set_Avg_Success  Bit_5_Unset_Avg_Success  \\\n",
      "luigi:18                  0.00000                 0.281250   \n",
      "luigi:33                  0.00000                 0.000000   \n",
      "luigi:15                  0.34375                 0.125000   \n",
      "luigi:28                  1.00000                 0.218750   \n",
      "luigi:20                  0.21875                 0.125000   \n",
      "...                           ...                      ...   \n",
      "thefuck:7                 0.00000                 0.171875   \n",
      "thefuck:31                0.00000                 0.109375   \n",
      "thefuck:4                 0.15625                 0.125000   \n",
      "thefuck:11                0.00000                 0.031250   \n",
      "thefuck:23                0.00000                 0.031250   \n",
      "\n",
      "            Bit_6_Set_Avg_Success  Bit_6_Unset_Avg_Success  \n",
      "luigi:18                  0.53125                  0.03125  \n",
      "luigi:33                  0.00000                  0.00000  \n",
      "luigi:15                  0.40625                  0.06250  \n",
      "luigi:28                  0.59375                  0.62500  \n",
      "luigi:20                  0.34375                  0.00000  \n",
      "...                           ...                      ...  \n",
      "thefuck:7                 0.25000                  0.09375  \n",
      "thefuck:31                0.15625                  0.06250  \n",
      "thefuck:4                 0.25000                  0.03125  \n",
      "thefuck:11                0.00000                  0.03125  \n",
      "thefuck:23                0.06250                  0.00000  \n",
      "\n",
      "[315 rows x 14 columns]\n"
     ]
    }
   ],
   "source": [
    "# Prepare the data\n",
    "data = []\n",
    "# all_data = [data for data in all_data if data.bitvector == data.available_bv]\n",
    "for bug_data in all_data:\n",
    "    for i, bit in enumerate(bug_data.available_bv):\n",
    "        data.append({\n",
    "            'bug_id': bug_data.bug_id,\n",
    "            'BitPosition': i,\n",
    "            'Bit': int(bit),\n",
    "            'Success': int(bug_data.success)\n",
    "        })\n",
    "\n",
    "df = pd.DataFrame(data)\n",
    "\n",
    "# Initialize a dictionary to store the averages\n",
    "avg_success_per_bug_per_bit = {}\n",
    "\n",
    "# Iterate over each bug_id and each bit position\n",
    "bug_ids = df['bug_id'].unique()\n",
    "for bug_id in bug_ids:\n",
    "    avg_success_per_bug_per_bit[bug_id] = {}\n",
    "    for bit_position in range(7):\n",
    "        # Calculate average success for set bit\n",
    "        satisfied_data_set = df[(df['bug_id'] == bug_id) & (df['BitPosition'] == bit_position) & (df['Bit'] == 1)]\n",
    "        avg_success_set = satisfied_data_set['Success'].mean()\n",
    "        avg_success_per_bug_per_bit[bug_id][f'Bit_{bit_position}_Set_Avg_Success'] = avg_success_set if not pd.isna(avg_success_set) else 0\n",
    "\n",
    "        # Calculate average success for unset bit\n",
    "        satisfied_data_unset = df[(df['bug_id'] == bug_id) & (df['BitPosition'] == bit_position) & (df['Bit'] == 0)]\n",
    "        avg_success_unset = satisfied_data_unset['Success'].mean()\n",
    "        avg_success_per_bug_per_bit[bug_id][f'Bit_{bit_position}_Unset_Avg_Success'] = avg_success_unset if not pd.isna(avg_success_unset) else 0\n",
    "\n",
    "# Convert the results to a DataFrame for better visualization\n",
    "avg_success_df = pd.DataFrame.from_dict(avg_success_per_bug_per_bit, orient='index')\n",
    "\n",
    "# Display the DataFrame\n",
    "print(avg_success_df)"
   ]
  },
  {
   "cell_type": "code",
   "execution_count": 51,
   "id": "6943733d-1141-41c0-be92-10ca8d9d3fbd",
   "metadata": {},
   "outputs": [
    {
     "name": "stdout",
     "output_type": "stream",
     "text": [
      "                   Bit_0_Set_Avg_Success  Bit_0_Unset_Avg_Success  \\\n",
      "Total_Avg_Success              72.484375                      0.0   \n",
      "\n",
      "                   Bit_1_Set_Avg_Success  Bit_1_Unset_Avg_Success  \\\n",
      "Total_Avg_Success                44.9375                 72.34375   \n",
      "\n",
      "                   Bit_2_Set_Avg_Success  Bit_2_Unset_Avg_Success  \\\n",
      "Total_Avg_Success               72.21875                    72.75   \n",
      "\n",
      "                   Bit_3_Set_Avg_Success  Bit_3_Unset_Avg_Success  \\\n",
      "Total_Avg_Success               90.71875                    54.25   \n",
      "\n",
      "                   Bit_4_Set_Avg_Success  Bit_4_Unset_Avg_Success  \\\n",
      "Total_Avg_Success               71.84375                 68.78125   \n",
      "\n",
      "                   Bit_5_Set_Avg_Success  Bit_5_Unset_Avg_Success  \\\n",
      "Total_Avg_Success               66.90625                 60.59375   \n",
      "\n",
      "                   Bit_6_Set_Avg_Success  Bit_6_Unset_Avg_Success  \n",
      "Total_Avg_Success                 82.875                 62.09375  \n"
     ]
    }
   ],
   "source": [
    "summary_row = avg_success_df.sum()\n",
    "\n",
    "# Convert the Series to a DataFrame for better visualization\n",
    "summary_df = pd.DataFrame(summary_row).transpose()\n",
    "\n",
    "# Rename the index for clarity\n",
    "summary_df.index = ['Total_Avg_Success']\n",
    "\n",
    "# Display the summary DataFrame\n",
    "print(summary_df)"
   ]
  },
  {
   "cell_type": "code",
   "execution_count": 52,
   "id": "9d0e72b2-2804-48c7-8def-4e62ad76a835",
   "metadata": {},
   "outputs": [
    {
     "name": "stderr",
     "output_type": "stream",
     "text": [
      "/tmp/ipykernel_314506/959930614.py:1: FutureWarning: The provided callable <built-in function sum> is currently using SeriesGroupBy.sum. In a future version of pandas, the provided callable will be used directly. To keep current behavior pass the string \"sum\" instead.\n",
      "  result = df.groupby(['BitPosition', 'Bit']).agg(\n"
     ]
    },
    {
     "data": {
      "text/html": [
       "<div>\n",
       "<style scoped>\n",
       "    .dataframe tbody tr th:only-of-type {\n",
       "        vertical-align: middle;\n",
       "    }\n",
       "\n",
       "    .dataframe tbody tr th {\n",
       "        vertical-align: top;\n",
       "    }\n",
       "\n",
       "    .dataframe thead th {\n",
       "        text-align: right;\n",
       "    }\n",
       "</style>\n",
       "<table border=\"1\" class=\"dataframe\">\n",
       "  <thead>\n",
       "    <tr style=\"text-align: right;\">\n",
       "      <th></th>\n",
       "      <th>BitPosition</th>\n",
       "      <th>Bit</th>\n",
       "      <th>Successes</th>\n",
       "      <th>Total</th>\n",
       "      <th>Failures</th>\n",
       "    </tr>\n",
       "  </thead>\n",
       "  <tbody>\n",
       "    <tr>\n",
       "      <th>0</th>\n",
       "      <td>0</td>\n",
       "      <td>1</td>\n",
       "      <td>4639</td>\n",
       "      <td>20160</td>\n",
       "      <td>15521</td>\n",
       "    </tr>\n",
       "    <tr>\n",
       "      <th>1</th>\n",
       "      <td>1</td>\n",
       "      <td>0</td>\n",
       "      <td>3201</td>\n",
       "      <td>14304</td>\n",
       "      <td>11103</td>\n",
       "    </tr>\n",
       "    <tr>\n",
       "      <th>2</th>\n",
       "      <td>1</td>\n",
       "      <td>1</td>\n",
       "      <td>1438</td>\n",
       "      <td>5856</td>\n",
       "      <td>4418</td>\n",
       "    </tr>\n",
       "    <tr>\n",
       "      <th>3</th>\n",
       "      <td>2</td>\n",
       "      <td>0</td>\n",
       "      <td>2328</td>\n",
       "      <td>10080</td>\n",
       "      <td>7752</td>\n",
       "    </tr>\n",
       "    <tr>\n",
       "      <th>4</th>\n",
       "      <td>2</td>\n",
       "      <td>1</td>\n",
       "      <td>2311</td>\n",
       "      <td>10080</td>\n",
       "      <td>7769</td>\n",
       "    </tr>\n",
       "    <tr>\n",
       "      <th>5</th>\n",
       "      <td>3</td>\n",
       "      <td>0</td>\n",
       "      <td>1736</td>\n",
       "      <td>10080</td>\n",
       "      <td>8344</td>\n",
       "    </tr>\n",
       "    <tr>\n",
       "      <th>6</th>\n",
       "      <td>3</td>\n",
       "      <td>1</td>\n",
       "      <td>2903</td>\n",
       "      <td>10080</td>\n",
       "      <td>7177</td>\n",
       "    </tr>\n",
       "    <tr>\n",
       "      <th>7</th>\n",
       "      <td>4</td>\n",
       "      <td>0</td>\n",
       "      <td>2340</td>\n",
       "      <td>10624</td>\n",
       "      <td>8284</td>\n",
       "    </tr>\n",
       "    <tr>\n",
       "      <th>8</th>\n",
       "      <td>4</td>\n",
       "      <td>1</td>\n",
       "      <td>2299</td>\n",
       "      <td>9536</td>\n",
       "      <td>7237</td>\n",
       "    </tr>\n",
       "    <tr>\n",
       "      <th>9</th>\n",
       "      <td>5</td>\n",
       "      <td>0</td>\n",
       "      <td>2498</td>\n",
       "      <td>13056</td>\n",
       "      <td>10558</td>\n",
       "    </tr>\n",
       "    <tr>\n",
       "      <th>10</th>\n",
       "      <td>5</td>\n",
       "      <td>1</td>\n",
       "      <td>2141</td>\n",
       "      <td>7104</td>\n",
       "      <td>4963</td>\n",
       "    </tr>\n",
       "    <tr>\n",
       "      <th>11</th>\n",
       "      <td>6</td>\n",
       "      <td>0</td>\n",
       "      <td>1987</td>\n",
       "      <td>10080</td>\n",
       "      <td>8093</td>\n",
       "    </tr>\n",
       "    <tr>\n",
       "      <th>12</th>\n",
       "      <td>6</td>\n",
       "      <td>1</td>\n",
       "      <td>2652</td>\n",
       "      <td>10080</td>\n",
       "      <td>7428</td>\n",
       "    </tr>\n",
       "  </tbody>\n",
       "</table>\n",
       "</div>"
      ],
      "text/plain": [
       "    BitPosition  Bit  Successes  Total  Failures\n",
       "0             0    1       4639  20160     15521\n",
       "1             1    0       3201  14304     11103\n",
       "2             1    1       1438   5856      4418\n",
       "3             2    0       2328  10080      7752\n",
       "4             2    1       2311  10080      7769\n",
       "5             3    0       1736  10080      8344\n",
       "6             3    1       2903  10080      7177\n",
       "7             4    0       2340  10624      8284\n",
       "8             4    1       2299   9536      7237\n",
       "9             5    0       2498  13056     10558\n",
       "10            5    1       2141   7104      4963\n",
       "11            6    0       1987  10080      8093\n",
       "12            6    1       2652  10080      7428"
      ]
     },
     "execution_count": 52,
     "metadata": {},
     "output_type": "execute_result"
    }
   ],
   "source": [
    "result = df.groupby(['BitPosition', 'Bit']).agg(\n",
    "    Successes=('Success', sum),\n",
    "    Total=('Success', 'size')\n",
    ").reset_index()\n",
    "\n",
    "result['Failures'] = result['Total'] - result['Successes']\n",
    "\n",
    "result"
   ]
  },
  {
   "cell_type": "code",
   "execution_count": 53,
   "id": "e10d3312-29cb-45e0-a89d-759be3962c2e",
   "metadata": {},
   "outputs": [
    {
     "data": {
      "text/html": [
       "<div>\n",
       "<style scoped>\n",
       "    .dataframe tbody tr th:only-of-type {\n",
       "        vertical-align: middle;\n",
       "    }\n",
       "\n",
       "    .dataframe tbody tr th {\n",
       "        vertical-align: top;\n",
       "    }\n",
       "\n",
       "    .dataframe thead th {\n",
       "        text-align: right;\n",
       "    }\n",
       "</style>\n",
       "<table border=\"1\" class=\"dataframe\">\n",
       "  <thead>\n",
       "    <tr style=\"text-align: right;\">\n",
       "      <th></th>\n",
       "      <th>BitPosition</th>\n",
       "      <th>Bit</th>\n",
       "      <th>Successes</th>\n",
       "      <th>Total</th>\n",
       "      <th>Failures</th>\n",
       "    </tr>\n",
       "  </thead>\n",
       "  <tbody>\n",
       "    <tr>\n",
       "      <th>0</th>\n",
       "      <td>0</td>\n",
       "      <td>1</td>\n",
       "      <td>4639</td>\n",
       "      <td>20160</td>\n",
       "      <td>15521</td>\n",
       "    </tr>\n",
       "    <tr>\n",
       "      <th>1</th>\n",
       "      <td>1</td>\n",
       "      <td>0</td>\n",
       "      <td>3201</td>\n",
       "      <td>14304</td>\n",
       "      <td>11103</td>\n",
       "    </tr>\n",
       "    <tr>\n",
       "      <th>2</th>\n",
       "      <td>1</td>\n",
       "      <td>1</td>\n",
       "      <td>1438</td>\n",
       "      <td>5856</td>\n",
       "      <td>4418</td>\n",
       "    </tr>\n",
       "    <tr>\n",
       "      <th>3</th>\n",
       "      <td>2</td>\n",
       "      <td>0</td>\n",
       "      <td>2328</td>\n",
       "      <td>10080</td>\n",
       "      <td>7752</td>\n",
       "    </tr>\n",
       "    <tr>\n",
       "      <th>4</th>\n",
       "      <td>2</td>\n",
       "      <td>1</td>\n",
       "      <td>2311</td>\n",
       "      <td>10080</td>\n",
       "      <td>7769</td>\n",
       "    </tr>\n",
       "    <tr>\n",
       "      <th>5</th>\n",
       "      <td>3</td>\n",
       "      <td>0</td>\n",
       "      <td>1736</td>\n",
       "      <td>10080</td>\n",
       "      <td>8344</td>\n",
       "    </tr>\n",
       "    <tr>\n",
       "      <th>6</th>\n",
       "      <td>3</td>\n",
       "      <td>1</td>\n",
       "      <td>2903</td>\n",
       "      <td>10080</td>\n",
       "      <td>7177</td>\n",
       "    </tr>\n",
       "    <tr>\n",
       "      <th>7</th>\n",
       "      <td>4</td>\n",
       "      <td>0</td>\n",
       "      <td>2340</td>\n",
       "      <td>10624</td>\n",
       "      <td>8284</td>\n",
       "    </tr>\n",
       "    <tr>\n",
       "      <th>8</th>\n",
       "      <td>4</td>\n",
       "      <td>1</td>\n",
       "      <td>2299</td>\n",
       "      <td>9536</td>\n",
       "      <td>7237</td>\n",
       "    </tr>\n",
       "    <tr>\n",
       "      <th>9</th>\n",
       "      <td>5</td>\n",
       "      <td>0</td>\n",
       "      <td>2498</td>\n",
       "      <td>13056</td>\n",
       "      <td>10558</td>\n",
       "    </tr>\n",
       "    <tr>\n",
       "      <th>10</th>\n",
       "      <td>5</td>\n",
       "      <td>1</td>\n",
       "      <td>2141</td>\n",
       "      <td>7104</td>\n",
       "      <td>4963</td>\n",
       "    </tr>\n",
       "    <tr>\n",
       "      <th>11</th>\n",
       "      <td>6</td>\n",
       "      <td>0</td>\n",
       "      <td>1987</td>\n",
       "      <td>10080</td>\n",
       "      <td>8093</td>\n",
       "    </tr>\n",
       "    <tr>\n",
       "      <th>12</th>\n",
       "      <td>6</td>\n",
       "      <td>1</td>\n",
       "      <td>2652</td>\n",
       "      <td>10080</td>\n",
       "      <td>7428</td>\n",
       "    </tr>\n",
       "  </tbody>\n",
       "</table>\n",
       "</div>"
      ],
      "text/plain": [
       "    BitPosition  Bit  Successes  Total  Failures\n",
       "0             0    1       4639  20160     15521\n",
       "1             1    0       3201  14304     11103\n",
       "2             1    1       1438   5856      4418\n",
       "3             2    0       2328  10080      7752\n",
       "4             2    1       2311  10080      7769\n",
       "5             3    0       1736  10080      8344\n",
       "6             3    1       2903  10080      7177\n",
       "7             4    0       2340  10624      8284\n",
       "8             4    1       2299   9536      7237\n",
       "9             5    0       2498  13056     10558\n",
       "10            5    1       2141   7104      4963\n",
       "11            6    0       1987  10080      8093\n",
       "12            6    1       2652  10080      7428"
      ]
     },
     "execution_count": 53,
     "metadata": {},
     "output_type": "execute_result"
    }
   ],
   "source": [
    "result"
   ]
  },
  {
   "cell_type": "code",
   "execution_count": 54,
   "id": "c9e33478-206d-43cd-a5c8-f55584543c6c",
   "metadata": {},
   "outputs": [],
   "source": [
    "result_sorted = result.sort_values(by='Successes', ascending=False)\n"
   ]
  },
  {
   "cell_type": "code",
   "execution_count": 55,
   "id": "1e45b508-91d6-491e-b996-605103b149cd",
   "metadata": {},
   "outputs": [
    {
     "data": {
      "text/html": [
       "<div>\n",
       "<style scoped>\n",
       "    .dataframe tbody tr th:only-of-type {\n",
       "        vertical-align: middle;\n",
       "    }\n",
       "\n",
       "    .dataframe tbody tr th {\n",
       "        vertical-align: top;\n",
       "    }\n",
       "\n",
       "    .dataframe thead th {\n",
       "        text-align: right;\n",
       "    }\n",
       "</style>\n",
       "<table border=\"1\" class=\"dataframe\">\n",
       "  <thead>\n",
       "    <tr style=\"text-align: right;\">\n",
       "      <th></th>\n",
       "      <th>BitPosition</th>\n",
       "      <th>Bit</th>\n",
       "      <th>Successes</th>\n",
       "      <th>Total</th>\n",
       "      <th>Failures</th>\n",
       "    </tr>\n",
       "  </thead>\n",
       "  <tbody>\n",
       "    <tr>\n",
       "      <th>0</th>\n",
       "      <td>0</td>\n",
       "      <td>1</td>\n",
       "      <td>4639</td>\n",
       "      <td>20160</td>\n",
       "      <td>15521</td>\n",
       "    </tr>\n",
       "    <tr>\n",
       "      <th>1</th>\n",
       "      <td>1</td>\n",
       "      <td>0</td>\n",
       "      <td>3201</td>\n",
       "      <td>14304</td>\n",
       "      <td>11103</td>\n",
       "    </tr>\n",
       "    <tr>\n",
       "      <th>6</th>\n",
       "      <td>3</td>\n",
       "      <td>1</td>\n",
       "      <td>2903</td>\n",
       "      <td>10080</td>\n",
       "      <td>7177</td>\n",
       "    </tr>\n",
       "    <tr>\n",
       "      <th>12</th>\n",
       "      <td>6</td>\n",
       "      <td>1</td>\n",
       "      <td>2652</td>\n",
       "      <td>10080</td>\n",
       "      <td>7428</td>\n",
       "    </tr>\n",
       "    <tr>\n",
       "      <th>9</th>\n",
       "      <td>5</td>\n",
       "      <td>0</td>\n",
       "      <td>2498</td>\n",
       "      <td>13056</td>\n",
       "      <td>10558</td>\n",
       "    </tr>\n",
       "    <tr>\n",
       "      <th>7</th>\n",
       "      <td>4</td>\n",
       "      <td>0</td>\n",
       "      <td>2340</td>\n",
       "      <td>10624</td>\n",
       "      <td>8284</td>\n",
       "    </tr>\n",
       "    <tr>\n",
       "      <th>3</th>\n",
       "      <td>2</td>\n",
       "      <td>0</td>\n",
       "      <td>2328</td>\n",
       "      <td>10080</td>\n",
       "      <td>7752</td>\n",
       "    </tr>\n",
       "    <tr>\n",
       "      <th>4</th>\n",
       "      <td>2</td>\n",
       "      <td>1</td>\n",
       "      <td>2311</td>\n",
       "      <td>10080</td>\n",
       "      <td>7769</td>\n",
       "    </tr>\n",
       "    <tr>\n",
       "      <th>8</th>\n",
       "      <td>4</td>\n",
       "      <td>1</td>\n",
       "      <td>2299</td>\n",
       "      <td>9536</td>\n",
       "      <td>7237</td>\n",
       "    </tr>\n",
       "    <tr>\n",
       "      <th>10</th>\n",
       "      <td>5</td>\n",
       "      <td>1</td>\n",
       "      <td>2141</td>\n",
       "      <td>7104</td>\n",
       "      <td>4963</td>\n",
       "    </tr>\n",
       "    <tr>\n",
       "      <th>11</th>\n",
       "      <td>6</td>\n",
       "      <td>0</td>\n",
       "      <td>1987</td>\n",
       "      <td>10080</td>\n",
       "      <td>8093</td>\n",
       "    </tr>\n",
       "    <tr>\n",
       "      <th>5</th>\n",
       "      <td>3</td>\n",
       "      <td>0</td>\n",
       "      <td>1736</td>\n",
       "      <td>10080</td>\n",
       "      <td>8344</td>\n",
       "    </tr>\n",
       "    <tr>\n",
       "      <th>2</th>\n",
       "      <td>1</td>\n",
       "      <td>1</td>\n",
       "      <td>1438</td>\n",
       "      <td>5856</td>\n",
       "      <td>4418</td>\n",
       "    </tr>\n",
       "  </tbody>\n",
       "</table>\n",
       "</div>"
      ],
      "text/plain": [
       "    BitPosition  Bit  Successes  Total  Failures\n",
       "0             0    1       4639  20160     15521\n",
       "1             1    0       3201  14304     11103\n",
       "6             3    1       2903  10080      7177\n",
       "12            6    1       2652  10080      7428\n",
       "9             5    0       2498  13056     10558\n",
       "7             4    0       2340  10624      8284\n",
       "3             2    0       2328  10080      7752\n",
       "4             2    1       2311  10080      7769\n",
       "8             4    1       2299   9536      7237\n",
       "10            5    1       2141   7104      4963\n",
       "11            6    0       1987  10080      8093\n",
       "5             3    0       1736  10080      8344\n",
       "2             1    1       1438   5856      4418"
      ]
     },
     "execution_count": 55,
     "metadata": {},
     "output_type": "execute_result"
    }
   ],
   "source": [
    "result_sorted\n"
   ]
  },
  {
   "cell_type": "code",
   "execution_count": 56,
   "id": "b4903254-14b5-4acc-9ee9-91c248cf5cc0",
   "metadata": {},
   "outputs": [
    {
     "name": "stderr",
     "output_type": "stream",
     "text": [
      "/tmp/ipykernel_314506/3989938024.py:1: FutureWarning: The provided callable <built-in function sum> is currently using SeriesGroupBy.sum. In a future version of pandas, the provided callable will be used directly. To keep current behavior pass the string \"sum\" instead.\n",
      "  df_bit_set = df[df['Bit'] == 1].groupby('BitPosition').agg(Successes_Set=('Success', sum))\n",
      "/tmp/ipykernel_314506/3989938024.py:2: FutureWarning: The provided callable <built-in function sum> is currently using SeriesGroupBy.sum. In a future version of pandas, the provided callable will be used directly. To keep current behavior pass the string \"sum\" instead.\n",
      "  df_bit_not_set = df[df['Bit'] == 0].groupby('BitPosition').agg(Successes_Not_Set=('Success', sum))\n"
     ]
    }
   ],
   "source": [
    "df_bit_set = df[df['Bit'] == 1].groupby('BitPosition').agg(Successes_Set=('Success', sum))\n",
    "df_bit_not_set = df[df['Bit'] == 0].groupby('BitPosition').agg(Successes_Not_Set=('Success', sum))\n",
    "\n",
    "# Merge the two DataFrames on BitPosition\n",
    "merged_df = df_bit_set.merge(df_bit_not_set, on='BitPosition', how='outer')\n"
   ]
  },
  {
   "cell_type": "code",
   "execution_count": 57,
   "id": "057c0e85-b50b-48fe-82b3-aa4e58dd5dec",
   "metadata": {},
   "outputs": [
    {
     "name": "stdout",
     "output_type": "stream",
     "text": [
      "   BitPosition  Successes_Set  Successes_Not_Set  Difference\n",
      "0            0           4639                0.0      4639.0\n",
      "1            1           1438             3201.0     -1763.0\n",
      "2            2           2311             2328.0       -17.0\n",
      "3            3           2903             1736.0      1167.0\n",
      "4            4           2299             2340.0       -41.0\n",
      "5            5           2141             2498.0      -357.0\n",
      "6            6           2652             1987.0       665.0\n"
     ]
    }
   ],
   "source": [
    "merged_df.fillna(0, inplace=True)\n",
    "\n",
    "merged_df['Difference'] = merged_df['Successes_Set'] - merged_df['Successes_Not_Set']\n",
    "\n",
    "merged_df.reset_index(inplace=True)\n",
    "\n",
    "print(merged_df)"
   ]
  },
  {
   "cell_type": "code",
   "execution_count": 58,
   "id": "f3c28f64-7716-425c-9833-c9707bb19121",
   "metadata": {},
   "outputs": [],
   "source": [
    "merged_df = merged_df.sort_values(by='Difference', ascending=False)\n"
   ]
  },
  {
   "cell_type": "code",
   "execution_count": 59,
   "id": "4ddad182-081b-4359-9607-31103294b696",
   "metadata": {},
   "outputs": [
    {
     "data": {
      "text/html": [
       "<div>\n",
       "<style scoped>\n",
       "    .dataframe tbody tr th:only-of-type {\n",
       "        vertical-align: middle;\n",
       "    }\n",
       "\n",
       "    .dataframe tbody tr th {\n",
       "        vertical-align: top;\n",
       "    }\n",
       "\n",
       "    .dataframe thead th {\n",
       "        text-align: right;\n",
       "    }\n",
       "</style>\n",
       "<table border=\"1\" class=\"dataframe\">\n",
       "  <thead>\n",
       "    <tr style=\"text-align: right;\">\n",
       "      <th></th>\n",
       "      <th>BitPosition</th>\n",
       "      <th>Successes_Set</th>\n",
       "      <th>Successes_Not_Set</th>\n",
       "      <th>Difference</th>\n",
       "    </tr>\n",
       "  </thead>\n",
       "  <tbody>\n",
       "    <tr>\n",
       "      <th>0</th>\n",
       "      <td>0</td>\n",
       "      <td>4639</td>\n",
       "      <td>0.0</td>\n",
       "      <td>4639.0</td>\n",
       "    </tr>\n",
       "    <tr>\n",
       "      <th>3</th>\n",
       "      <td>3</td>\n",
       "      <td>2903</td>\n",
       "      <td>1736.0</td>\n",
       "      <td>1167.0</td>\n",
       "    </tr>\n",
       "    <tr>\n",
       "      <th>6</th>\n",
       "      <td>6</td>\n",
       "      <td>2652</td>\n",
       "      <td>1987.0</td>\n",
       "      <td>665.0</td>\n",
       "    </tr>\n",
       "    <tr>\n",
       "      <th>2</th>\n",
       "      <td>2</td>\n",
       "      <td>2311</td>\n",
       "      <td>2328.0</td>\n",
       "      <td>-17.0</td>\n",
       "    </tr>\n",
       "    <tr>\n",
       "      <th>4</th>\n",
       "      <td>4</td>\n",
       "      <td>2299</td>\n",
       "      <td>2340.0</td>\n",
       "      <td>-41.0</td>\n",
       "    </tr>\n",
       "    <tr>\n",
       "      <th>5</th>\n",
       "      <td>5</td>\n",
       "      <td>2141</td>\n",
       "      <td>2498.0</td>\n",
       "      <td>-357.0</td>\n",
       "    </tr>\n",
       "    <tr>\n",
       "      <th>1</th>\n",
       "      <td>1</td>\n",
       "      <td>1438</td>\n",
       "      <td>3201.0</td>\n",
       "      <td>-1763.0</td>\n",
       "    </tr>\n",
       "  </tbody>\n",
       "</table>\n",
       "</div>"
      ],
      "text/plain": [
       "   BitPosition  Successes_Set  Successes_Not_Set  Difference\n",
       "0            0           4639                0.0      4639.0\n",
       "3            3           2903             1736.0      1167.0\n",
       "6            6           2652             1987.0       665.0\n",
       "2            2           2311             2328.0       -17.0\n",
       "4            4           2299             2340.0       -41.0\n",
       "5            5           2141             2498.0      -357.0\n",
       "1            1           1438             3201.0     -1763.0"
      ]
     },
     "execution_count": 59,
     "metadata": {},
     "output_type": "execute_result"
    }
   ],
   "source": [
    "merged_df"
   ]
  },
  {
   "cell_type": "code",
   "execution_count": 60,
   "id": "e3d3523e-eaf9-4248-ba3f-e485fec429ac",
   "metadata": {},
   "outputs": [],
   "source": [
    "merged_df.rename(columns={'BitPosition': 'Feature'}, inplace=True)"
   ]
  },
  {
   "cell_type": "code",
   "execution_count": 61,
   "id": "2c3ac392-f1e8-4a36-9e21-6ab5946b1fc6",
   "metadata": {
    "scrolled": true
   },
   "outputs": [
    {
     "data": {
      "text/html": [
       "<div>\n",
       "<style scoped>\n",
       "    .dataframe tbody tr th:only-of-type {\n",
       "        vertical-align: middle;\n",
       "    }\n",
       "\n",
       "    .dataframe tbody tr th {\n",
       "        vertical-align: top;\n",
       "    }\n",
       "\n",
       "    .dataframe thead th {\n",
       "        text-align: right;\n",
       "    }\n",
       "</style>\n",
       "<table border=\"1\" class=\"dataframe\">\n",
       "  <thead>\n",
       "    <tr style=\"text-align: right;\">\n",
       "      <th></th>\n",
       "      <th>Successes_Set</th>\n",
       "      <th>Successes_Not_Set</th>\n",
       "      <th>Difference</th>\n",
       "    </tr>\n",
       "    <tr>\n",
       "      <th>Feature</th>\n",
       "      <th></th>\n",
       "      <th></th>\n",
       "      <th></th>\n",
       "    </tr>\n",
       "  </thead>\n",
       "  <tbody>\n",
       "    <tr>\n",
       "      <th>the function code</th>\n",
       "      <td>4639</td>\n",
       "      <td>0.0</td>\n",
       "      <td>4639.0</td>\n",
       "    </tr>\n",
       "    <tr>\n",
       "      <th>test data</th>\n",
       "      <td>2903</td>\n",
       "      <td>1736.0</td>\n",
       "      <td>1167.0</td>\n",
       "    </tr>\n",
       "    <tr>\n",
       "      <th>CoT data</th>\n",
       "      <td>2652</td>\n",
       "      <td>1987.0</td>\n",
       "      <td>665.0</td>\n",
       "    </tr>\n",
       "    <tr>\n",
       "      <th>file data</th>\n",
       "      <td>2311</td>\n",
       "      <td>2328.0</td>\n",
       "      <td>-17.0</td>\n",
       "    </tr>\n",
       "    <tr>\n",
       "      <th>dynamic variable data</th>\n",
       "      <td>2299</td>\n",
       "      <td>2340.0</td>\n",
       "      <td>-41.0</td>\n",
       "    </tr>\n",
       "    <tr>\n",
       "      <th>Github data</th>\n",
       "      <td>2141</td>\n",
       "      <td>2498.0</td>\n",
       "      <td>-357.0</td>\n",
       "    </tr>\n",
       "    <tr>\n",
       "      <th>class data</th>\n",
       "      <td>1438</td>\n",
       "      <td>3201.0</td>\n",
       "      <td>-1763.0</td>\n",
       "    </tr>\n",
       "  </tbody>\n",
       "</table>\n",
       "</div>"
      ],
      "text/plain": [
       "                       Successes_Set  Successes_Not_Set  Difference\n",
       "Feature                                                            \n",
       "the function code               4639                0.0      4639.0\n",
       "test data                       2903             1736.0      1167.0\n",
       "CoT data                        2652             1987.0       665.0\n",
       "file data                       2311             2328.0       -17.0\n",
       "dynamic variable data           2299             2340.0       -41.0\n",
       "Github data                     2141             2498.0      -357.0\n",
       "class data                      1438             3201.0     -1763.0"
      ]
     },
     "execution_count": 61,
     "metadata": {},
     "output_type": "execute_result"
    }
   ],
   "source": [
    "index_mapping = {\n",
    "    0: 'the function code',\n",
    "    1: 'class data',\n",
    "    2: 'file data',\n",
    "    3: 'test data',\n",
    "    4: 'dynamic variable data',\n",
    "    5: 'Github data',\n",
    "    6: 'CoT data'\n",
    "}\n",
    "\n",
    "# Apply the mapping to the DataFrame's index\n",
    "merged_df['Feature'] = merged_df['Feature'].map(index_mapping)\n",
    "\n",
    "# Optionally, set 'Feature' as the new index\n",
    "merged_df.set_index('Feature', inplace=True)\n",
    "merged_df"
   ]
  },
  {
   "cell_type": "code",
   "execution_count": 62,
   "id": "32d4411c-c2da-4753-84a8-e16343e3fd54",
   "metadata": {},
   "outputs": [
    {
     "name": "stdout",
     "output_type": "stream",
     "text": [
      "Bit Pair: Bit_0, Bit_1\n",
      "Probability of Success:\n",
      " Bit_0  Bit_1\n",
      "1      0        0.229960\n",
      "       1        0.230258\n",
      "dtype: float64\n",
      "Bit Pair: Bit_0, Bit_2\n",
      "Probability of Success:\n",
      " Bit_0  Bit_2\n",
      "1      0        0.230952\n",
      "       1        0.229266\n",
      "dtype: float64\n",
      "Bit Pair: Bit_0, Bit_3\n",
      "Probability of Success:\n",
      " Bit_0  Bit_3\n",
      "1      0        0.172222\n",
      "       1        0.287996\n",
      "dtype: float64\n",
      "Bit Pair: Bit_0, Bit_4\n",
      "Probability of Success:\n",
      " Bit_0  Bit_4\n",
      "1      0        0.218353\n",
      "       1        0.241865\n",
      "dtype: float64\n",
      "Bit Pair: Bit_0, Bit_5\n",
      "Probability of Success:\n",
      " Bit_0  Bit_5\n",
      "1      0        0.192659\n",
      "       1        0.267560\n",
      "dtype: float64\n",
      "Bit Pair: Bit_0, Bit_6\n",
      "Probability of Success:\n",
      " Bit_0  Bit_6\n",
      "1      0        0.197123\n",
      "       1        0.263095\n",
      "dtype: float64\n",
      "Bit Pair: Bit_1, Bit_2\n",
      "Probability of Success:\n",
      " Bit_1  Bit_2\n",
      "0      0        0.228968\n",
      "       1        0.230952\n",
      "1      0        0.232937\n",
      "       1        0.227579\n",
      "dtype: float64\n",
      "Bit Pair: Bit_1, Bit_3\n",
      "Probability of Success:\n",
      " Bit_1  Bit_3\n",
      "0      0        0.170437\n",
      "       1        0.289484\n",
      "1      0        0.174008\n",
      "       1        0.286508\n",
      "dtype: float64\n",
      "Bit Pair: Bit_1, Bit_4\n",
      "Probability of Success:\n",
      " Bit_1  Bit_4\n",
      "0      0        0.216071\n",
      "       1        0.243849\n",
      "1      0        0.220635\n",
      "       1        0.239881\n",
      "dtype: float64\n",
      "Bit Pair: Bit_1, Bit_5\n",
      "Probability of Success:\n",
      " Bit_1  Bit_5\n",
      "0      0        0.189484\n",
      "       1        0.270437\n",
      "1      0        0.195833\n",
      "       1        0.264683\n",
      "dtype: float64\n",
      "Bit Pair: Bit_1, Bit_6\n",
      "Probability of Success:\n",
      " Bit_1  Bit_6\n",
      "0      0        0.199405\n",
      "       1        0.260516\n",
      "1      0        0.194841\n",
      "       1        0.265675\n",
      "dtype: float64\n",
      "Bit Pair: Bit_2, Bit_3\n",
      "Probability of Success:\n",
      " Bit_2  Bit_3\n",
      "0      0        0.174405\n",
      "       1        0.287500\n",
      "1      0        0.170040\n",
      "       1        0.288492\n",
      "dtype: float64\n",
      "Bit Pair: Bit_2, Bit_4\n",
      "Probability of Success:\n",
      " Bit_2  Bit_4\n",
      "0      0        0.218056\n",
      "       1        0.243849\n",
      "1      0        0.218651\n",
      "       1        0.239881\n",
      "dtype: float64\n",
      "Bit Pair: Bit_2, Bit_5\n",
      "Probability of Success:\n",
      " Bit_2  Bit_5\n",
      "0      0        0.193849\n",
      "       1        0.268056\n",
      "1      0        0.191468\n",
      "       1        0.267063\n",
      "dtype: float64\n",
      "Bit Pair: Bit_2, Bit_6\n",
      "Probability of Success:\n",
      " Bit_2  Bit_6\n",
      "0      0        0.194643\n",
      "       1        0.267262\n",
      "1      0        0.199603\n",
      "       1        0.258929\n",
      "dtype: float64\n",
      "Bit Pair: Bit_3, Bit_4\n",
      "Probability of Success:\n",
      " Bit_3  Bit_4\n",
      "0      0        0.151786\n",
      "       1        0.192659\n",
      "1      0        0.284921\n",
      "       1        0.291071\n",
      "dtype: float64\n",
      "Bit Pair: Bit_3, Bit_5\n",
      "Probability of Success:\n",
      " Bit_3  Bit_5\n",
      "0      0        0.116270\n",
      "       1        0.228175\n",
      "1      0        0.269048\n",
      "       1        0.306944\n",
      "dtype: float64\n",
      "Bit Pair: Bit_3, Bit_6\n",
      "Probability of Success:\n",
      " Bit_3  Bit_6\n",
      "0      0        0.147817\n",
      "       1        0.196627\n",
      "1      0        0.246429\n",
      "       1        0.329563\n",
      "dtype: float64\n",
      "Bit Pair: Bit_4, Bit_5\n",
      "Probability of Success:\n",
      " Bit_4  Bit_5\n",
      "0      0        0.177183\n",
      "       1        0.259524\n",
      "1      0        0.208135\n",
      "       1        0.275595\n",
      "dtype: float64\n",
      "Bit Pair: Bit_4, Bit_6\n",
      "Probability of Success:\n",
      " Bit_4  Bit_6\n",
      "0      0        0.185119\n",
      "       1        0.251587\n",
      "1      0        0.209127\n",
      "       1        0.274603\n",
      "dtype: float64\n",
      "Bit Pair: Bit_5, Bit_6\n",
      "Probability of Success:\n",
      " Bit_5  Bit_6\n",
      "0      0        0.160913\n",
      "       1        0.224405\n",
      "1      0        0.233333\n",
      "       1        0.301786\n",
      "dtype: float64\n"
     ]
    }
   ],
   "source": [
    "from itertools import combinations\n",
    "#all_data = create_bug_data_objects_395(facts_location, easy=True)\n",
    "#all_data += create_bug_data_objects_395(facts_location_395)\n",
    "\n",
    "# Prepare your data\n",
    "data = []\n",
    "for bug_data in all_data:\n",
    "    row = {'Success': bug_data.success}\n",
    "    for i, bit in enumerate(bug_data.bitvector):\n",
    "        row[f'Bit_{i}'] = int(bit)\n",
    "    data.append(row)\n",
    "\n",
    "df = pd.DataFrame(data)\n",
    "\n",
    "# Number of bits in the bitvector\n",
    "num_bits = len(all_data[0].bitvector)\n",
    "\n",
    "# Initialize a dictionary to store the results\n",
    "dependency_results = {}\n",
    "from scipy.stats import chi2_contingency\n",
    "# Iterate over pairs of bits\n",
    "for i, j in combinations(range(num_bits), 2):\n",
    "    # Create a contingency table for each pair of bits\n",
    "    contingency_table = pd.crosstab(\n",
    "        index=[df[f'Bit_{i}'], df[f'Bit_{j}']], \n",
    "        columns=df['Success'], \n",
    "        margins=False\n",
    "    )\n",
    "    dependency_results[f'Bit_{i}, Bit_{j}'] = contingency_table\n",
    "\n",
    "chi_square_results = {}\n",
    "for bit_pair, table in dependency_results.items():\n",
    "    chi2, p, dof, expected = chi2_contingency(table)\n",
    "    \n",
    "    # Print actual and expected counts for comparison\n",
    "    print(f\"Bit Pair: {bit_pair}\")\n",
    "\n",
    "    # Calculate and print conditional probabilities of success\n",
    "    total_counts = table.sum(axis=1)\n",
    "    probability_of_success = table[True] / total_counts\n",
    "    print(\"Probability of Success:\\n\", probability_of_success)\n"
   ]
  },
  {
   "cell_type": "code",
   "execution_count": 63,
   "id": "d219c82f-f777-4f95-add4-3408398fe20e",
   "metadata": {},
   "outputs": [
    {
     "name": "stdout",
     "output_type": "stream",
     "text": [
      "Bit Pair: Bit_0, Bit_1\n",
      "Probabilities of Success:\n",
      "State (1, 1): 0.2302579365079365\n",
      "State (0, 1): 0\n",
      "State (1, 0): 0.22996031746031745\n",
      "State (0, 0): 0\n",
      "-> (1, 1) has the highest probability of success for this pair.\n",
      "\n",
      "\n",
      "Bit Pair: Bit_0, Bit_2\n",
      "Probabilities of Success:\n",
      "State (1, 1): 0.229265873015873\n",
      "State (0, 1): 0\n",
      "State (1, 0): 0.23095238095238096\n",
      "State (0, 0): 0\n",
      "-> (1, 1) does NOT have the Highest probability of success for this pair.\n",
      "\n",
      "\n",
      "Bit Pair: Bit_0, Bit_3\n",
      "Probabilities of Success:\n",
      "State (1, 1): 0.2879960317460317\n",
      "State (0, 1): 0\n",
      "State (1, 0): 0.17222222222222222\n",
      "State (0, 0): 0\n",
      "-> (1, 1) has the highest probability of success for this pair.\n",
      "\n",
      "\n",
      "Bit Pair: Bit_0, Bit_4\n",
      "Probabilities of Success:\n",
      "State (1, 1): 0.24186507936507937\n",
      "State (0, 1): 0\n",
      "State (1, 0): 0.2183531746031746\n",
      "State (0, 0): 0\n",
      "-> (1, 1) has the highest probability of success for this pair.\n",
      "\n",
      "\n",
      "Bit Pair: Bit_0, Bit_5\n",
      "Probabilities of Success:\n",
      "State (1, 1): 0.2675595238095238\n",
      "State (0, 1): 0\n",
      "State (1, 0): 0.19265873015873017\n",
      "State (0, 0): 0\n",
      "-> (1, 1) has the highest probability of success for this pair.\n",
      "\n",
      "\n",
      "Bit Pair: Bit_0, Bit_6\n",
      "Probabilities of Success:\n",
      "State (1, 1): 0.2630952380952381\n",
      "State (0, 1): 0\n",
      "State (1, 0): 0.19712301587301587\n",
      "State (0, 0): 0\n",
      "-> (1, 1) has the highest probability of success for this pair.\n",
      "\n",
      "\n",
      "Bit Pair: Bit_1, Bit_2\n",
      "Probabilities of Success:\n",
      "State (1, 1): 0.22757936507936508\n",
      "State (0, 1): 0.23095238095238096\n",
      "State (1, 0): 0.23293650793650794\n",
      "State (0, 0): 0.22896825396825396\n",
      "-> (1, 1) does NOT have the Highest probability of success for this pair.\n",
      "\n",
      "\n",
      "Bit Pair: Bit_1, Bit_3\n",
      "Probabilities of Success:\n",
      "State (1, 1): 0.2865079365079365\n",
      "State (0, 1): 0.289484126984127\n",
      "State (1, 0): 0.1740079365079365\n",
      "State (0, 0): 0.17043650793650794\n",
      "-> (1, 1) does NOT have the Highest probability of success for this pair.\n",
      "\n",
      "\n",
      "Bit Pair: Bit_1, Bit_4\n",
      "Probabilities of Success:\n",
      "State (1, 1): 0.2398809523809524\n",
      "State (0, 1): 0.24384920634920634\n",
      "State (1, 0): 0.22063492063492063\n",
      "State (0, 0): 0.21607142857142858\n",
      "-> (1, 1) does NOT have the Highest probability of success for this pair.\n",
      "\n",
      "\n",
      "Bit Pair: Bit_1, Bit_5\n",
      "Probabilities of Success:\n",
      "State (1, 1): 0.2646825396825397\n",
      "State (0, 1): 0.2704365079365079\n",
      "State (1, 0): 0.19583333333333333\n",
      "State (0, 0): 0.18948412698412698\n",
      "-> (1, 1) does NOT have the Highest probability of success for this pair.\n",
      "\n",
      "\n",
      "Bit Pair: Bit_1, Bit_6\n",
      "Probabilities of Success:\n",
      "State (1, 1): 0.2656746031746032\n",
      "State (0, 1): 0.26051587301587303\n",
      "State (1, 0): 0.19484126984126984\n",
      "State (0, 0): 0.19940476190476192\n",
      "-> (1, 1) has the highest probability of success for this pair.\n",
      "\n",
      "\n",
      "Bit Pair: Bit_2, Bit_3\n",
      "Probabilities of Success:\n",
      "State (1, 1): 0.28849206349206347\n",
      "State (0, 1): 0.2875\n",
      "State (1, 0): 0.17003968253968255\n",
      "State (0, 0): 0.1744047619047619\n",
      "-> (1, 1) has the highest probability of success for this pair.\n",
      "\n",
      "\n",
      "Bit Pair: Bit_2, Bit_4\n",
      "Probabilities of Success:\n",
      "State (1, 1): 0.2398809523809524\n",
      "State (0, 1): 0.24384920634920634\n",
      "State (1, 0): 0.21865079365079365\n",
      "State (0, 0): 0.21805555555555556\n",
      "-> (1, 1) does NOT have the Highest probability of success for this pair.\n",
      "\n",
      "\n",
      "Bit Pair: Bit_2, Bit_5\n",
      "Probabilities of Success:\n",
      "State (1, 1): 0.26706349206349206\n",
      "State (0, 1): 0.26805555555555555\n",
      "State (1, 0): 0.19146825396825398\n",
      "State (0, 0): 0.19384920634920635\n",
      "-> (1, 1) does NOT have the Highest probability of success for this pair.\n",
      "\n",
      "\n",
      "Bit Pair: Bit_2, Bit_6\n",
      "Probabilities of Success:\n",
      "State (1, 1): 0.25892857142857145\n",
      "State (0, 1): 0.26726190476190476\n",
      "State (1, 0): 0.19960317460317462\n",
      "State (0, 0): 0.19464285714285715\n",
      "-> (1, 1) does NOT have the Highest probability of success for this pair.\n",
      "\n",
      "\n",
      "Bit Pair: Bit_3, Bit_4\n",
      "Probabilities of Success:\n",
      "State (1, 1): 0.2910714285714286\n",
      "State (0, 1): 0.19265873015873017\n",
      "State (1, 0): 0.2849206349206349\n",
      "State (0, 0): 0.15178571428571427\n",
      "-> (1, 1) has the highest probability of success for this pair.\n",
      "\n",
      "\n",
      "Bit Pair: Bit_3, Bit_5\n",
      "Probabilities of Success:\n",
      "State (1, 1): 0.30694444444444446\n",
      "State (0, 1): 0.22817460317460317\n",
      "State (1, 0): 0.26904761904761904\n",
      "State (0, 0): 0.11626984126984127\n",
      "-> (1, 1) has the highest probability of success for this pair.\n",
      "\n",
      "\n",
      "Bit Pair: Bit_3, Bit_6\n",
      "Probabilities of Success:\n",
      "State (1, 1): 0.32956349206349206\n",
      "State (0, 1): 0.19662698412698412\n",
      "State (1, 0): 0.24642857142857144\n",
      "State (0, 0): 0.14781746031746032\n",
      "-> (1, 1) has the highest probability of success for this pair.\n",
      "\n",
      "\n",
      "Bit Pair: Bit_4, Bit_5\n",
      "Probabilities of Success:\n",
      "State (1, 1): 0.2755952380952381\n",
      "State (0, 1): 0.25952380952380955\n",
      "State (1, 0): 0.20813492063492064\n",
      "State (0, 0): 0.1771825396825397\n",
      "-> (1, 1) has the highest probability of success for this pair.\n",
      "\n",
      "\n",
      "Bit Pair: Bit_4, Bit_6\n",
      "Probabilities of Success:\n",
      "State (1, 1): 0.2746031746031746\n",
      "State (0, 1): 0.2515873015873016\n",
      "State (1, 0): 0.20912698412698413\n",
      "State (0, 0): 0.18511904761904763\n",
      "-> (1, 1) has the highest probability of success for this pair.\n",
      "\n",
      "\n",
      "Bit Pair: Bit_5, Bit_6\n",
      "Probabilities of Success:\n",
      "State (1, 1): 0.30178571428571427\n",
      "State (0, 1): 0.2244047619047619\n",
      "State (1, 0): 0.23333333333333334\n",
      "State (0, 0): 0.16091269841269842\n",
      "-> (1, 1) has the highest probability of success for this pair.\n",
      "\n",
      "\n"
     ]
    }
   ],
   "source": [
    "for bit_pair, table in dependency_results.items():\n",
    "    print(f\"Bit Pair: {bit_pair}\")\n",
    "\n",
    "    # Calculating probabilities\n",
    "    prob_success = {}\n",
    "    total_counts = table.sum(axis=1)\n",
    "    \n",
    "    for state in [(1, 1), (0, 1), (1, 0), (0, 0)]:\n",
    "        success_count = table.loc[state, True] if state in table.index else 0\n",
    "        total_count = total_counts.loc[state] if state in total_counts.index else 0\n",
    "        prob_success[state] = success_count / total_count if total_count > 0 else 0\n",
    "\n",
    "    print(\"Probabilities of Success:\")\n",
    "    for state, prob in prob_success.items():\n",
    "        print(f\"State {state}: {prob}\")\n",
    "\n",
    "    if prob_success[(1, 1)] < max(prob_success.values()):\n",
    "        print(\"-> (1, 1) does NOT have the Highest probability of success for this pair.\")\n",
    "    else:\n",
    "        print(\"-> (1, 1) has the highest probability of success for this pair.\")\n",
    "\n",
    "    print(\"\\n\")"
   ]
  },
  {
   "cell_type": "code",
   "execution_count": 64,
   "id": "982986eb-464a-4ff1-9817-35debe9f49ea",
   "metadata": {},
   "outputs": [
    {
     "data": {
      "text/plain": [
       "20160"
      ]
     },
     "execution_count": 64,
     "metadata": {},
     "output_type": "execute_result"
    }
   ],
   "source": [
    "len(all_data)\n"
   ]
  },
  {
   "cell_type": "code",
   "execution_count": 65,
   "id": "6e94b370-4481-4131-9daf-8576b032bba5",
   "metadata": {},
   "outputs": [
    {
     "name": "stdout",
     "output_type": "stream",
     "text": [
      "              bug_id           available_bv  success_count  total_tries\n",
      "9379       ansible:5  (1, 0, 0, 1, 0, 1, 0)             12           12\n",
      "11136  youtube-dl:11  (1, 0, 1, 1, 1, 0, 0)             12           12\n",
      "11145  youtube-dl:11  (1, 0, 0, 1, 1, 0, 0)             12           12\n",
      "11146  youtube-dl:11  (1, 0, 0, 1, 0, 0, 1)             12           12\n",
      "11147  youtube-dl:11  (1, 0, 1, 1, 0, 0, 0)             12           12\n",
      "...              ...                    ...            ...          ...\n",
      "12842      thefuck:3  (1, 0, 0, 0, 0, 0, 1)              0            3\n",
      "12843      thefuck:3  (1, 0, 1, 1, 1, 0, 1)              0            3\n",
      "12844      thefuck:3  (1, 0, 0, 0, 0, 0, 0)              0            3\n",
      "12845      thefuck:3  (1, 0, 1, 0, 0, 0, 0)              0            3\n",
      "12847      thefuck:3  (1, 0, 1, 0, 0, 1, 1)              0            3\n",
      "\n",
      "[13280 rows x 4 columns]\n"
     ]
    }
   ],
   "source": [
    "from collections import defaultdict\n",
    "\n",
    "# Initialize a dictionary to store the aggregated data\n",
    "aggregated_data = defaultdict(lambda: {'success_count': 0, 'total_tries': 0})\n",
    "\n",
    "# Iterate over all_data and aggregate\n",
    "for bug_data in all_data:\n",
    "    # Create a unique key for each (bug_id, available_bv) pair\n",
    "    key = (bug_data.bug_id, tuple(bug_data.available_bv))  # Assuming available_bv is list-like\n",
    "\n",
    "    # Aggregate success_count and increment total_tries\n",
    "    aggregated_data[key]['success_count'] += bug_data.success_count\n",
    "    aggregated_data[key]['total_tries'] += 3  # Increment by 3 as each entry represents 3 tries\n",
    "\n",
    "# Convert the aggregated data to a DataFrame for easier analysis\n",
    "aggregated_df = pd.DataFrame([\n",
    "    {'bug_id': k[0], 'available_bv': k[1], 'success_count': v['success_count'], 'total_tries': v['total_tries']}\n",
    "    for k, v in aggregated_data.items()\n",
    "])\n",
    "\n",
    "# Display the DataFrame\n",
    "#print(aggregated_df)\n",
    "print(aggregated_df.sort_values(by=['success_count', 'total_tries'], ascending=False))"
   ]
  },
  {
   "cell_type": "code",
   "execution_count": 66,
   "id": "8f88c1e0-4599-40d8-80e5-7c6cd894f889",
   "metadata": {},
   "outputs": [
    {
     "name": "stdout",
     "output_type": "stream",
     "text": [
      "                bitvector  avg_success_probability\n",
      "0   (1, 0, 1, 1, 0, 0, 1)                 0.174868\n",
      "1   (1, 0, 0, 1, 1, 0, 1)                 0.173810\n",
      "2   (1, 0, 0, 1, 0, 0, 1)                 0.170635\n",
      "3   (1, 0, 1, 1, 1, 1, 1)                 0.162963\n",
      "4   (1, 0, 1, 1, 1, 0, 1)                 0.159259\n",
      "..                    ...                      ...\n",
      "59  (1, 1, 1, 0, 1, 0, 0)                 0.032804\n",
      "60  (1, 1, 0, 0, 0, 0, 1)                 0.028571\n",
      "61  (1, 1, 1, 0, 0, 0, 0)                 0.021693\n",
      "62  (1, 1, 1, 0, 0, 0, 1)                 0.021164\n",
      "63  (1, 1, 0, 0, 0, 0, 0)                 0.020106\n",
      "\n",
      "[64 rows x 2 columns]\n"
     ]
    }
   ],
   "source": [
    "aggregated_df['success_probability'] = aggregated_df['success_count'] / aggregated_df['total_tries']\n",
    "\n",
    "summed_probabilities = aggregated_df.groupby('available_bv')['success_probability'].sum()\n",
    "\n",
    "total_unique_bugs = aggregated_df['bug_id'].nunique()\n",
    "\n",
    "average_probabilities_per_bug = summed_probabilities / total_unique_bugs\n",
    "average_probabilities_df = average_probabilities_per_bug.reset_index()\n",
    "average_probabilities_df.columns = ['bitvector', 'avg_success_probability']\n",
    "\n",
    "ranked_bitvectors = average_probabilities_df.sort_values(by='avg_success_probability', ascending=False).reset_index(drop=True)\n",
    "\n",
    "print(ranked_bitvectors)"
   ]
  },
  {
   "cell_type": "code",
   "execution_count": 67,
   "id": "f39acdc5-853b-4903-86bb-758819d1908d",
   "metadata": {},
   "outputs": [
    {
     "name": "stdout",
     "output_type": "stream",
     "text": [
      "                bitvector  avg_success_probability\n",
      "28  (1, 1, 1, 1, 1, 1, 1)                 0.098413\n"
     ]
    }
   ],
   "source": [
    "target_bitvector = ('1', '1', '1', '1', '1', '1', '1')\n",
    "print(ranked_bitvectors[ranked_bitvectors['bitvector']  == target_bitvector])\n",
    "rank_row = ranked_bitvectors[ranked_bitvectors['bitvector'] == target_bitvector]\n"
   ]
  },
  {
   "cell_type": "code",
   "execution_count": 68,
   "id": "76f77076-586b-44d9-80b9-6c1bda8a05f8",
   "metadata": {},
   "outputs": [
    {
     "data": {
      "image/png": "[encoded data removed]",
      "text/plain": [
       "<Figure size 1000x600 with 1 Axes>"
      ]
     },
     "metadata": {},
     "output_type": "display_data"
    }
   ],
   "source": [
    "aggregated_df['success_probability'] = aggregated_df['success_count'] / aggregated_df['total_tries']\n",
    "pruned_df = aggregated_df[aggregated_df['success_probability'] > 0]\n",
    "\n",
    "# Plotting the distribution of success_probability\n",
    "plt.figure(figsize=(10, 6))\n",
    "sns.histplot(pruned_df['success_probability'], kde=True, binwidth=0.05)\n",
    "\n",
    "plt.title('Distribution of Prompts with > 3 tries')\n",
    "plt.xlabel('Success Probability')\n",
    "plt.ylabel('Number of (Prompt, bug) tuple')\n",
    "plt.grid(True)\n",
    "plt.show()"
   ]
  },
  {
   "cell_type": "code",
   "execution_count": 69,
   "id": "d942091d-dc12-4b1d-94bc-5b31ed148a56",
   "metadata": {},
   "outputs": [
    {
     "data": {
      "text/plain": [
       "143.25"
      ]
     },
     "execution_count": 69,
     "metadata": {},
     "output_type": "execute_result"
    }
   ],
   "source": [
    "aggregated_df['success_probability'] = aggregated_df['success_count'] / aggregated_df['total_tries']\n",
    "\n",
    "optimal_bvs = aggregated_df.loc[aggregated_df.groupby('bug_id')['success_probability'].idxmax()]\n",
    "\n",
    "expected_number_for_optimal_multiplexer = optimal_bvs['success_probability'].sum()\n",
    "\n",
    "expected_number_for_optimal_multiplexer"
   ]
  },
  {
   "cell_type": "code",
   "execution_count": 70,
   "id": "29e3c927-6552-4ca5-9e1c-59443598fb90",
   "metadata": {},
   "outputs": [
    {
     "data": {
      "text/html": [
       "<div>\n",
       "<style scoped>\n",
       "    .dataframe tbody tr th:only-of-type {\n",
       "        vertical-align: middle;\n",
       "    }\n",
       "\n",
       "    .dataframe tbody tr th {\n",
       "        vertical-align: top;\n",
       "    }\n",
       "\n",
       "    .dataframe thead th {\n",
       "        text-align: right;\n",
       "    }\n",
       "</style>\n",
       "<table border=\"1\" class=\"dataframe\">\n",
       "  <thead>\n",
       "    <tr style=\"text-align: right;\">\n",
       "      <th></th>\n",
       "      <th>bug_id</th>\n",
       "      <th>available_bv</th>\n",
       "      <th>success_count</th>\n",
       "      <th>total_tries</th>\n",
       "      <th>success_probability</th>\n",
       "    </tr>\n",
       "  </thead>\n",
       "  <tbody>\n",
       "    <tr>\n",
       "      <th>9576</th>\n",
       "      <td>ansible:1</td>\n",
       "      <td>(1, 0, 1, 1, 0, 0, 0)</td>\n",
       "      <td>0</td>\n",
       "      <td>24</td>\n",
       "      <td>0.000000</td>\n",
       "    </tr>\n",
       "    <tr>\n",
       "      <th>9416</th>\n",
       "      <td>ansible:12</td>\n",
       "      <td>(1, 0, 1, 1, 1, 0, 0)</td>\n",
       "      <td>0</td>\n",
       "      <td>3</td>\n",
       "      <td>0.000000</td>\n",
       "    </tr>\n",
       "    <tr>\n",
       "      <th>9342</th>\n",
       "      <td>ansible:14</td>\n",
       "      <td>(1, 0, 1, 1, 1, 1, 1)</td>\n",
       "      <td>1</td>\n",
       "      <td>3</td>\n",
       "      <td>0.333333</td>\n",
       "    </tr>\n",
       "    <tr>\n",
       "      <th>9496</th>\n",
       "      <td>ansible:15</td>\n",
       "      <td>(1, 0, 0, 1, 0, 1, 0)</td>\n",
       "      <td>1</td>\n",
       "      <td>6</td>\n",
       "      <td>0.166667</td>\n",
       "    </tr>\n",
       "    <tr>\n",
       "      <th>9403</th>\n",
       "      <td>ansible:3</td>\n",
       "      <td>(1, 1, 0, 1, 0, 0, 1)</td>\n",
       "      <td>1</td>\n",
       "      <td>6</td>\n",
       "      <td>0.166667</td>\n",
       "    </tr>\n",
       "    <tr>\n",
       "      <th>...</th>\n",
       "      <td>...</td>\n",
       "      <td>...</td>\n",
       "      <td>...</td>\n",
       "      <td>...</td>\n",
       "      <td>...</td>\n",
       "    </tr>\n",
       "    <tr>\n",
       "      <th>10994</th>\n",
       "      <td>youtube-dl:43</td>\n",
       "      <td>(1, 0, 0, 1, 1, 0, 1)</td>\n",
       "      <td>2</td>\n",
       "      <td>12</td>\n",
       "      <td>0.166667</td>\n",
       "    </tr>\n",
       "    <tr>\n",
       "      <th>10448</th>\n",
       "      <td>youtube-dl:5</td>\n",
       "      <td>(1, 0, 1, 1, 1, 0, 0)</td>\n",
       "      <td>1</td>\n",
       "      <td>12</td>\n",
       "      <td>0.083333</td>\n",
       "    </tr>\n",
       "    <tr>\n",
       "      <th>11090</th>\n",
       "      <td>youtube-dl:7</td>\n",
       "      <td>(1, 0, 0, 1, 1, 0, 1)</td>\n",
       "      <td>1</td>\n",
       "      <td>12</td>\n",
       "      <td>0.083333</td>\n",
       "    </tr>\n",
       "    <tr>\n",
       "      <th>10717</th>\n",
       "      <td>youtube-dl:8</td>\n",
       "      <td>(1, 1, 1, 0, 0, 0, 0)</td>\n",
       "      <td>1</td>\n",
       "      <td>6</td>\n",
       "      <td>0.166667</td>\n",
       "    </tr>\n",
       "    <tr>\n",
       "      <th>10912</th>\n",
       "      <td>youtube-dl:9</td>\n",
       "      <td>(1, 0, 1, 1, 1, 0, 0)</td>\n",
       "      <td>0</td>\n",
       "      <td>3</td>\n",
       "      <td>0.000000</td>\n",
       "    </tr>\n",
       "  </tbody>\n",
       "</table>\n",
       "<p>315 rows × 5 columns</p>\n",
       "</div>"
      ],
      "text/plain": [
       "              bug_id           available_bv  success_count  total_tries  \\\n",
       "9576       ansible:1  (1, 0, 1, 1, 0, 0, 0)              0           24   \n",
       "9416      ansible:12  (1, 0, 1, 1, 1, 0, 0)              0            3   \n",
       "9342      ansible:14  (1, 0, 1, 1, 1, 1, 1)              1            3   \n",
       "9496      ansible:15  (1, 0, 0, 1, 0, 1, 0)              1            6   \n",
       "9403       ansible:3  (1, 1, 0, 1, 0, 0, 1)              1            6   \n",
       "...              ...                    ...            ...          ...   \n",
       "10994  youtube-dl:43  (1, 0, 0, 1, 1, 0, 1)              2           12   \n",
       "10448   youtube-dl:5  (1, 0, 1, 1, 1, 0, 0)              1           12   \n",
       "11090   youtube-dl:7  (1, 0, 0, 1, 1, 0, 1)              1           12   \n",
       "10717   youtube-dl:8  (1, 1, 1, 0, 0, 0, 0)              1            6   \n",
       "10912   youtube-dl:9  (1, 0, 1, 1, 1, 0, 0)              0            3   \n",
       "\n",
       "       success_probability  \n",
       "9576              0.000000  \n",
       "9416              0.000000  \n",
       "9342              0.333333  \n",
       "9496              0.166667  \n",
       "9403              0.166667  \n",
       "...                    ...  \n",
       "10994             0.166667  \n",
       "10448             0.083333  \n",
       "11090             0.083333  \n",
       "10717             0.166667  \n",
       "10912             0.000000  \n",
       "\n",
       "[315 rows x 5 columns]"
      ]
     },
     "execution_count": 70,
     "metadata": {},
     "output_type": "execute_result"
    }
   ],
   "source": [
    "optimal_bvs"
   ]
  },
  {
   "cell_type": "code",
   "execution_count": 71,
   "id": "5b549bc3-2cb9-4251-8657-0f371a9b9faf",
   "metadata": {},
   "outputs": [
    {
     "data": {
      "text/html": [
       "<div>\n",
       "<style scoped>\n",
       "    .dataframe tbody tr th:only-of-type {\n",
       "        vertical-align: middle;\n",
       "    }\n",
       "\n",
       "    .dataframe tbody tr th {\n",
       "        vertical-align: top;\n",
       "    }\n",
       "\n",
       "    .dataframe thead th {\n",
       "        text-align: right;\n",
       "    }\n",
       "</style>\n",
       "<table border=\"1\" class=\"dataframe\">\n",
       "  <thead>\n",
       "    <tr style=\"text-align: right;\">\n",
       "      <th></th>\n",
       "      <th>bitvector</th>\n",
       "      <th>avg_success_probability</th>\n",
       "    </tr>\n",
       "  </thead>\n",
       "  <tbody>\n",
       "    <tr>\n",
       "      <th>0</th>\n",
       "      <td>(1, 0, 1, 1, 0, 0, 1)</td>\n",
       "      <td>0.174868</td>\n",
       "    </tr>\n",
       "    <tr>\n",
       "      <th>1</th>\n",
       "      <td>(1, 0, 0, 1, 1, 0, 1)</td>\n",
       "      <td>0.173810</td>\n",
       "    </tr>\n",
       "    <tr>\n",
       "      <th>2</th>\n",
       "      <td>(1, 0, 0, 1, 0, 0, 1)</td>\n",
       "      <td>0.170635</td>\n",
       "    </tr>\n",
       "    <tr>\n",
       "      <th>3</th>\n",
       "      <td>(1, 0, 1, 1, 1, 1, 1)</td>\n",
       "      <td>0.162963</td>\n",
       "    </tr>\n",
       "    <tr>\n",
       "      <th>4</th>\n",
       "      <td>(1, 0, 1, 1, 1, 0, 1)</td>\n",
       "      <td>0.159259</td>\n",
       "    </tr>\n",
       "    <tr>\n",
       "      <th>5</th>\n",
       "      <td>(1, 0, 1, 1, 0, 1, 1)</td>\n",
       "      <td>0.155556</td>\n",
       "    </tr>\n",
       "    <tr>\n",
       "      <th>6</th>\n",
       "      <td>(1, 0, 0, 1, 0, 1, 1)</td>\n",
       "      <td>0.155291</td>\n",
       "    </tr>\n",
       "    <tr>\n",
       "      <th>7</th>\n",
       "      <td>(1, 0, 0, 0, 1, 1, 1)</td>\n",
       "      <td>0.149206</td>\n",
       "    </tr>\n",
       "    <tr>\n",
       "      <th>8</th>\n",
       "      <td>(1, 0, 0, 1, 1, 1, 1)</td>\n",
       "      <td>0.137037</td>\n",
       "    </tr>\n",
       "    <tr>\n",
       "      <th>9</th>\n",
       "      <td>(1, 0, 1, 0, 1, 1, 1)</td>\n",
       "      <td>0.133333</td>\n",
       "    </tr>\n",
       "    <tr>\n",
       "      <th>10</th>\n",
       "      <td>(1, 0, 1, 1, 1, 1, 0)</td>\n",
       "      <td>0.132275</td>\n",
       "    </tr>\n",
       "    <tr>\n",
       "      <th>11</th>\n",
       "      <td>(1, 0, 0, 0, 0, 1, 1)</td>\n",
       "      <td>0.130688</td>\n",
       "    </tr>\n",
       "    <tr>\n",
       "      <th>12</th>\n",
       "      <td>(1, 0, 1, 0, 0, 1, 1)</td>\n",
       "      <td>0.128571</td>\n",
       "    </tr>\n",
       "    <tr>\n",
       "      <th>13</th>\n",
       "      <td>(1, 0, 1, 1, 0, 0, 0)</td>\n",
       "      <td>0.126455</td>\n",
       "    </tr>\n",
       "    <tr>\n",
       "      <th>14</th>\n",
       "      <td>(1, 0, 0, 1, 1, 1, 0)</td>\n",
       "      <td>0.125926</td>\n",
       "    </tr>\n",
       "    <tr>\n",
       "      <th>15</th>\n",
       "      <td>(1, 0, 1, 1, 0, 1, 0)</td>\n",
       "      <td>0.125132</td>\n",
       "    </tr>\n",
       "    <tr>\n",
       "      <th>16</th>\n",
       "      <td>(1, 0, 0, 1, 0, 0, 0)</td>\n",
       "      <td>0.124074</td>\n",
       "    </tr>\n",
       "    <tr>\n",
       "      <th>17</th>\n",
       "      <td>(1, 0, 1, 1, 1, 0, 0)</td>\n",
       "      <td>0.120899</td>\n",
       "    </tr>\n",
       "    <tr>\n",
       "      <th>18</th>\n",
       "      <td>(1, 0, 0, 1, 1, 0, 0)</td>\n",
       "      <td>0.119048</td>\n",
       "    </tr>\n",
       "    <tr>\n",
       "      <th>19</th>\n",
       "      <td>(1, 1, 0, 1, 0, 0, 1)</td>\n",
       "      <td>0.117196</td>\n",
       "    </tr>\n",
       "  </tbody>\n",
       "</table>\n",
       "</div>"
      ],
      "text/plain": [
       "                bitvector  avg_success_probability\n",
       "0   (1, 0, 1, 1, 0, 0, 1)                 0.174868\n",
       "1   (1, 0, 0, 1, 1, 0, 1)                 0.173810\n",
       "2   (1, 0, 0, 1, 0, 0, 1)                 0.170635\n",
       "3   (1, 0, 1, 1, 1, 1, 1)                 0.162963\n",
       "4   (1, 0, 1, 1, 1, 0, 1)                 0.159259\n",
       "5   (1, 0, 1, 1, 0, 1, 1)                 0.155556\n",
       "6   (1, 0, 0, 1, 0, 1, 1)                 0.155291\n",
       "7   (1, 0, 0, 0, 1, 1, 1)                 0.149206\n",
       "8   (1, 0, 0, 1, 1, 1, 1)                 0.137037\n",
       "9   (1, 0, 1, 0, 1, 1, 1)                 0.133333\n",
       "10  (1, 0, 1, 1, 1, 1, 0)                 0.132275\n",
       "11  (1, 0, 0, 0, 0, 1, 1)                 0.130688\n",
       "12  (1, 0, 1, 0, 0, 1, 1)                 0.128571\n",
       "13  (1, 0, 1, 1, 0, 0, 0)                 0.126455\n",
       "14  (1, 0, 0, 1, 1, 1, 0)                 0.125926\n",
       "15  (1, 0, 1, 1, 0, 1, 0)                 0.125132\n",
       "16  (1, 0, 0, 1, 0, 0, 0)                 0.124074\n",
       "17  (1, 0, 1, 1, 1, 0, 0)                 0.120899\n",
       "18  (1, 0, 0, 1, 1, 0, 0)                 0.119048\n",
       "19  (1, 1, 0, 1, 0, 0, 1)                 0.117196"
      ]
     },
     "execution_count": 71,
     "metadata": {},
     "output_type": "execute_result"
    }
   ],
   "source": [
    "ranked_bitvectors[:20]"
   ]
  },
  {
   "cell_type": "code",
   "execution_count": 72,
   "id": "c9eb05ca-786d-44ce-87ca-36a803562dfd",
   "metadata": {},
   "outputs": [
    {
     "data": {
      "text/html": [
       "<div>\n",
       "<style scoped>\n",
       "    .dataframe tbody tr th:only-of-type {\n",
       "        vertical-align: middle;\n",
       "    }\n",
       "\n",
       "    .dataframe tbody tr th {\n",
       "        vertical-align: top;\n",
       "    }\n",
       "\n",
       "    .dataframe thead th {\n",
       "        text-align: right;\n",
       "    }\n",
       "</style>\n",
       "<table border=\"1\" class=\"dataframe\">\n",
       "  <thead>\n",
       "    <tr style=\"text-align: right;\">\n",
       "      <th></th>\n",
       "      <th>bitvector</th>\n",
       "      <th>avg_success_probability</th>\n",
       "      <th>expected_fixes</th>\n",
       "    </tr>\n",
       "  </thead>\n",
       "  <tbody>\n",
       "    <tr>\n",
       "      <th>0</th>\n",
       "      <td>(1, 0, 1, 1, 1, 1, 1)</td>\n",
       "      <td>0.226984</td>\n",
       "      <td>71.500000</td>\n",
       "    </tr>\n",
       "    <tr>\n",
       "      <th>1</th>\n",
       "      <td>(1, 1, 0, 1, 0, 1, 1)</td>\n",
       "      <td>0.222487</td>\n",
       "      <td>70.083333</td>\n",
       "    </tr>\n",
       "    <tr>\n",
       "      <th>2</th>\n",
       "      <td>(1, 1, 1, 1, 1, 1, 1)</td>\n",
       "      <td>0.217725</td>\n",
       "      <td>68.583333</td>\n",
       "    </tr>\n",
       "    <tr>\n",
       "      <th>3</th>\n",
       "      <td>(1, 0, 1, 1, 0, 1, 1)</td>\n",
       "      <td>0.217460</td>\n",
       "      <td>68.500000</td>\n",
       "    </tr>\n",
       "    <tr>\n",
       "      <th>4</th>\n",
       "      <td>(1, 1, 1, 1, 0, 1, 1)</td>\n",
       "      <td>0.210317</td>\n",
       "      <td>66.250000</td>\n",
       "    </tr>\n",
       "    <tr>\n",
       "      <th>5</th>\n",
       "      <td>(1, 0, 0, 1, 0, 1, 1)</td>\n",
       "      <td>0.210317</td>\n",
       "      <td>66.250000</td>\n",
       "    </tr>\n",
       "    <tr>\n",
       "      <th>6</th>\n",
       "      <td>(1, 1, 0, 1, 1, 1, 1)</td>\n",
       "      <td>0.206614</td>\n",
       "      <td>65.083333</td>\n",
       "    </tr>\n",
       "    <tr>\n",
       "      <th>7</th>\n",
       "      <td>(1, 0, 0, 1, 1, 1, 1)</td>\n",
       "      <td>0.200265</td>\n",
       "      <td>63.083333</td>\n",
       "    </tr>\n",
       "    <tr>\n",
       "      <th>8</th>\n",
       "      <td>(1, 0, 0, 1, 1, 0, 1)</td>\n",
       "      <td>0.185979</td>\n",
       "      <td>58.583333</td>\n",
       "    </tr>\n",
       "    <tr>\n",
       "      <th>9</th>\n",
       "      <td>(1, 1, 1, 1, 1, 0, 1)</td>\n",
       "      <td>0.184656</td>\n",
       "      <td>58.166667</td>\n",
       "    </tr>\n",
       "  </tbody>\n",
       "</table>\n",
       "</div>"
      ],
      "text/plain": [
       "               bitvector  avg_success_probability  expected_fixes\n",
       "0  (1, 0, 1, 1, 1, 1, 1)                 0.226984       71.500000\n",
       "1  (1, 1, 0, 1, 0, 1, 1)                 0.222487       70.083333\n",
       "2  (1, 1, 1, 1, 1, 1, 1)                 0.217725       68.583333\n",
       "3  (1, 0, 1, 1, 0, 1, 1)                 0.217460       68.500000\n",
       "4  (1, 1, 1, 1, 0, 1, 1)                 0.210317       66.250000\n",
       "5  (1, 0, 0, 1, 0, 1, 1)                 0.210317       66.250000\n",
       "6  (1, 1, 0, 1, 1, 1, 1)                 0.206614       65.083333\n",
       "7  (1, 0, 0, 1, 1, 1, 1)                 0.200265       63.083333\n",
       "8  (1, 0, 0, 1, 1, 0, 1)                 0.185979       58.583333\n",
       "9  (1, 1, 1, 1, 1, 0, 1)                 0.184656       58.166667"
      ]
     },
     "execution_count": 72,
     "metadata": {},
     "output_type": "execute_result"
    }
   ],
   "source": [
    "existing_pairs = set(aggregated_df.apply(lambda x: (x['bug_id'], tuple(x['available_bv'])), axis=1))\n",
    "new_rows = []\n",
    "missing_probabilities = []\n",
    "for bug_data in all_data:\n",
    "    key = (bug_data.bug_id, tuple(bug_data.bitvector))\n",
    "    if key not in existing_pairs:\n",
    "        prob = aggregated_df.loc[\n",
    "            (aggregated_df['bug_id'] == bug_data.bug_id) & \n",
    "            (aggregated_df['available_bv'] == tuple(bug_data.available_bv)),\n",
    "            'success_probability'\n",
    "        ].max() \n",
    "        new_row = {\n",
    "            'bug_id': bug_data.bug_id, \n",
    "            'available_bv': tuple(bug_data.bitvector),\n",
    "            'success_count': None,\n",
    "            'total_tries': None,  \n",
    "            'success_probability': prob\n",
    "        }\n",
    "        new_rows.append(new_row)\n",
    "\n",
    "# Concatenate the new rows to the original DataFrame\n",
    "if new_rows:\n",
    "    aggregated_df = pd.concat([aggregated_df, pd.DataFrame(new_rows)], ignore_index=True)\n",
    "summed_probabilities = aggregated_df.groupby('available_bv')['success_probability'].sum()\n",
    "\n",
    "total_unique_bugs = aggregated_df['bug_id'].nunique()\n",
    "\n",
    "average_probabilities_per_bug = summed_probabilities / total_unique_bugs\n",
    "average_probabilities_df = average_probabilities_per_bug.reset_index()\n",
    "average_probabilities_df.columns = ['bitvector', 'avg_success_probability']\n",
    "\n",
    "ranked_bitvectors = average_probabilities_df.sort_values(by='avg_success_probability', ascending=False).reset_index(drop=True)\n",
    "ranked_bitvectors[\"expected_fixes\"] = ranked_bitvectors[\"avg_success_probability\"]*315\n",
    "ranked_bitvectors[:10]"
   ]
  },
  {
   "cell_type": "code",
   "execution_count": 73,
   "id": "cab7f60c-65c2-4773-9ab8-2f8aef9c8be4",
   "metadata": {},
   "outputs": [],
   "source": [
    "from random import gauss\n",
    "\n",
    "probabilities_dict = {(row['bug_id'], row['available_bv']): row['success_probability']\n",
    "                      for _, row in aggregated_df.iterrows()}\n",
    "\n",
    "# Update success_probability in all_data\n",
    "for data in all_data:\n",
    "    key = (data.bug_id, tuple(data.available_bv))\n",
    "    if key in probabilities_dict:\n",
    "        data.success_probability = probabilities_dict[key]\n",
    "        # Check if success_probability is between 0.2 and 0.8\n",
    "        # Modify success_probability using Gaussian randomness\n",
    "        adjustment = gauss(mu=0.2, sigma=0.1)  # Example values for mu and sigma\n",
    "        data.success_probability += 0\n",
    "        \n",
    "        data.success_probability = max(0, min(data.success_probability, 1))\n",
    "\n",
    "    else:\n",
    "        assert False"
   ]
  },
  {
   "cell_type": "code",
   "execution_count": 74,
   "id": "085b204f-8b03-4765-921c-e3125fb30599",
   "metadata": {},
   "outputs": [
    {
     "name": "stdout",
     "output_type": "stream",
     "text": [
      "Total expected number for the optimal multiplexer: 143.25\n"
     ]
    }
   ],
   "source": [
    "optimal_bvs = aggregated_df.loc[aggregated_df.groupby('bug_id')['success_probability'].idxmax()]\n",
    "sum_optimal_probabilities = optimal_bvs['success_probability'].sum()\n",
    "\n",
    "# Calculate the total expected number\n",
    "total_expected_number = sum_optimal_probabilities\n",
    "\n",
    "# Output the result\n",
    "print(\"Total expected number for the optimal multiplexer:\", total_expected_number)\n"
   ]
  },
  {
   "cell_type": "code",
   "execution_count": 75,
   "id": "2f1a190b-2ee4-4b5c-be9d-0fd3ce54ca94",
   "metadata": {},
   "outputs": [],
   "source": [
    "# Function to convert success_probability to a class\n",
    "def probability_to_class(prob, num_classes=10):\n",
    "    scaled_prob = prob * num_classes\n",
    "    # Round to the nearest integer and handle the edge case where the probability is exactly 1\n",
    "    return round(scaled_prob) if prob < 1 else num_classes - 1\n",
    "\n",
    "def estimate_score(model, test_data):\n",
    "    test_groups = {}\n",
    "    for bug in test_data:\n",
    "        if bug.bug_id not in test_groups:\n",
    "            test_groups[bug.bug_id] = []\n",
    "        test_groups[bug.bug_id].append(bug)\n",
    "\n",
    "    successful_selections = 0\n",
    "    optimal_success_count = 0\n",
    "    best_bitvectors = {}  # To store the best bitvector for each bug_id\n",
    "\n",
    "    for bug_id, bugs in test_groups.items():\n",
    "        # Get predicted classes for each bug\n",
    "        bug_predictions = [\n",
    "            (bug, model.predict([bug.feature_vector])[0]) for bug in bugs\n",
    "        ]\n",
    "\n",
    "        # Sort bugs by their predicted class in descending order\n",
    "        sorted_bugs = sorted(bug_predictions, key=lambda x: x[1], reverse=True)\n",
    "        best_bug = sorted_bugs[0][0]\n",
    "\n",
    "        best_bitvectors[bug_id] = best_bug.bitvector  # Store the best bitvector\n",
    "        actual_class = probability_to_class(best_bug.success_probability, 10)\n",
    "        if best_bug.success:\n",
    "            successful_selections += 1\n",
    "        # Check for optimal success in the group\n",
    "        if any(probability_to_class(bug.success_probability, 10) == 9 for bug in bugs):\n",
    "            optimal_success_count += 1\n",
    "            \n",
    "\n",
    "    # Calculate and print the success rates\n",
    "    success_rate = successful_selections / len(test_groups)\n",
    "    optimal_rate = optimal_success_count / len(test_groups)\n",
    "    print(f\"Success rate: {success_rate}\")\n",
    "    print(f\"Optimal success rate: {optimal_rate}\")\n",
    "    print(f\"Optimal success count: {successful_selections}\")\n",
    "\n",
    "    \n",
    "\n",
    "    # Process each group in test_groups\n",
    "    bitvector_success_rates = {}\n",
    "    for bug_id, bugs in test_groups.items():\n",
    "        bv_set = set()\n",
    "        for bug in bugs:\n",
    "            bv_set.add(bug.bitvector)\n",
    "            if bug.bitvector not in bitvector_success_rates:\n",
    "                bitvector_success_rates[bug.bitvector] = {\"successes\": 0, \"total\": 0}\n",
    "\n",
    "            bitvector_success_rates[bug.bitvector][\"total\"] += 1\n",
    "            if bug.success:\n",
    "                bitvector_success_rates[bug.bitvector][\"successes\"] += 1\n",
    "\n",
    "    # Calculate success rate for each bitvector\n",
    "    for bitvector, stats in bitvector_success_rates.items():\n",
    "        success_rate = stats[\"successes\"] / stats[\"total\"]\n",
    "        bitvector_success_rates[bitvector][\"success_rate\"] = success_rate\n",
    "    print(f\"Best bitvector (1001011): {bitvector_success_rates['1001011']}\")\n",
    "    # Find the bitvectors with the highest success rates\n",
    "    highest_success_rate = max(\n",
    "        rate[\"success_rate\"] for rate in bitvector_success_rates.values()\n",
    "    )\n",
    "    best_bitvectors = [\n",
    "        (bitvector, rate)\n",
    "        for bitvector, rate in bitvector_success_rates.items()\n",
    "        if rate[\"success_rate\"] == highest_success_rate\n",
    "    ]\n",
    "\n",
    "    # Print the best bitvectors\n",
    "    print(f\"Bitvectors with the highest success rate: {best_bitvectors}\")\n",
    "\n",
    "\n",
    "def train_and_test(all_data, include_list, model):\n",
    "    include_set = set(include_list)\n",
    "    # Create a unique set of bug IDs not in the include_list\n",
    "    unique_bug_ids = set(\n",
    "        bug.bug_id for bug in all_data if bug.bug_id not in include_set\n",
    "    )\n",
    "    include_set = set([bug.bug_id for bug in all_data if bug.bug_id in include_set])\n",
    "    # Calculate the required size of the training set for a 50/50 split\n",
    "    total_unique_ids = len(unique_bug_ids) + len(include_set)\n",
    "    required_train_size = total_unique_ids // 2\n",
    "\n",
    "    additional_ids_needed = required_train_size - len(include_set)\n",
    "\n",
    "    # Split the remaining IDs to fill up the training set\n",
    "    additional_train_ids, test_ids = train_test_split(\n",
    "        sorted(list(unique_bug_ids)), train_size=additional_ids_needed, random_state=42\n",
    "    )\n",
    "    train_ids = set(list(include_set) + additional_train_ids)\n",
    "    # Prepare the data splits\n",
    "    train_data = [bug for bug in all_data if bug.bug_id in train_ids]\n",
    "    test_data = [bug for bug in all_data if bug.bug_id in test_ids]\n",
    "    # Define the number of classes for classification\n",
    "    num_classes = 10\n",
    "\n",
    "\n",
    "    # Prepare feature vectors and class labels\n",
    "    X_train = [bug.feature_vector for bug in train_data]\n",
    "    y_train = [probability_to_class(bug.success_probability) for bug in train_data]\n",
    "\n",
    "    X_test = [bug.feature_vector for bug in test_data]\n",
    "    y_test = [probability_to_class(bug.success_probability) for bug in test_data]\n",
    "\n",
    "    # Parameter tuning using GridSearchCV\n",
    "    param_grid_rf = {\n",
    "        \"n_estimators\": [100, 200, 300],  # Increased the upper limit for more averaging\n",
    "        \"max_depth\": [5, 10, 15],  # Removed the deepest trees to prevent overfitting\n",
    "        #\"min_samples_split\": [2, 5, 10],  # Uncommented to control the minimum size of a split\n",
    "        #\"min_samples_leaf\": [1, 2, 4],  # Uncommented to control the minimum size of a leaf\n",
    "        \"max_features\": [\"sqrt\", \"log2\", None],  # Added 'None' for using all features\n",
    "        \"bootstrap\": [True],  # True is generally better for Random Forest to ensure diversity\n",
    "        \"criterion\": [\"gini\", \"entropy\"],  # Both criteria are useful\n",
    "        #\"max_leaf_nodes\": [None, 10, 20, 30],  # Added to limit the number of leaf nodes\n",
    "        \"oob_score\": [True, False]  # Out-of-bag samples to estimate generalization accuracy\n",
    "    }\n",
    "    # Parameter grid for XGBoost\n",
    "    param_grid_xgb = {\n",
    "        \"n_estimators\": [50, 100, 200],\n",
    "        \"max_depth\": [5, 10, 15, 20],\n",
    "        \"learning_rate\": [0.01, 0.1, 0.2],\n",
    "        \"subsample\": [0.5, 0.7, 1],\n",
    "        \"colsample_bytree\": [0.5, 0.7, 1],\n",
    "    }\n",
    "    if model == \"rf\":\n",
    "        model = RandomForestClassifier(random_state=42, class_weight=\"balanced\")\n",
    "        grid_search = GridSearchCV(model, param_grid_rf, cv=5, n_jobs=-1)\n",
    "        grid_search.fit(X_train, y_train)\n",
    "    elif model == \"xgb\":\n",
    "        model_xgb = XGBClassifier(\n",
    "            random_state=42, use_label_encoder=False, eval_metric=\"logloss\"\n",
    "        )\n",
    "        grid_search = GridSearchCV(\n",
    "            model_xgb, param_grid_xgb, cv=5, verbose=3, n_jobs=-1\n",
    "        )\n",
    "        grid_search.fit(X_train, y_train)\n",
    "\n",
    "    # Use the best estimator to train the model\n",
    "    best_model = grid_search.best_estimator_\n",
    "\n",
    "    # Assuming 'model' is your trained RandomForestClassifier or RandomForestRegressor instance\n",
    "    importances = best_model.feature_importances_\n",
    "\n",
    "    # To make it easier to interpret, you can sort the features by importance\n",
    "    indices = np.argsort(importances)[::-1]\n",
    "\n",
    "    # Print the feature rankings\n",
    "    print(\"Feature ranking:\")\n",
    "\n",
    "    for f in range(len(X_train[0])):  # Assuming X_train is your training feature set\n",
    "        print(f\"{f + 1}. feature {indices[f]} ({importances[indices[f]]})\")\n",
    "\n",
    "    #estimate_score(best_model, test_data)\n",
    "    #estimate_score(best_model, train_data)\n",
    "    #estimate_score(best_model, test_data + train_data)\n"
   ]
  },
  {
   "cell_type": "code",
   "execution_count": 76,
   "id": "0cc29937-12de-47bd-9ecc-aecd046d472b",
   "metadata": {},
   "outputs": [],
   "source": [
    "#train_and_test_normal(all_data, include_list, \"rf\")"
   ]
  },
  {
   "cell_type": "code",
   "execution_count": 77,
   "id": "547bc930-b95b-49e9-a81d-b447ef3a5503",
   "metadata": {},
   "outputs": [
    {
     "name": "stderr",
     "output_type": "stream",
     "text": [
      "Auto-assigning NUTS sampler...\n",
      "Initializing NUTS using jitter+adapt_diag...\n",
      "Multiprocess sampling (4 chains in 4 jobs)\n",
      "NUTS: [alpha, beta]\n"
     ]
    },
    {
     "data": {
      "text/html": [
       "\n",
       "<style>\n",
       "    /* Turns off some styling */\n",
       "    progress {\n",
       "        /* gets rid of default border in Firefox and Opera. */\n",
       "        border: none;\n",
       "        /* Needs to be in here for Safari polyfill so background images work as expected. */\n",
       "        background-size: auto;\n",
       "    }\n",
       "    progress:not([value]), progress:not([value])::-webkit-progress-bar {\n",
       "        background: repeating-linear-gradient(45deg, #7e7e7e, #7e7e7e 10px, #5c5c5c 10px, #5c5c5c 20px);\n",
       "    }\n",
       "    .progress-bar-interrupted, .progress-bar-interrupted::-webkit-progress-bar {\n",
       "        background: #F44336;\n",
       "    }\n",
       "</style>\n"
      ],
      "text/plain": [
       "<IPython.core.display.HTML object>"
      ]
     },
     "metadata": {},
     "output_type": "display_data"
    },
    {
     "data": {
      "text/html": [
       "\n",
       "    <div>\n",
       "      <progress value='16000' class='' max='16000' style='width:300px; height:20px; vertical-align: middle;'></progress>\n",
       "      100.00% [16000/16000 00:02&lt;00:00 Sampling 4 chains, 0 divergences]\n",
       "    </div>\n",
       "    "
      ],
      "text/plain": [
       "<IPython.core.display.HTML object>"
      ]
     },
     "metadata": {},
     "output_type": "display_data"
    },
    {
     "name": "stderr",
     "output_type": "stream",
     "text": [
      "Sampling 4 chains for 2_000 tune and 2_000 draw iterations (8_000 + 8_000 draws total) took 3 seconds.\n",
      "Auto-assigning NUTS sampler...\n",
      "Initializing NUTS using jitter+adapt_diag...\n",
      "Multiprocess sampling (4 chains in 4 jobs)\n",
      "NUTS: [alpha, beta]\n"
     ]
    },
    {
     "data": {
      "text/html": [
       "\n",
       "<style>\n",
       "    /* Turns off some styling */\n",
       "    progress {\n",
       "        /* gets rid of default border in Firefox and Opera. */\n",
       "        border: none;\n",
       "        /* Needs to be in here for Safari polyfill so background images work as expected. */\n",
       "        background-size: auto;\n",
       "    }\n",
       "    progress:not([value]), progress:not([value])::-webkit-progress-bar {\n",
       "        background: repeating-linear-gradient(45deg, #7e7e7e, #7e7e7e 10px, #5c5c5c 10px, #5c5c5c 20px);\n",
       "    }\n",
       "    .progress-bar-interrupted, .progress-bar-interrupted::-webkit-progress-bar {\n",
       "        background: #F44336;\n",
       "    }\n",
       "</style>\n"
      ],
      "text/plain": [
       "<IPython.core.display.HTML object>"
      ]
     },
     "metadata": {},
     "output_type": "display_data"
    },
    {
     "data": {
      "text/html": [
       "\n",
       "    <div>\n",
       "      <progress value='16000' class='' max='16000' style='width:300px; height:20px; vertical-align: middle;'></progress>\n",
       "      100.00% [16000/16000 00:02&lt;00:00 Sampling 4 chains, 0 divergences]\n",
       "    </div>\n",
       "    "
      ],
      "text/plain": [
       "<IPython.core.display.HTML object>"
      ]
     },
     "metadata": {},
     "output_type": "display_data"
    },
    {
     "name": "stderr",
     "output_type": "stream",
     "text": [
      "Sampling 4 chains for 2_000 tune and 2_000 draw iterations (8_000 + 8_000 draws total) took 3 seconds.\n",
      "Auto-assigning NUTS sampler...\n",
      "Initializing NUTS using jitter+adapt_diag...\n",
      "Multiprocess sampling (4 chains in 4 jobs)\n",
      "NUTS: [alpha, beta]\n"
     ]
    },
    {
     "data": {
      "text/html": [
       "\n",
       "<style>\n",
       "    /* Turns off some styling */\n",
       "    progress {\n",
       "        /* gets rid of default border in Firefox and Opera. */\n",
       "        border: none;\n",
       "        /* Needs to be in here for Safari polyfill so background images work as expected. */\n",
       "        background-size: auto;\n",
       "    }\n",
       "    progress:not([value]), progress:not([value])::-webkit-progress-bar {\n",
       "        background: repeating-linear-gradient(45deg, #7e7e7e, #7e7e7e 10px, #5c5c5c 10px, #5c5c5c 20px);\n",
       "    }\n",
       "    .progress-bar-interrupted, .progress-bar-interrupted::-webkit-progress-bar {\n",
       "        background: #F44336;\n",
       "    }\n",
       "</style>\n"
      ],
      "text/plain": [
       "<IPython.core.display.HTML object>"
      ]
     },
     "metadata": {},
     "output_type": "display_data"
    },
    {
     "data": {
      "text/html": [
       "\n",
       "    <div>\n",
       "      <progress value='16000' class='' max='16000' style='width:300px; height:20px; vertical-align: middle;'></progress>\n",
       "      100.00% [16000/16000 00:02&lt;00:00 Sampling 4 chains, 0 divergences]\n",
       "    </div>\n",
       "    "
      ],
      "text/plain": [
       "<IPython.core.display.HTML object>"
      ]
     },
     "metadata": {},
     "output_type": "display_data"
    },
    {
     "name": "stderr",
     "output_type": "stream",
     "text": [
      "Sampling 4 chains for 2_000 tune and 2_000 draw iterations (8_000 + 8_000 draws total) took 3 seconds.\n",
      "Auto-assigning NUTS sampler...\n",
      "Initializing NUTS using jitter+adapt_diag...\n",
      "Multiprocess sampling (4 chains in 4 jobs)\n",
      "NUTS: [alpha, beta]\n"
     ]
    },
    {
     "data": {
      "text/html": [
       "\n",
       "<style>\n",
       "    /* Turns off some styling */\n",
       "    progress {\n",
       "        /* gets rid of default border in Firefox and Opera. */\n",
       "        border: none;\n",
       "        /* Needs to be in here for Safari polyfill so background images work as expected. */\n",
       "        background-size: auto;\n",
       "    }\n",
       "    progress:not([value]), progress:not([value])::-webkit-progress-bar {\n",
       "        background: repeating-linear-gradient(45deg, #7e7e7e, #7e7e7e 10px, #5c5c5c 10px, #5c5c5c 20px);\n",
       "    }\n",
       "    .progress-bar-interrupted, .progress-bar-interrupted::-webkit-progress-bar {\n",
       "        background: #F44336;\n",
       "    }\n",
       "</style>\n"
      ],
      "text/plain": [
       "<IPython.core.display.HTML object>"
      ]
     },
     "metadata": {},
     "output_type": "display_data"
    },
    {
     "data": {
      "text/html": [
       "\n",
       "    <div>\n",
       "      <progress value='16000' class='' max='16000' style='width:300px; height:20px; vertical-align: middle;'></progress>\n",
       "      100.00% [16000/16000 00:02&lt;00:00 Sampling 4 chains, 0 divergences]\n",
       "    </div>\n",
       "    "
      ],
      "text/plain": [
       "<IPython.core.display.HTML object>"
      ]
     },
     "metadata": {},
     "output_type": "display_data"
    },
    {
     "name": "stderr",
     "output_type": "stream",
     "text": [
      "Sampling 4 chains for 2_000 tune and 2_000 draw iterations (8_000 + 8_000 draws total) took 3 seconds.\n",
      "Auto-assigning NUTS sampler...\n",
      "Initializing NUTS using jitter+adapt_diag...\n",
      "Multiprocess sampling (4 chains in 4 jobs)\n",
      "NUTS: [alpha, beta]\n"
     ]
    },
    {
     "data": {
      "text/html": [
       "\n",
       "<style>\n",
       "    /* Turns off some styling */\n",
       "    progress {\n",
       "        /* gets rid of default border in Firefox and Opera. */\n",
       "        border: none;\n",
       "        /* Needs to be in here for Safari polyfill so background images work as expected. */\n",
       "        background-size: auto;\n",
       "    }\n",
       "    progress:not([value]), progress:not([value])::-webkit-progress-bar {\n",
       "        background: repeating-linear-gradient(45deg, #7e7e7e, #7e7e7e 10px, #5c5c5c 10px, #5c5c5c 20px);\n",
       "    }\n",
       "    .progress-bar-interrupted, .progress-bar-interrupted::-webkit-progress-bar {\n",
       "        background: #F44336;\n",
       "    }\n",
       "</style>\n"
      ],
      "text/plain": [
       "<IPython.core.display.HTML object>"
      ]
     },
     "metadata": {},
     "output_type": "display_data"
    },
    {
     "data": {
      "text/html": [
       "\n",
       "    <div>\n",
       "      <progress value='16000' class='' max='16000' style='width:300px; height:20px; vertical-align: middle;'></progress>\n",
       "      100.00% [16000/16000 00:03&lt;00:00 Sampling 4 chains, 0 divergences]\n",
       "    </div>\n",
       "    "
      ],
      "text/plain": [
       "<IPython.core.display.HTML object>"
      ]
     },
     "metadata": {},
     "output_type": "display_data"
    },
    {
     "name": "stderr",
     "output_type": "stream",
     "text": [
      "Sampling 4 chains for 2_000 tune and 2_000 draw iterations (8_000 + 8_000 draws total) took 3 seconds.\n",
      "Auto-assigning NUTS sampler...\n",
      "Initializing NUTS using jitter+adapt_diag...\n",
      "Multiprocess sampling (4 chains in 4 jobs)\n",
      "NUTS: [alpha, beta]\n"
     ]
    },
    {
     "data": {
      "text/html": [
       "\n",
       "<style>\n",
       "    /* Turns off some styling */\n",
       "    progress {\n",
       "        /* gets rid of default border in Firefox and Opera. */\n",
       "        border: none;\n",
       "        /* Needs to be in here for Safari polyfill so background images work as expected. */\n",
       "        background-size: auto;\n",
       "    }\n",
       "    progress:not([value]), progress:not([value])::-webkit-progress-bar {\n",
       "        background: repeating-linear-gradient(45deg, #7e7e7e, #7e7e7e 10px, #5c5c5c 10px, #5c5c5c 20px);\n",
       "    }\n",
       "    .progress-bar-interrupted, .progress-bar-interrupted::-webkit-progress-bar {\n",
       "        background: #F44336;\n",
       "    }\n",
       "</style>\n"
      ],
      "text/plain": [
       "<IPython.core.display.HTML object>"
      ]
     },
     "metadata": {},
     "output_type": "display_data"
    },
    {
     "data": {
      "text/html": [
       "\n",
       "    <div>\n",
       "      <progress value='16000' class='' max='16000' style='width:300px; height:20px; vertical-align: middle;'></progress>\n",
       "      100.00% [16000/16000 00:03&lt;00:00 Sampling 4 chains, 0 divergences]\n",
       "    </div>\n",
       "    "
      ],
      "text/plain": [
       "<IPython.core.display.HTML object>"
      ]
     },
     "metadata": {},
     "output_type": "display_data"
    },
    {
     "name": "stderr",
     "output_type": "stream",
     "text": [
      "Sampling 4 chains for 2_000 tune and 2_000 draw iterations (8_000 + 8_000 draws total) took 3 seconds.\n",
      "Auto-assigning NUTS sampler...\n",
      "Initializing NUTS using jitter+adapt_diag...\n",
      "Multiprocess sampling (4 chains in 4 jobs)\n",
      "NUTS: [alpha, beta]\n"
     ]
    },
    {
     "data": {
      "text/html": [
       "\n",
       "<style>\n",
       "    /* Turns off some styling */\n",
       "    progress {\n",
       "        /* gets rid of default border in Firefox and Opera. */\n",
       "        border: none;\n",
       "        /* Needs to be in here for Safari polyfill so background images work as expected. */\n",
       "        background-size: auto;\n",
       "    }\n",
       "    progress:not([value]), progress:not([value])::-webkit-progress-bar {\n",
       "        background: repeating-linear-gradient(45deg, #7e7e7e, #7e7e7e 10px, #5c5c5c 10px, #5c5c5c 20px);\n",
       "    }\n",
       "    .progress-bar-interrupted, .progress-bar-interrupted::-webkit-progress-bar {\n",
       "        background: #F44336;\n",
       "    }\n",
       "</style>\n"
      ],
      "text/plain": [
       "<IPython.core.display.HTML object>"
      ]
     },
     "metadata": {},
     "output_type": "display_data"
    },
    {
     "data": {
      "text/html": [
       "\n",
       "    <div>\n",
       "      <progress value='16000' class='' max='16000' style='width:300px; height:20px; vertical-align: middle;'></progress>\n",
       "      100.00% [16000/16000 00:03&lt;00:00 Sampling 4 chains, 0 divergences]\n",
       "    </div>\n",
       "    "
      ],
      "text/plain": [
       "<IPython.core.display.HTML object>"
      ]
     },
     "metadata": {},
     "output_type": "display_data"
    },
    {
     "name": "stderr",
     "output_type": "stream",
     "text": [
      "Sampling 4 chains for 2_000 tune and 2_000 draw iterations (8_000 + 8_000 draws total) took 4 seconds.\n",
      "Auto-assigning NUTS sampler...\n",
      "Initializing NUTS using jitter+adapt_diag...\n",
      "Multiprocess sampling (4 chains in 4 jobs)\n",
      "NUTS: [alpha, beta]\n"
     ]
    },
    {
     "data": {
      "text/html": [
       "\n",
       "<style>\n",
       "    /* Turns off some styling */\n",
       "    progress {\n",
       "        /* gets rid of default border in Firefox and Opera. */\n",
       "        border: none;\n",
       "        /* Needs to be in here for Safari polyfill so background images work as expected. */\n",
       "        background-size: auto;\n",
       "    }\n",
       "    progress:not([value]), progress:not([value])::-webkit-progress-bar {\n",
       "        background: repeating-linear-gradient(45deg, #7e7e7e, #7e7e7e 10px, #5c5c5c 10px, #5c5c5c 20px);\n",
       "    }\n",
       "    .progress-bar-interrupted, .progress-bar-interrupted::-webkit-progress-bar {\n",
       "        background: #F44336;\n",
       "    }\n",
       "</style>\n"
      ],
      "text/plain": [
       "<IPython.core.display.HTML object>"
      ]
     },
     "metadata": {},
     "output_type": "display_data"
    },
    {
     "data": {
      "text/html": [
       "\n",
       "    <div>\n",
       "      <progress value='16000' class='' max='16000' style='width:300px; height:20px; vertical-align: middle;'></progress>\n",
       "      100.00% [16000/16000 00:02&lt;00:00 Sampling 4 chains, 0 divergences]\n",
       "    </div>\n",
       "    "
      ],
      "text/plain": [
       "<IPython.core.display.HTML object>"
      ]
     },
     "metadata": {},
     "output_type": "display_data"
    },
    {
     "name": "stderr",
     "output_type": "stream",
     "text": [
      "Sampling 4 chains for 2_000 tune and 2_000 draw iterations (8_000 + 8_000 draws total) took 3 seconds.\n",
      "Auto-assigning NUTS sampler...\n",
      "Initializing NUTS using jitter+adapt_diag...\n",
      "Multiprocess sampling (4 chains in 4 jobs)\n",
      "NUTS: [alpha, beta]\n"
     ]
    },
    {
     "data": {
      "text/html": [
       "\n",
       "<style>\n",
       "    /* Turns off some styling */\n",
       "    progress {\n",
       "        /* gets rid of default border in Firefox and Opera. */\n",
       "        border: none;\n",
       "        /* Needs to be in here for Safari polyfill so background images work as expected. */\n",
       "        background-size: auto;\n",
       "    }\n",
       "    progress:not([value]), progress:not([value])::-webkit-progress-bar {\n",
       "        background: repeating-linear-gradient(45deg, #7e7e7e, #7e7e7e 10px, #5c5c5c 10px, #5c5c5c 20px);\n",
       "    }\n",
       "    .progress-bar-interrupted, .progress-bar-interrupted::-webkit-progress-bar {\n",
       "        background: #F44336;\n",
       "    }\n",
       "</style>\n"
      ],
      "text/plain": [
       "<IPython.core.display.HTML object>"
      ]
     },
     "metadata": {},
     "output_type": "display_data"
    },
    {
     "data": {
      "text/html": [
       "\n",
       "    <div>\n",
       "      <progress value='16000' class='' max='16000' style='width:300px; height:20px; vertical-align: middle;'></progress>\n",
       "      100.00% [16000/16000 00:02&lt;00:00 Sampling 4 chains, 0 divergences]\n",
       "    </div>\n",
       "    "
      ],
      "text/plain": [
       "<IPython.core.display.HTML object>"
      ]
     },
     "metadata": {},
     "output_type": "display_data"
    },
    {
     "name": "stderr",
     "output_type": "stream",
     "text": [
      "Sampling 4 chains for 2_000 tune and 2_000 draw iterations (8_000 + 8_000 draws total) took 3 seconds.\n",
      "Auto-assigning NUTS sampler...\n",
      "Initializing NUTS using jitter+adapt_diag...\n",
      "Multiprocess sampling (4 chains in 4 jobs)\n",
      "NUTS: [alpha, beta]\n"
     ]
    },
    {
     "data": {
      "text/html": [
       "\n",
       "<style>\n",
       "    /* Turns off some styling */\n",
       "    progress {\n",
       "        /* gets rid of default border in Firefox and Opera. */\n",
       "        border: none;\n",
       "        /* Needs to be in here for Safari polyfill so background images work as expected. */\n",
       "        background-size: auto;\n",
       "    }\n",
       "    progress:not([value]), progress:not([value])::-webkit-progress-bar {\n",
       "        background: repeating-linear-gradient(45deg, #7e7e7e, #7e7e7e 10px, #5c5c5c 10px, #5c5c5c 20px);\n",
       "    }\n",
       "    .progress-bar-interrupted, .progress-bar-interrupted::-webkit-progress-bar {\n",
       "        background: #F44336;\n",
       "    }\n",
       "</style>\n"
      ],
      "text/plain": [
       "<IPython.core.display.HTML object>"
      ]
     },
     "metadata": {},
     "output_type": "display_data"
    },
    {
     "data": {
      "text/html": [
       "\n",
       "    <div>\n",
       "      <progress value='16000' class='' max='16000' style='width:300px; height:20px; vertical-align: middle;'></progress>\n",
       "      100.00% [16000/16000 00:02&lt;00:00 Sampling 4 chains, 0 divergences]\n",
       "    </div>\n",
       "    "
      ],
      "text/plain": [
       "<IPython.core.display.HTML object>"
      ]
     },
     "metadata": {},
     "output_type": "display_data"
    },
    {
     "name": "stderr",
     "output_type": "stream",
     "text": [
      "Sampling 4 chains for 2_000 tune and 2_000 draw iterations (8_000 + 8_000 draws total) took 3 seconds.\n",
      "Auto-assigning NUTS sampler...\n",
      "Initializing NUTS using jitter+adapt_diag...\n",
      "Multiprocess sampling (4 chains in 4 jobs)\n",
      "NUTS: [alpha, beta]\n"
     ]
    },
    {
     "data": {
      "text/html": [
       "\n",
       "<style>\n",
       "    /* Turns off some styling */\n",
       "    progress {\n",
       "        /* gets rid of default border in Firefox and Opera. */\n",
       "        border: none;\n",
       "        /* Needs to be in here for Safari polyfill so background images work as expected. */\n",
       "        background-size: auto;\n",
       "    }\n",
       "    progress:not([value]), progress:not([value])::-webkit-progress-bar {\n",
       "        background: repeating-linear-gradient(45deg, #7e7e7e, #7e7e7e 10px, #5c5c5c 10px, #5c5c5c 20px);\n",
       "    }\n",
       "    .progress-bar-interrupted, .progress-bar-interrupted::-webkit-progress-bar {\n",
       "        background: #F44336;\n",
       "    }\n",
       "</style>\n"
      ],
      "text/plain": [
       "<IPython.core.display.HTML object>"
      ]
     },
     "metadata": {},
     "output_type": "display_data"
    },
    {
     "data": {
      "text/html": [
       "\n",
       "    <div>\n",
       "      <progress value='16000' class='' max='16000' style='width:300px; height:20px; vertical-align: middle;'></progress>\n",
       "      100.00% [16000/16000 00:02&lt;00:00 Sampling 4 chains, 0 divergences]\n",
       "    </div>\n",
       "    "
      ],
      "text/plain": [
       "<IPython.core.display.HTML object>"
      ]
     },
     "metadata": {},
     "output_type": "display_data"
    },
    {
     "name": "stderr",
     "output_type": "stream",
     "text": [
      "Sampling 4 chains for 2_000 tune and 2_000 draw iterations (8_000 + 8_000 draws total) took 3 seconds.\n",
      "Auto-assigning NUTS sampler...\n",
      "Initializing NUTS using jitter+adapt_diag...\n",
      "Multiprocess sampling (4 chains in 4 jobs)\n",
      "NUTS: [alpha, beta]\n"
     ]
    },
    {
     "data": {
      "text/html": [
       "\n",
       "<style>\n",
       "    /* Turns off some styling */\n",
       "    progress {\n",
       "        /* gets rid of default border in Firefox and Opera. */\n",
       "        border: none;\n",
       "        /* Needs to be in here for Safari polyfill so background images work as expected. */\n",
       "        background-size: auto;\n",
       "    }\n",
       "    progress:not([value]), progress:not([value])::-webkit-progress-bar {\n",
       "        background: repeating-linear-gradient(45deg, #7e7e7e, #7e7e7e 10px, #5c5c5c 10px, #5c5c5c 20px);\n",
       "    }\n",
       "    .progress-bar-interrupted, .progress-bar-interrupted::-webkit-progress-bar {\n",
       "        background: #F44336;\n",
       "    }\n",
       "</style>\n"
      ],
      "text/plain": [
       "<IPython.core.display.HTML object>"
      ]
     },
     "metadata": {},
     "output_type": "display_data"
    },
    {
     "data": {
      "text/html": [
       "\n",
       "    <div>\n",
       "      <progress value='16000' class='' max='16000' style='width:300px; height:20px; vertical-align: middle;'></progress>\n",
       "      100.00% [16000/16000 00:02&lt;00:00 Sampling 4 chains, 0 divergences]\n",
       "    </div>\n",
       "    "
      ],
      "text/plain": [
       "<IPython.core.display.HTML object>"
      ]
     },
     "metadata": {},
     "output_type": "display_data"
    },
    {
     "name": "stderr",
     "output_type": "stream",
     "text": [
      "Sampling 4 chains for 2_000 tune and 2_000 draw iterations (8_000 + 8_000 draws total) took 3 seconds.\n",
      "Auto-assigning NUTS sampler...\n",
      "Initializing NUTS using jitter+adapt_diag...\n",
      "Multiprocess sampling (4 chains in 4 jobs)\n",
      "NUTS: [alpha, beta]\n"
     ]
    },
    {
     "data": {
      "text/html": [
       "\n",
       "<style>\n",
       "    /* Turns off some styling */\n",
       "    progress {\n",
       "        /* gets rid of default border in Firefox and Opera. */\n",
       "        border: none;\n",
       "        /* Needs to be in here for Safari polyfill so background images work as expected. */\n",
       "        background-size: auto;\n",
       "    }\n",
       "    progress:not([value]), progress:not([value])::-webkit-progress-bar {\n",
       "        background: repeating-linear-gradient(45deg, #7e7e7e, #7e7e7e 10px, #5c5c5c 10px, #5c5c5c 20px);\n",
       "    }\n",
       "    .progress-bar-interrupted, .progress-bar-interrupted::-webkit-progress-bar {\n",
       "        background: #F44336;\n",
       "    }\n",
       "</style>\n"
      ],
      "text/plain": [
       "<IPython.core.display.HTML object>"
      ]
     },
     "metadata": {},
     "output_type": "display_data"
    },
    {
     "data": {
      "text/html": [
       "\n",
       "    <div>\n",
       "      <progress value='16000' class='' max='16000' style='width:300px; height:20px; vertical-align: middle;'></progress>\n",
       "      100.00% [16000/16000 00:02&lt;00:00 Sampling 4 chains, 0 divergences]\n",
       "    </div>\n",
       "    "
      ],
      "text/plain": [
       "<IPython.core.display.HTML object>"
      ]
     },
     "metadata": {},
     "output_type": "display_data"
    },
    {
     "name": "stderr",
     "output_type": "stream",
     "text": [
      "Sampling 4 chains for 2_000 tune and 2_000 draw iterations (8_000 + 8_000 draws total) took 3 seconds.\n",
      "Auto-assigning NUTS sampler...\n",
      "Initializing NUTS using jitter+adapt_diag...\n",
      "Multiprocess sampling (4 chains in 4 jobs)\n",
      "NUTS: [alpha, beta]\n"
     ]
    },
    {
     "data": {
      "text/html": [
       "\n",
       "<style>\n",
       "    /* Turns off some styling */\n",
       "    progress {\n",
       "        /* gets rid of default border in Firefox and Opera. */\n",
       "        border: none;\n",
       "        /* Needs to be in here for Safari polyfill so background images work as expected. */\n",
       "        background-size: auto;\n",
       "    }\n",
       "    progress:not([value]), progress:not([value])::-webkit-progress-bar {\n",
       "        background: repeating-linear-gradient(45deg, #7e7e7e, #7e7e7e 10px, #5c5c5c 10px, #5c5c5c 20px);\n",
       "    }\n",
       "    .progress-bar-interrupted, .progress-bar-interrupted::-webkit-progress-bar {\n",
       "        background: #F44336;\n",
       "    }\n",
       "</style>\n"
      ],
      "text/plain": [
       "<IPython.core.display.HTML object>"
      ]
     },
     "metadata": {},
     "output_type": "display_data"
    },
    {
     "data": {
      "text/html": [
       "\n",
       "    <div>\n",
       "      <progress value='16000' class='' max='16000' style='width:300px; height:20px; vertical-align: middle;'></progress>\n",
       "      100.00% [16000/16000 00:02&lt;00:00 Sampling 4 chains, 0 divergences]\n",
       "    </div>\n",
       "    "
      ],
      "text/plain": [
       "<IPython.core.display.HTML object>"
      ]
     },
     "metadata": {},
     "output_type": "display_data"
    },
    {
     "name": "stderr",
     "output_type": "stream",
     "text": [
      "Sampling 4 chains for 2_000 tune and 2_000 draw iterations (8_000 + 8_000 draws total) took 3 seconds.\n",
      "Auto-assigning NUTS sampler...\n",
      "Initializing NUTS using jitter+adapt_diag...\n",
      "Multiprocess sampling (4 chains in 4 jobs)\n",
      "NUTS: [alpha, beta]\n"
     ]
    },
    {
     "data": {
      "text/html": [
       "\n",
       "<style>\n",
       "    /* Turns off some styling */\n",
       "    progress {\n",
       "        /* gets rid of default border in Firefox and Opera. */\n",
       "        border: none;\n",
       "        /* Needs to be in here for Safari polyfill so background images work as expected. */\n",
       "        background-size: auto;\n",
       "    }\n",
       "    progress:not([value]), progress:not([value])::-webkit-progress-bar {\n",
       "        background: repeating-linear-gradient(45deg, #7e7e7e, #7e7e7e 10px, #5c5c5c 10px, #5c5c5c 20px);\n",
       "    }\n",
       "    .progress-bar-interrupted, .progress-bar-interrupted::-webkit-progress-bar {\n",
       "        background: #F44336;\n",
       "    }\n",
       "</style>\n"
      ],
      "text/plain": [
       "<IPython.core.display.HTML object>"
      ]
     },
     "metadata": {},
     "output_type": "display_data"
    },
    {
     "data": {
      "text/html": [
       "\n",
       "    <div>\n",
       "      <progress value='16000' class='' max='16000' style='width:300px; height:20px; vertical-align: middle;'></progress>\n",
       "      100.00% [16000/16000 00:03&lt;00:00 Sampling 4 chains, 0 divergences]\n",
       "    </div>\n",
       "    "
      ],
      "text/plain": [
       "<IPython.core.display.HTML object>"
      ]
     },
     "metadata": {},
     "output_type": "display_data"
    },
    {
     "name": "stderr",
     "output_type": "stream",
     "text": [
      "Sampling 4 chains for 2_000 tune and 2_000 draw iterations (8_000 + 8_000 draws total) took 3 seconds.\n",
      "Auto-assigning NUTS sampler...\n",
      "Initializing NUTS using jitter+adapt_diag...\n",
      "Multiprocess sampling (4 chains in 4 jobs)\n",
      "NUTS: [alpha, beta]\n"
     ]
    },
    {
     "data": {
      "text/html": [
       "\n",
       "<style>\n",
       "    /* Turns off some styling */\n",
       "    progress {\n",
       "        /* gets rid of default border in Firefox and Opera. */\n",
       "        border: none;\n",
       "        /* Needs to be in here for Safari polyfill so background images work as expected. */\n",
       "        background-size: auto;\n",
       "    }\n",
       "    progress:not([value]), progress:not([value])::-webkit-progress-bar {\n",
       "        background: repeating-linear-gradient(45deg, #7e7e7e, #7e7e7e 10px, #5c5c5c 10px, #5c5c5c 20px);\n",
       "    }\n",
       "    .progress-bar-interrupted, .progress-bar-interrupted::-webkit-progress-bar {\n",
       "        background: #F44336;\n",
       "    }\n",
       "</style>\n"
      ],
      "text/plain": [
       "<IPython.core.display.HTML object>"
      ]
     },
     "metadata": {},
     "output_type": "display_data"
    },
    {
     "data": {
      "text/html": [
       "\n",
       "    <div>\n",
       "      <progress value='16000' class='' max='16000' style='width:300px; height:20px; vertical-align: middle;'></progress>\n",
       "      100.00% [16000/16000 00:03&lt;00:00 Sampling 4 chains, 0 divergences]\n",
       "    </div>\n",
       "    "
      ],
      "text/plain": [
       "<IPython.core.display.HTML object>"
      ]
     },
     "metadata": {},
     "output_type": "display_data"
    },
    {
     "name": "stderr",
     "output_type": "stream",
     "text": [
      "Sampling 4 chains for 2_000 tune and 2_000 draw iterations (8_000 + 8_000 draws total) took 3 seconds.\n",
      "Auto-assigning NUTS sampler...\n",
      "Initializing NUTS using jitter+adapt_diag...\n",
      "Multiprocess sampling (4 chains in 4 jobs)\n",
      "NUTS: [alpha, beta]\n"
     ]
    },
    {
     "data": {
      "text/html": [
       "\n",
       "<style>\n",
       "    /* Turns off some styling */\n",
       "    progress {\n",
       "        /* gets rid of default border in Firefox and Opera. */\n",
       "        border: none;\n",
       "        /* Needs to be in here for Safari polyfill so background images work as expected. */\n",
       "        background-size: auto;\n",
       "    }\n",
       "    progress:not([value]), progress:not([value])::-webkit-progress-bar {\n",
       "        background: repeating-linear-gradient(45deg, #7e7e7e, #7e7e7e 10px, #5c5c5c 10px, #5c5c5c 20px);\n",
       "    }\n",
       "    .progress-bar-interrupted, .progress-bar-interrupted::-webkit-progress-bar {\n",
       "        background: #F44336;\n",
       "    }\n",
       "</style>\n"
      ],
      "text/plain": [
       "<IPython.core.display.HTML object>"
      ]
     },
     "metadata": {},
     "output_type": "display_data"
    },
    {
     "data": {
      "text/html": [
       "\n",
       "    <div>\n",
       "      <progress value='16000' class='' max='16000' style='width:300px; height:20px; vertical-align: middle;'></progress>\n",
       "      100.00% [16000/16000 00:02&lt;00:00 Sampling 4 chains, 0 divergences]\n",
       "    </div>\n",
       "    "
      ],
      "text/plain": [
       "<IPython.core.display.HTML object>"
      ]
     },
     "metadata": {},
     "output_type": "display_data"
    },
    {
     "name": "stderr",
     "output_type": "stream",
     "text": [
      "Sampling 4 chains for 2_000 tune and 2_000 draw iterations (8_000 + 8_000 draws total) took 3 seconds.\n",
      "Auto-assigning NUTS sampler...\n",
      "Initializing NUTS using jitter+adapt_diag...\n",
      "Multiprocess sampling (4 chains in 4 jobs)\n",
      "NUTS: [alpha, beta]\n"
     ]
    },
    {
     "data": {
      "text/html": [
       "\n",
       "<style>\n",
       "    /* Turns off some styling */\n",
       "    progress {\n",
       "        /* gets rid of default border in Firefox and Opera. */\n",
       "        border: none;\n",
       "        /* Needs to be in here for Safari polyfill so background images work as expected. */\n",
       "        background-size: auto;\n",
       "    }\n",
       "    progress:not([value]), progress:not([value])::-webkit-progress-bar {\n",
       "        background: repeating-linear-gradient(45deg, #7e7e7e, #7e7e7e 10px, #5c5c5c 10px, #5c5c5c 20px);\n",
       "    }\n",
       "    .progress-bar-interrupted, .progress-bar-interrupted::-webkit-progress-bar {\n",
       "        background: #F44336;\n",
       "    }\n",
       "</style>\n"
      ],
      "text/plain": [
       "<IPython.core.display.HTML object>"
      ]
     },
     "metadata": {},
     "output_type": "display_data"
    },
    {
     "data": {
      "text/html": [
       "\n",
       "    <div>\n",
       "      <progress value='16000' class='' max='16000' style='width:300px; height:20px; vertical-align: middle;'></progress>\n",
       "      100.00% [16000/16000 00:02&lt;00:00 Sampling 4 chains, 0 divergences]\n",
       "    </div>\n",
       "    "
      ],
      "text/plain": [
       "<IPython.core.display.HTML object>"
      ]
     },
     "metadata": {},
     "output_type": "display_data"
    },
    {
     "name": "stderr",
     "output_type": "stream",
     "text": [
      "Sampling 4 chains for 2_000 tune and 2_000 draw iterations (8_000 + 8_000 draws total) took 3 seconds.\n",
      "Auto-assigning NUTS sampler...\n",
      "Initializing NUTS using jitter+adapt_diag...\n",
      "Multiprocess sampling (4 chains in 4 jobs)\n",
      "NUTS: [alpha, beta]\n"
     ]
    },
    {
     "data": {
      "text/html": [
       "\n",
       "<style>\n",
       "    /* Turns off some styling */\n",
       "    progress {\n",
       "        /* gets rid of default border in Firefox and Opera. */\n",
       "        border: none;\n",
       "        /* Needs to be in here for Safari polyfill so background images work as expected. */\n",
       "        background-size: auto;\n",
       "    }\n",
       "    progress:not([value]), progress:not([value])::-webkit-progress-bar {\n",
       "        background: repeating-linear-gradient(45deg, #7e7e7e, #7e7e7e 10px, #5c5c5c 10px, #5c5c5c 20px);\n",
       "    }\n",
       "    .progress-bar-interrupted, .progress-bar-interrupted::-webkit-progress-bar {\n",
       "        background: #F44336;\n",
       "    }\n",
       "</style>\n"
      ],
      "text/plain": [
       "<IPython.core.display.HTML object>"
      ]
     },
     "metadata": {},
     "output_type": "display_data"
    },
    {
     "data": {
      "text/html": [
       "\n",
       "    <div>\n",
       "      <progress value='16000' class='' max='16000' style='width:300px; height:20px; vertical-align: middle;'></progress>\n",
       "      100.00% [16000/16000 00:02&lt;00:00 Sampling 4 chains, 0 divergences]\n",
       "    </div>\n",
       "    "
      ],
      "text/plain": [
       "<IPython.core.display.HTML object>"
      ]
     },
     "metadata": {},
     "output_type": "display_data"
    },
    {
     "name": "stderr",
     "output_type": "stream",
     "text": [
      "Sampling 4 chains for 2_000 tune and 2_000 draw iterations (8_000 + 8_000 draws total) took 3 seconds.\n",
      "Auto-assigning NUTS sampler...\n",
      "Initializing NUTS using jitter+adapt_diag...\n",
      "Multiprocess sampling (4 chains in 4 jobs)\n",
      "NUTS: [alpha, beta]\n"
     ]
    },
    {
     "data": {
      "text/html": [
       "\n",
       "<style>\n",
       "    /* Turns off some styling */\n",
       "    progress {\n",
       "        /* gets rid of default border in Firefox and Opera. */\n",
       "        border: none;\n",
       "        /* Needs to be in here for Safari polyfill so background images work as expected. */\n",
       "        background-size: auto;\n",
       "    }\n",
       "    progress:not([value]), progress:not([value])::-webkit-progress-bar {\n",
       "        background: repeating-linear-gradient(45deg, #7e7e7e, #7e7e7e 10px, #5c5c5c 10px, #5c5c5c 20px);\n",
       "    }\n",
       "    .progress-bar-interrupted, .progress-bar-interrupted::-webkit-progress-bar {\n",
       "        background: #F44336;\n",
       "    }\n",
       "</style>\n"
      ],
      "text/plain": [
       "<IPython.core.display.HTML object>"
      ]
     },
     "metadata": {},
     "output_type": "display_data"
    },
    {
     "data": {
      "text/html": [
       "\n",
       "    <div>\n",
       "      <progress value='16000' class='' max='16000' style='width:300px; height:20px; vertical-align: middle;'></progress>\n",
       "      100.00% [16000/16000 00:02&lt;00:00 Sampling 4 chains, 0 divergences]\n",
       "    </div>\n",
       "    "
      ],
      "text/plain": [
       "<IPython.core.display.HTML object>"
      ]
     },
     "metadata": {},
     "output_type": "display_data"
    },
    {
     "name": "stderr",
     "output_type": "stream",
     "text": [
      "Sampling 4 chains for 2_000 tune and 2_000 draw iterations (8_000 + 8_000 draws total) took 3 seconds.\n",
      "Auto-assigning NUTS sampler...\n",
      "Initializing NUTS using jitter+adapt_diag...\n",
      "Multiprocess sampling (4 chains in 4 jobs)\n",
      "NUTS: [alpha, beta]\n"
     ]
    },
    {
     "data": {
      "text/html": [
       "\n",
       "<style>\n",
       "    /* Turns off some styling */\n",
       "    progress {\n",
       "        /* gets rid of default border in Firefox and Opera. */\n",
       "        border: none;\n",
       "        /* Needs to be in here for Safari polyfill so background images work as expected. */\n",
       "        background-size: auto;\n",
       "    }\n",
       "    progress:not([value]), progress:not([value])::-webkit-progress-bar {\n",
       "        background: repeating-linear-gradient(45deg, #7e7e7e, #7e7e7e 10px, #5c5c5c 10px, #5c5c5c 20px);\n",
       "    }\n",
       "    .progress-bar-interrupted, .progress-bar-interrupted::-webkit-progress-bar {\n",
       "        background: #F44336;\n",
       "    }\n",
       "</style>\n"
      ],
      "text/plain": [
       "<IPython.core.display.HTML object>"
      ]
     },
     "metadata": {},
     "output_type": "display_data"
    },
    {
     "data": {
      "text/html": [
       "\n",
       "    <div>\n",
       "      <progress value='16000' class='' max='16000' style='width:300px; height:20px; vertical-align: middle;'></progress>\n",
       "      100.00% [16000/16000 00:03&lt;00:00 Sampling 4 chains, 0 divergences]\n",
       "    </div>\n",
       "    "
      ],
      "text/plain": [
       "<IPython.core.display.HTML object>"
      ]
     },
     "metadata": {},
     "output_type": "display_data"
    },
    {
     "name": "stderr",
     "output_type": "stream",
     "text": [
      "Sampling 4 chains for 2_000 tune and 2_000 draw iterations (8_000 + 8_000 draws total) took 4 seconds.\n",
      "Auto-assigning NUTS sampler...\n",
      "Initializing NUTS using jitter+adapt_diag...\n",
      "Multiprocess sampling (4 chains in 4 jobs)\n",
      "NUTS: [alpha, beta]\n"
     ]
    },
    {
     "data": {
      "text/html": [
       "\n",
       "<style>\n",
       "    /* Turns off some styling */\n",
       "    progress {\n",
       "        /* gets rid of default border in Firefox and Opera. */\n",
       "        border: none;\n",
       "        /* Needs to be in here for Safari polyfill so background images work as expected. */\n",
       "        background-size: auto;\n",
       "    }\n",
       "    progress:not([value]), progress:not([value])::-webkit-progress-bar {\n",
       "        background: repeating-linear-gradient(45deg, #7e7e7e, #7e7e7e 10px, #5c5c5c 10px, #5c5c5c 20px);\n",
       "    }\n",
       "    .progress-bar-interrupted, .progress-bar-interrupted::-webkit-progress-bar {\n",
       "        background: #F44336;\n",
       "    }\n",
       "</style>\n"
      ],
      "text/plain": [
       "<IPython.core.display.HTML object>"
      ]
     },
     "metadata": {},
     "output_type": "display_data"
    },
    {
     "data": {
      "text/html": [
       "\n",
       "    <div>\n",
       "      <progress value='16000' class='' max='16000' style='width:300px; height:20px; vertical-align: middle;'></progress>\n",
       "      100.00% [16000/16000 00:03&lt;00:00 Sampling 4 chains, 0 divergences]\n",
       "    </div>\n",
       "    "
      ],
      "text/plain": [
       "<IPython.core.display.HTML object>"
      ]
     },
     "metadata": {},
     "output_type": "display_data"
    },
    {
     "name": "stderr",
     "output_type": "stream",
     "text": [
      "Sampling 4 chains for 2_000 tune and 2_000 draw iterations (8_000 + 8_000 draws total) took 4 seconds.\n",
      "Auto-assigning NUTS sampler...\n",
      "Initializing NUTS using jitter+adapt_diag...\n",
      "Multiprocess sampling (4 chains in 4 jobs)\n",
      "NUTS: [alpha, beta]\n"
     ]
    },
    {
     "data": {
      "text/html": [
       "\n",
       "<style>\n",
       "    /* Turns off some styling */\n",
       "    progress {\n",
       "        /* gets rid of default border in Firefox and Opera. */\n",
       "        border: none;\n",
       "        /* Needs to be in here for Safari polyfill so background images work as expected. */\n",
       "        background-size: auto;\n",
       "    }\n",
       "    progress:not([value]), progress:not([value])::-webkit-progress-bar {\n",
       "        background: repeating-linear-gradient(45deg, #7e7e7e, #7e7e7e 10px, #5c5c5c 10px, #5c5c5c 20px);\n",
       "    }\n",
       "    .progress-bar-interrupted, .progress-bar-interrupted::-webkit-progress-bar {\n",
       "        background: #F44336;\n",
       "    }\n",
       "</style>\n"
      ],
      "text/plain": [
       "<IPython.core.display.HTML object>"
      ]
     },
     "metadata": {},
     "output_type": "display_data"
    },
    {
     "data": {
      "text/html": [
       "\n",
       "    <div>\n",
       "      <progress value='16000' class='' max='16000' style='width:300px; height:20px; vertical-align: middle;'></progress>\n",
       "      100.00% [16000/16000 00:03&lt;00:00 Sampling 4 chains, 0 divergences]\n",
       "    </div>\n",
       "    "
      ],
      "text/plain": [
       "<IPython.core.display.HTML object>"
      ]
     },
     "metadata": {},
     "output_type": "display_data"
    },
    {
     "name": "stderr",
     "output_type": "stream",
     "text": [
      "Sampling 4 chains for 2_000 tune and 2_000 draw iterations (8_000 + 8_000 draws total) took 4 seconds.\n",
      "Auto-assigning NUTS sampler...\n",
      "Initializing NUTS using jitter+adapt_diag...\n",
      "Multiprocess sampling (4 chains in 4 jobs)\n",
      "NUTS: [alpha, beta]\n"
     ]
    },
    {
     "data": {
      "text/html": [
       "\n",
       "<style>\n",
       "    /* Turns off some styling */\n",
       "    progress {\n",
       "        /* gets rid of default border in Firefox and Opera. */\n",
       "        border: none;\n",
       "        /* Needs to be in here for Safari polyfill so background images work as expected. */\n",
       "        background-size: auto;\n",
       "    }\n",
       "    progress:not([value]), progress:not([value])::-webkit-progress-bar {\n",
       "        background: repeating-linear-gradient(45deg, #7e7e7e, #7e7e7e 10px, #5c5c5c 10px, #5c5c5c 20px);\n",
       "    }\n",
       "    .progress-bar-interrupted, .progress-bar-interrupted::-webkit-progress-bar {\n",
       "        background: #F44336;\n",
       "    }\n",
       "</style>\n"
      ],
      "text/plain": [
       "<IPython.core.display.HTML object>"
      ]
     },
     "metadata": {},
     "output_type": "display_data"
    },
    {
     "data": {
      "text/html": [
       "\n",
       "    <div>\n",
       "      <progress value='16000' class='' max='16000' style='width:300px; height:20px; vertical-align: middle;'></progress>\n",
       "      100.00% [16000/16000 00:03&lt;00:00 Sampling 4 chains, 0 divergences]\n",
       "    </div>\n",
       "    "
      ],
      "text/plain": [
       "<IPython.core.display.HTML object>"
      ]
     },
     "metadata": {},
     "output_type": "display_data"
    },
    {
     "name": "stderr",
     "output_type": "stream",
     "text": [
      "Sampling 4 chains for 2_000 tune and 2_000 draw iterations (8_000 + 8_000 draws total) took 3 seconds.\n",
      "Auto-assigning NUTS sampler...\n",
      "Initializing NUTS using jitter+adapt_diag...\n",
      "Multiprocess sampling (4 chains in 4 jobs)\n",
      "NUTS: [alpha, beta]\n"
     ]
    },
    {
     "data": {
      "text/html": [
       "\n",
       "<style>\n",
       "    /* Turns off some styling */\n",
       "    progress {\n",
       "        /* gets rid of default border in Firefox and Opera. */\n",
       "        border: none;\n",
       "        /* Needs to be in here for Safari polyfill so background images work as expected. */\n",
       "        background-size: auto;\n",
       "    }\n",
       "    progress:not([value]), progress:not([value])::-webkit-progress-bar {\n",
       "        background: repeating-linear-gradient(45deg, #7e7e7e, #7e7e7e 10px, #5c5c5c 10px, #5c5c5c 20px);\n",
       "    }\n",
       "    .progress-bar-interrupted, .progress-bar-interrupted::-webkit-progress-bar {\n",
       "        background: #F44336;\n",
       "    }\n",
       "</style>\n"
      ],
      "text/plain": [
       "<IPython.core.display.HTML object>"
      ]
     },
     "metadata": {},
     "output_type": "display_data"
    },
    {
     "data": {
      "text/html": [
       "\n",
       "    <div>\n",
       "      <progress value='16000' class='' max='16000' style='width:300px; height:20px; vertical-align: middle;'></progress>\n",
       "      100.00% [16000/16000 00:03&lt;00:00 Sampling 4 chains, 0 divergences]\n",
       "    </div>\n",
       "    "
      ],
      "text/plain": [
       "<IPython.core.display.HTML object>"
      ]
     },
     "metadata": {},
     "output_type": "display_data"
    },
    {
     "name": "stderr",
     "output_type": "stream",
     "text": [
      "Sampling 4 chains for 2_000 tune and 2_000 draw iterations (8_000 + 8_000 draws total) took 3 seconds.\n",
      "Auto-assigning NUTS sampler...\n",
      "Initializing NUTS using jitter+adapt_diag...\n",
      "Multiprocess sampling (4 chains in 4 jobs)\n",
      "NUTS: [alpha, beta]\n"
     ]
    },
    {
     "data": {
      "text/html": [
       "\n",
       "<style>\n",
       "    /* Turns off some styling */\n",
       "    progress {\n",
       "        /* gets rid of default border in Firefox and Opera. */\n",
       "        border: none;\n",
       "        /* Needs to be in here for Safari polyfill so background images work as expected. */\n",
       "        background-size: auto;\n",
       "    }\n",
       "    progress:not([value]), progress:not([value])::-webkit-progress-bar {\n",
       "        background: repeating-linear-gradient(45deg, #7e7e7e, #7e7e7e 10px, #5c5c5c 10px, #5c5c5c 20px);\n",
       "    }\n",
       "    .progress-bar-interrupted, .progress-bar-interrupted::-webkit-progress-bar {\n",
       "        background: #F44336;\n",
       "    }\n",
       "</style>\n"
      ],
      "text/plain": [
       "<IPython.core.display.HTML object>"
      ]
     },
     "metadata": {},
     "output_type": "display_data"
    },
    {
     "data": {
      "text/html": [
       "\n",
       "    <div>\n",
       "      <progress value='16000' class='' max='16000' style='width:300px; height:20px; vertical-align: middle;'></progress>\n",
       "      100.00% [16000/16000 00:02&lt;00:00 Sampling 4 chains, 0 divergences]\n",
       "    </div>\n",
       "    "
      ],
      "text/plain": [
       "<IPython.core.display.HTML object>"
      ]
     },
     "metadata": {},
     "output_type": "display_data"
    },
    {
     "name": "stderr",
     "output_type": "stream",
     "text": [
      "Sampling 4 chains for 2_000 tune and 2_000 draw iterations (8_000 + 8_000 draws total) took 3 seconds.\n",
      "Auto-assigning NUTS sampler...\n",
      "Initializing NUTS using jitter+adapt_diag...\n",
      "Multiprocess sampling (4 chains in 4 jobs)\n",
      "NUTS: [alpha, beta]\n"
     ]
    },
    {
     "data": {
      "text/html": [
       "\n",
       "<style>\n",
       "    /* Turns off some styling */\n",
       "    progress {\n",
       "        /* gets rid of default border in Firefox and Opera. */\n",
       "        border: none;\n",
       "        /* Needs to be in here for Safari polyfill so background images work as expected. */\n",
       "        background-size: auto;\n",
       "    }\n",
       "    progress:not([value]), progress:not([value])::-webkit-progress-bar {\n",
       "        background: repeating-linear-gradient(45deg, #7e7e7e, #7e7e7e 10px, #5c5c5c 10px, #5c5c5c 20px);\n",
       "    }\n",
       "    .progress-bar-interrupted, .progress-bar-interrupted::-webkit-progress-bar {\n",
       "        background: #F44336;\n",
       "    }\n",
       "</style>\n"
      ],
      "text/plain": [
       "<IPython.core.display.HTML object>"
      ]
     },
     "metadata": {},
     "output_type": "display_data"
    },
    {
     "data": {
      "text/html": [
       "\n",
       "    <div>\n",
       "      <progress value='16000' class='' max='16000' style='width:300px; height:20px; vertical-align: middle;'></progress>\n",
       "      100.00% [16000/16000 00:02&lt;00:00 Sampling 4 chains, 0 divergences]\n",
       "    </div>\n",
       "    "
      ],
      "text/plain": [
       "<IPython.core.display.HTML object>"
      ]
     },
     "metadata": {},
     "output_type": "display_data"
    },
    {
     "name": "stderr",
     "output_type": "stream",
     "text": [
      "Sampling 4 chains for 2_000 tune and 2_000 draw iterations (8_000 + 8_000 draws total) took 3 seconds.\n",
      "Auto-assigning NUTS sampler...\n",
      "Initializing NUTS using jitter+adapt_diag...\n",
      "Multiprocess sampling (4 chains in 4 jobs)\n",
      "NUTS: [alpha, beta]\n"
     ]
    },
    {
     "data": {
      "text/html": [
       "\n",
       "<style>\n",
       "    /* Turns off some styling */\n",
       "    progress {\n",
       "        /* gets rid of default border in Firefox and Opera. */\n",
       "        border: none;\n",
       "        /* Needs to be in here for Safari polyfill so background images work as expected. */\n",
       "        background-size: auto;\n",
       "    }\n",
       "    progress:not([value]), progress:not([value])::-webkit-progress-bar {\n",
       "        background: repeating-linear-gradient(45deg, #7e7e7e, #7e7e7e 10px, #5c5c5c 10px, #5c5c5c 20px);\n",
       "    }\n",
       "    .progress-bar-interrupted, .progress-bar-interrupted::-webkit-progress-bar {\n",
       "        background: #F44336;\n",
       "    }\n",
       "</style>\n"
      ],
      "text/plain": [
       "<IPython.core.display.HTML object>"
      ]
     },
     "metadata": {},
     "output_type": "display_data"
    },
    {
     "data": {
      "text/html": [
       "\n",
       "    <div>\n",
       "      <progress value='16000' class='' max='16000' style='width:300px; height:20px; vertical-align: middle;'></progress>\n",
       "      100.00% [16000/16000 00:03&lt;00:00 Sampling 4 chains, 0 divergences]\n",
       "    </div>\n",
       "    "
      ],
      "text/plain": [
       "<IPython.core.display.HTML object>"
      ]
     },
     "metadata": {},
     "output_type": "display_data"
    },
    {
     "name": "stderr",
     "output_type": "stream",
     "text": [
      "Sampling 4 chains for 2_000 tune and 2_000 draw iterations (8_000 + 8_000 draws total) took 3 seconds.\n",
      "Auto-assigning NUTS sampler...\n",
      "Initializing NUTS using jitter+adapt_diag...\n",
      "Multiprocess sampling (4 chains in 4 jobs)\n",
      "NUTS: [alpha, beta]\n"
     ]
    },
    {
     "data": {
      "text/html": [
       "\n",
       "<style>\n",
       "    /* Turns off some styling */\n",
       "    progress {\n",
       "        /* gets rid of default border in Firefox and Opera. */\n",
       "        border: none;\n",
       "        /* Needs to be in here for Safari polyfill so background images work as expected. */\n",
       "        background-size: auto;\n",
       "    }\n",
       "    progress:not([value]), progress:not([value])::-webkit-progress-bar {\n",
       "        background: repeating-linear-gradient(45deg, #7e7e7e, #7e7e7e 10px, #5c5c5c 10px, #5c5c5c 20px);\n",
       "    }\n",
       "    .progress-bar-interrupted, .progress-bar-interrupted::-webkit-progress-bar {\n",
       "        background: #F44336;\n",
       "    }\n",
       "</style>\n"
      ],
      "text/plain": [
       "<IPython.core.display.HTML object>"
      ]
     },
     "metadata": {},
     "output_type": "display_data"
    },
    {
     "data": {
      "text/html": [
       "\n",
       "    <div>\n",
       "      <progress value='16000' class='' max='16000' style='width:300px; height:20px; vertical-align: middle;'></progress>\n",
       "      100.00% [16000/16000 00:03&lt;00:00 Sampling 4 chains, 0 divergences]\n",
       "    </div>\n",
       "    "
      ],
      "text/plain": [
       "<IPython.core.display.HTML object>"
      ]
     },
     "metadata": {},
     "output_type": "display_data"
    },
    {
     "name": "stderr",
     "output_type": "stream",
     "text": [
      "Sampling 4 chains for 2_000 tune and 2_000 draw iterations (8_000 + 8_000 draws total) took 3 seconds.\n",
      "Auto-assigning NUTS sampler...\n",
      "Initializing NUTS using jitter+adapt_diag...\n",
      "Multiprocess sampling (4 chains in 4 jobs)\n",
      "NUTS: [alpha, beta]\n"
     ]
    },
    {
     "data": {
      "text/html": [
       "\n",
       "<style>\n",
       "    /* Turns off some styling */\n",
       "    progress {\n",
       "        /* gets rid of default border in Firefox and Opera. */\n",
       "        border: none;\n",
       "        /* Needs to be in here for Safari polyfill so background images work as expected. */\n",
       "        background-size: auto;\n",
       "    }\n",
       "    progress:not([value]), progress:not([value])::-webkit-progress-bar {\n",
       "        background: repeating-linear-gradient(45deg, #7e7e7e, #7e7e7e 10px, #5c5c5c 10px, #5c5c5c 20px);\n",
       "    }\n",
       "    .progress-bar-interrupted, .progress-bar-interrupted::-webkit-progress-bar {\n",
       "        background: #F44336;\n",
       "    }\n",
       "</style>\n"
      ],
      "text/plain": [
       "<IPython.core.display.HTML object>"
      ]
     },
     "metadata": {},
     "output_type": "display_data"
    },
    {
     "data": {
      "text/html": [
       "\n",
       "    <div>\n",
       "      <progress value='16000' class='' max='16000' style='width:300px; height:20px; vertical-align: middle;'></progress>\n",
       "      100.00% [16000/16000 00:03&lt;00:00 Sampling 4 chains, 0 divergences]\n",
       "    </div>\n",
       "    "
      ],
      "text/plain": [
       "<IPython.core.display.HTML object>"
      ]
     },
     "metadata": {},
     "output_type": "display_data"
    },
    {
     "name": "stderr",
     "output_type": "stream",
     "text": [
      "Sampling 4 chains for 2_000 tune and 2_000 draw iterations (8_000 + 8_000 draws total) took 3 seconds.\n",
      "Auto-assigning NUTS sampler...\n",
      "Initializing NUTS using jitter+adapt_diag...\n",
      "Multiprocess sampling (4 chains in 4 jobs)\n",
      "NUTS: [alpha, beta]\n"
     ]
    },
    {
     "data": {
      "text/html": [
       "\n",
       "<style>\n",
       "    /* Turns off some styling */\n",
       "    progress {\n",
       "        /* gets rid of default border in Firefox and Opera. */\n",
       "        border: none;\n",
       "        /* Needs to be in here for Safari polyfill so background images work as expected. */\n",
       "        background-size: auto;\n",
       "    }\n",
       "    progress:not([value]), progress:not([value])::-webkit-progress-bar {\n",
       "        background: repeating-linear-gradient(45deg, #7e7e7e, #7e7e7e 10px, #5c5c5c 10px, #5c5c5c 20px);\n",
       "    }\n",
       "    .progress-bar-interrupted, .progress-bar-interrupted::-webkit-progress-bar {\n",
       "        background: #F44336;\n",
       "    }\n",
       "</style>\n"
      ],
      "text/plain": [
       "<IPython.core.display.HTML object>"
      ]
     },
     "metadata": {},
     "output_type": "display_data"
    },
    {
     "data": {
      "text/html": [
       "\n",
       "    <div>\n",
       "      <progress value='16000' class='' max='16000' style='width:300px; height:20px; vertical-align: middle;'></progress>\n",
       "      100.00% [16000/16000 00:03&lt;00:00 Sampling 4 chains, 0 divergences]\n",
       "    </div>\n",
       "    "
      ],
      "text/plain": [
       "<IPython.core.display.HTML object>"
      ]
     },
     "metadata": {},
     "output_type": "display_data"
    },
    {
     "name": "stderr",
     "output_type": "stream",
     "text": [
      "Sampling 4 chains for 2_000 tune and 2_000 draw iterations (8_000 + 8_000 draws total) took 3 seconds.\n",
      "Auto-assigning NUTS sampler...\n",
      "Initializing NUTS using jitter+adapt_diag...\n",
      "Multiprocess sampling (4 chains in 4 jobs)\n",
      "NUTS: [alpha, beta]\n"
     ]
    },
    {
     "data": {
      "text/html": [
       "\n",
       "<style>\n",
       "    /* Turns off some styling */\n",
       "    progress {\n",
       "        /* gets rid of default border in Firefox and Opera. */\n",
       "        border: none;\n",
       "        /* Needs to be in here for Safari polyfill so background images work as expected. */\n",
       "        background-size: auto;\n",
       "    }\n",
       "    progress:not([value]), progress:not([value])::-webkit-progress-bar {\n",
       "        background: repeating-linear-gradient(45deg, #7e7e7e, #7e7e7e 10px, #5c5c5c 10px, #5c5c5c 20px);\n",
       "    }\n",
       "    .progress-bar-interrupted, .progress-bar-interrupted::-webkit-progress-bar {\n",
       "        background: #F44336;\n",
       "    }\n",
       "</style>\n"
      ],
      "text/plain": [
       "<IPython.core.display.HTML object>"
      ]
     },
     "metadata": {},
     "output_type": "display_data"
    },
    {
     "data": {
      "text/html": [
       "\n",
       "    <div>\n",
       "      <progress value='16000' class='' max='16000' style='width:300px; height:20px; vertical-align: middle;'></progress>\n",
       "      100.00% [16000/16000 00:03&lt;00:00 Sampling 4 chains, 0 divergences]\n",
       "    </div>\n",
       "    "
      ],
      "text/plain": [
       "<IPython.core.display.HTML object>"
      ]
     },
     "metadata": {},
     "output_type": "display_data"
    },
    {
     "name": "stderr",
     "output_type": "stream",
     "text": [
      "Sampling 4 chains for 2_000 tune and 2_000 draw iterations (8_000 + 8_000 draws total) took 3 seconds.\n",
      "Auto-assigning NUTS sampler...\n",
      "Initializing NUTS using jitter+adapt_diag...\n",
      "Multiprocess sampling (4 chains in 4 jobs)\n",
      "NUTS: [alpha, beta]\n"
     ]
    },
    {
     "data": {
      "text/html": [
       "\n",
       "<style>\n",
       "    /* Turns off some styling */\n",
       "    progress {\n",
       "        /* gets rid of default border in Firefox and Opera. */\n",
       "        border: none;\n",
       "        /* Needs to be in here for Safari polyfill so background images work as expected. */\n",
       "        background-size: auto;\n",
       "    }\n",
       "    progress:not([value]), progress:not([value])::-webkit-progress-bar {\n",
       "        background: repeating-linear-gradient(45deg, #7e7e7e, #7e7e7e 10px, #5c5c5c 10px, #5c5c5c 20px);\n",
       "    }\n",
       "    .progress-bar-interrupted, .progress-bar-interrupted::-webkit-progress-bar {\n",
       "        background: #F44336;\n",
       "    }\n",
       "</style>\n"
      ],
      "text/plain": [
       "<IPython.core.display.HTML object>"
      ]
     },
     "metadata": {},
     "output_type": "display_data"
    },
    {
     "data": {
      "text/html": [
       "\n",
       "    <div>\n",
       "      <progress value='16000' class='' max='16000' style='width:300px; height:20px; vertical-align: middle;'></progress>\n",
       "      100.00% [16000/16000 00:02&lt;00:00 Sampling 4 chains, 0 divergences]\n",
       "    </div>\n",
       "    "
      ],
      "text/plain": [
       "<IPython.core.display.HTML object>"
      ]
     },
     "metadata": {},
     "output_type": "display_data"
    },
    {
     "name": "stderr",
     "output_type": "stream",
     "text": [
      "Sampling 4 chains for 2_000 tune and 2_000 draw iterations (8_000 + 8_000 draws total) took 3 seconds.\n",
      "Auto-assigning NUTS sampler...\n",
      "Initializing NUTS using jitter+adapt_diag...\n",
      "Multiprocess sampling (4 chains in 4 jobs)\n",
      "NUTS: [alpha, beta]\n"
     ]
    },
    {
     "data": {
      "text/html": [
       "\n",
       "<style>\n",
       "    /* Turns off some styling */\n",
       "    progress {\n",
       "        /* gets rid of default border in Firefox and Opera. */\n",
       "        border: none;\n",
       "        /* Needs to be in here for Safari polyfill so background images work as expected. */\n",
       "        background-size: auto;\n",
       "    }\n",
       "    progress:not([value]), progress:not([value])::-webkit-progress-bar {\n",
       "        background: repeating-linear-gradient(45deg, #7e7e7e, #7e7e7e 10px, #5c5c5c 10px, #5c5c5c 20px);\n",
       "    }\n",
       "    .progress-bar-interrupted, .progress-bar-interrupted::-webkit-progress-bar {\n",
       "        background: #F44336;\n",
       "    }\n",
       "</style>\n"
      ],
      "text/plain": [
       "<IPython.core.display.HTML object>"
      ]
     },
     "metadata": {},
     "output_type": "display_data"
    },
    {
     "data": {
      "text/html": [
       "\n",
       "    <div>\n",
       "      <progress value='16000' class='' max='16000' style='width:300px; height:20px; vertical-align: middle;'></progress>\n",
       "      100.00% [16000/16000 00:02&lt;00:00 Sampling 4 chains, 0 divergences]\n",
       "    </div>\n",
       "    "
      ],
      "text/plain": [
       "<IPython.core.display.HTML object>"
      ]
     },
     "metadata": {},
     "output_type": "display_data"
    },
    {
     "name": "stderr",
     "output_type": "stream",
     "text": [
      "Sampling 4 chains for 2_000 tune and 2_000 draw iterations (8_000 + 8_000 draws total) took 3 seconds.\n",
      "Auto-assigning NUTS sampler...\n",
      "Initializing NUTS using jitter+adapt_diag...\n",
      "Multiprocess sampling (4 chains in 4 jobs)\n",
      "NUTS: [alpha, beta]\n"
     ]
    },
    {
     "data": {
      "text/html": [
       "\n",
       "<style>\n",
       "    /* Turns off some styling */\n",
       "    progress {\n",
       "        /* gets rid of default border in Firefox and Opera. */\n",
       "        border: none;\n",
       "        /* Needs to be in here for Safari polyfill so background images work as expected. */\n",
       "        background-size: auto;\n",
       "    }\n",
       "    progress:not([value]), progress:not([value])::-webkit-progress-bar {\n",
       "        background: repeating-linear-gradient(45deg, #7e7e7e, #7e7e7e 10px, #5c5c5c 10px, #5c5c5c 20px);\n",
       "    }\n",
       "    .progress-bar-interrupted, .progress-bar-interrupted::-webkit-progress-bar {\n",
       "        background: #F44336;\n",
       "    }\n",
       "</style>\n"
      ],
      "text/plain": [
       "<IPython.core.display.HTML object>"
      ]
     },
     "metadata": {},
     "output_type": "display_data"
    },
    {
     "data": {
      "text/html": [
       "\n",
       "    <div>\n",
       "      <progress value='16000' class='' max='16000' style='width:300px; height:20px; vertical-align: middle;'></progress>\n",
       "      100.00% [16000/16000 00:02&lt;00:00 Sampling 4 chains, 0 divergences]\n",
       "    </div>\n",
       "    "
      ],
      "text/plain": [
       "<IPython.core.display.HTML object>"
      ]
     },
     "metadata": {},
     "output_type": "display_data"
    },
    {
     "name": "stderr",
     "output_type": "stream",
     "text": [
      "Sampling 4 chains for 2_000 tune and 2_000 draw iterations (8_000 + 8_000 draws total) took 3 seconds.\n",
      "Auto-assigning NUTS sampler...\n",
      "Initializing NUTS using jitter+adapt_diag...\n",
      "Multiprocess sampling (4 chains in 4 jobs)\n",
      "NUTS: [alpha, beta]\n"
     ]
    },
    {
     "data": {
      "text/html": [
       "\n",
       "<style>\n",
       "    /* Turns off some styling */\n",
       "    progress {\n",
       "        /* gets rid of default border in Firefox and Opera. */\n",
       "        border: none;\n",
       "        /* Needs to be in here for Safari polyfill so background images work as expected. */\n",
       "        background-size: auto;\n",
       "    }\n",
       "    progress:not([value]), progress:not([value])::-webkit-progress-bar {\n",
       "        background: repeating-linear-gradient(45deg, #7e7e7e, #7e7e7e 10px, #5c5c5c 10px, #5c5c5c 20px);\n",
       "    }\n",
       "    .progress-bar-interrupted, .progress-bar-interrupted::-webkit-progress-bar {\n",
       "        background: #F44336;\n",
       "    }\n",
       "</style>\n"
      ],
      "text/plain": [
       "<IPython.core.display.HTML object>"
      ]
     },
     "metadata": {},
     "output_type": "display_data"
    },
    {
     "data": {
      "text/html": [
       "\n",
       "    <div>\n",
       "      <progress value='16000' class='' max='16000' style='width:300px; height:20px; vertical-align: middle;'></progress>\n",
       "      100.00% [16000/16000 00:03&lt;00:00 Sampling 4 chains, 0 divergences]\n",
       "    </div>\n",
       "    "
      ],
      "text/plain": [
       "<IPython.core.display.HTML object>"
      ]
     },
     "metadata": {},
     "output_type": "display_data"
    },
    {
     "name": "stderr",
     "output_type": "stream",
     "text": [
      "Sampling 4 chains for 2_000 tune and 2_000 draw iterations (8_000 + 8_000 draws total) took 3 seconds.\n",
      "Auto-assigning NUTS sampler...\n",
      "Initializing NUTS using jitter+adapt_diag...\n",
      "Multiprocess sampling (4 chains in 4 jobs)\n",
      "NUTS: [alpha, beta]\n"
     ]
    },
    {
     "data": {
      "text/html": [
       "\n",
       "<style>\n",
       "    /* Turns off some styling */\n",
       "    progress {\n",
       "        /* gets rid of default border in Firefox and Opera. */\n",
       "        border: none;\n",
       "        /* Needs to be in here for Safari polyfill so background images work as expected. */\n",
       "        background-size: auto;\n",
       "    }\n",
       "    progress:not([value]), progress:not([value])::-webkit-progress-bar {\n",
       "        background: repeating-linear-gradient(45deg, #7e7e7e, #7e7e7e 10px, #5c5c5c 10px, #5c5c5c 20px);\n",
       "    }\n",
       "    .progress-bar-interrupted, .progress-bar-interrupted::-webkit-progress-bar {\n",
       "        background: #F44336;\n",
       "    }\n",
       "</style>\n"
      ],
      "text/plain": [
       "<IPython.core.display.HTML object>"
      ]
     },
     "metadata": {},
     "output_type": "display_data"
    },
    {
     "data": {
      "text/html": [
       "\n",
       "    <div>\n",
       "      <progress value='16000' class='' max='16000' style='width:300px; height:20px; vertical-align: middle;'></progress>\n",
       "      100.00% [16000/16000 00:03&lt;00:00 Sampling 4 chains, 0 divergences]\n",
       "    </div>\n",
       "    "
      ],
      "text/plain": [
       "<IPython.core.display.HTML object>"
      ]
     },
     "metadata": {},
     "output_type": "display_data"
    },
    {
     "name": "stderr",
     "output_type": "stream",
     "text": [
      "Sampling 4 chains for 2_000 tune and 2_000 draw iterations (8_000 + 8_000 draws total) took 3 seconds.\n",
      "Auto-assigning NUTS sampler...\n",
      "Initializing NUTS using jitter+adapt_diag...\n",
      "Multiprocess sampling (4 chains in 4 jobs)\n",
      "NUTS: [alpha, beta]\n"
     ]
    },
    {
     "data": {
      "text/html": [
       "\n",
       "<style>\n",
       "    /* Turns off some styling */\n",
       "    progress {\n",
       "        /* gets rid of default border in Firefox and Opera. */\n",
       "        border: none;\n",
       "        /* Needs to be in here for Safari polyfill so background images work as expected. */\n",
       "        background-size: auto;\n",
       "    }\n",
       "    progress:not([value]), progress:not([value])::-webkit-progress-bar {\n",
       "        background: repeating-linear-gradient(45deg, #7e7e7e, #7e7e7e 10px, #5c5c5c 10px, #5c5c5c 20px);\n",
       "    }\n",
       "    .progress-bar-interrupted, .progress-bar-interrupted::-webkit-progress-bar {\n",
       "        background: #F44336;\n",
       "    }\n",
       "</style>\n"
      ],
      "text/plain": [
       "<IPython.core.display.HTML object>"
      ]
     },
     "metadata": {},
     "output_type": "display_data"
    },
    {
     "data": {
      "text/html": [
       "\n",
       "    <div>\n",
       "      <progress value='16000' class='' max='16000' style='width:300px; height:20px; vertical-align: middle;'></progress>\n",
       "      100.00% [16000/16000 00:03&lt;00:00 Sampling 4 chains, 0 divergences]\n",
       "    </div>\n",
       "    "
      ],
      "text/plain": [
       "<IPython.core.display.HTML object>"
      ]
     },
     "metadata": {},
     "output_type": "display_data"
    },
    {
     "name": "stderr",
     "output_type": "stream",
     "text": [
      "Sampling 4 chains for 2_000 tune and 2_000 draw iterations (8_000 + 8_000 draws total) took 3 seconds.\n",
      "Auto-assigning NUTS sampler...\n",
      "Initializing NUTS using jitter+adapt_diag...\n",
      "Multiprocess sampling (4 chains in 4 jobs)\n",
      "NUTS: [alpha, beta]\n"
     ]
    },
    {
     "data": {
      "text/html": [
       "\n",
       "<style>\n",
       "    /* Turns off some styling */\n",
       "    progress {\n",
       "        /* gets rid of default border in Firefox and Opera. */\n",
       "        border: none;\n",
       "        /* Needs to be in here for Safari polyfill so background images work as expected. */\n",
       "        background-size: auto;\n",
       "    }\n",
       "    progress:not([value]), progress:not([value])::-webkit-progress-bar {\n",
       "        background: repeating-linear-gradient(45deg, #7e7e7e, #7e7e7e 10px, #5c5c5c 10px, #5c5c5c 20px);\n",
       "    }\n",
       "    .progress-bar-interrupted, .progress-bar-interrupted::-webkit-progress-bar {\n",
       "        background: #F44336;\n",
       "    }\n",
       "</style>\n"
      ],
      "text/plain": [
       "<IPython.core.display.HTML object>"
      ]
     },
     "metadata": {},
     "output_type": "display_data"
    },
    {
     "data": {
      "text/html": [
       "\n",
       "    <div>\n",
       "      <progress value='16000' class='' max='16000' style='width:300px; height:20px; vertical-align: middle;'></progress>\n",
       "      100.00% [16000/16000 00:03&lt;00:00 Sampling 4 chains, 0 divergences]\n",
       "    </div>\n",
       "    "
      ],
      "text/plain": [
       "<IPython.core.display.HTML object>"
      ]
     },
     "metadata": {},
     "output_type": "display_data"
    },
    {
     "name": "stderr",
     "output_type": "stream",
     "text": [
      "Sampling 4 chains for 2_000 tune and 2_000 draw iterations (8_000 + 8_000 draws total) took 3 seconds.\n",
      "Auto-assigning NUTS sampler...\n",
      "Initializing NUTS using jitter+adapt_diag...\n",
      "Multiprocess sampling (4 chains in 4 jobs)\n",
      "NUTS: [alpha, beta]\n"
     ]
    },
    {
     "data": {
      "text/html": [
       "\n",
       "<style>\n",
       "    /* Turns off some styling */\n",
       "    progress {\n",
       "        /* gets rid of default border in Firefox and Opera. */\n",
       "        border: none;\n",
       "        /* Needs to be in here for Safari polyfill so background images work as expected. */\n",
       "        background-size: auto;\n",
       "    }\n",
       "    progress:not([value]), progress:not([value])::-webkit-progress-bar {\n",
       "        background: repeating-linear-gradient(45deg, #7e7e7e, #7e7e7e 10px, #5c5c5c 10px, #5c5c5c 20px);\n",
       "    }\n",
       "    .progress-bar-interrupted, .progress-bar-interrupted::-webkit-progress-bar {\n",
       "        background: #F44336;\n",
       "    }\n",
       "</style>\n"
      ],
      "text/plain": [
       "<IPython.core.display.HTML object>"
      ]
     },
     "metadata": {},
     "output_type": "display_data"
    },
    {
     "data": {
      "text/html": [
       "\n",
       "    <div>\n",
       "      <progress value='16000' class='' max='16000' style='width:300px; height:20px; vertical-align: middle;'></progress>\n",
       "      100.00% [16000/16000 00:03&lt;00:00 Sampling 4 chains, 0 divergences]\n",
       "    </div>\n",
       "    "
      ],
      "text/plain": [
       "<IPython.core.display.HTML object>"
      ]
     },
     "metadata": {},
     "output_type": "display_data"
    },
    {
     "name": "stderr",
     "output_type": "stream",
     "text": [
      "Sampling 4 chains for 2_000 tune and 2_000 draw iterations (8_000 + 8_000 draws total) took 3 seconds.\n",
      "Auto-assigning NUTS sampler...\n",
      "Initializing NUTS using jitter+adapt_diag...\n",
      "Multiprocess sampling (4 chains in 4 jobs)\n",
      "NUTS: [alpha, beta]\n"
     ]
    },
    {
     "data": {
      "text/html": [
       "\n",
       "<style>\n",
       "    /* Turns off some styling */\n",
       "    progress {\n",
       "        /* gets rid of default border in Firefox and Opera. */\n",
       "        border: none;\n",
       "        /* Needs to be in here for Safari polyfill so background images work as expected. */\n",
       "        background-size: auto;\n",
       "    }\n",
       "    progress:not([value]), progress:not([value])::-webkit-progress-bar {\n",
       "        background: repeating-linear-gradient(45deg, #7e7e7e, #7e7e7e 10px, #5c5c5c 10px, #5c5c5c 20px);\n",
       "    }\n",
       "    .progress-bar-interrupted, .progress-bar-interrupted::-webkit-progress-bar {\n",
       "        background: #F44336;\n",
       "    }\n",
       "</style>\n"
      ],
      "text/plain": [
       "<IPython.core.display.HTML object>"
      ]
     },
     "metadata": {},
     "output_type": "display_data"
    },
    {
     "data": {
      "text/html": [
       "\n",
       "    <div>\n",
       "      <progress value='16000' class='' max='16000' style='width:300px; height:20px; vertical-align: middle;'></progress>\n",
       "      100.00% [16000/16000 00:03&lt;00:00 Sampling 4 chains, 0 divergences]\n",
       "    </div>\n",
       "    "
      ],
      "text/plain": [
       "<IPython.core.display.HTML object>"
      ]
     },
     "metadata": {},
     "output_type": "display_data"
    },
    {
     "name": "stderr",
     "output_type": "stream",
     "text": [
      "Sampling 4 chains for 2_000 tune and 2_000 draw iterations (8_000 + 8_000 draws total) took 3 seconds.\n",
      "Exception ignored in: <bound method IPythonKernel._clean_thread_parent_frames of <ipykernel.ipkernel.IPythonKernel object at 0x7f6d05a66510>>\n",
      "Traceback (most recent call last):\n",
      "  File \"/home/nikhil/anaconda3/envs/pymc_env/lib/python3.11/site-packages/ipykernel/ipkernel.py\", line 770, in _clean_thread_parent_frames\n",
      "    def _clean_thread_parent_frames(\n",
      "\n",
      "KeyboardInterrupt: \n",
      "Auto-assigning NUTS sampler...\n",
      "Initializing NUTS using jitter+adapt_diag...\n",
      "Multiprocess sampling (4 chains in 4 jobs)\n",
      "NUTS: [alpha, beta]\n"
     ]
    },
    {
     "data": {
      "text/html": [
       "\n",
       "<style>\n",
       "    /* Turns off some styling */\n",
       "    progress {\n",
       "        /* gets rid of default border in Firefox and Opera. */\n",
       "        border: none;\n",
       "        /* Needs to be in here for Safari polyfill so background images work as expected. */\n",
       "        background-size: auto;\n",
       "    }\n",
       "    progress:not([value]), progress:not([value])::-webkit-progress-bar {\n",
       "        background: repeating-linear-gradient(45deg, #7e7e7e, #7e7e7e 10px, #5c5c5c 10px, #5c5c5c 20px);\n",
       "    }\n",
       "    .progress-bar-interrupted, .progress-bar-interrupted::-webkit-progress-bar {\n",
       "        background: #F44336;\n",
       "    }\n",
       "</style>\n"
      ],
      "text/plain": [
       "<IPython.core.display.HTML object>"
      ]
     },
     "metadata": {},
     "output_type": "display_data"
    },
    {
     "data": {
      "text/html": [
       "\n",
       "    <div>\n",
       "      <progress value='16000' class='' max='16000' style='width:300px; height:20px; vertical-align: middle;'></progress>\n",
       "      100.00% [16000/16000 00:02&lt;00:00 Sampling 4 chains, 0 divergences]\n",
       "    </div>\n",
       "    "
      ],
      "text/plain": [
       "<IPython.core.display.HTML object>"
      ]
     },
     "metadata": {},
     "output_type": "display_data"
    },
    {
     "name": "stderr",
     "output_type": "stream",
     "text": [
      "Sampling 4 chains for 2_000 tune and 2_000 draw iterations (8_000 + 8_000 draws total) took 3 seconds.\n"
     ]
    },
    {
     "ename": "KeyboardInterrupt",
     "evalue": "",
     "output_type": "error",
     "traceback": [
      "\u001b[0;31m---------------------------------------------------------------------------\u001b[0m",
      "\u001b[0;31mKeyboardInterrupt\u001b[0m                         Traceback (most recent call last)",
      "Cell \u001b[0;32mIn[77], line 35\u001b[0m\n\u001b[1;32m     33\u001b[0m \u001b[38;5;66;03m# Sampling\u001b[39;00m\n\u001b[1;32m     34\u001b[0m \u001b[38;5;28;01mtry\u001b[39;00m:\n\u001b[0;32m---> 35\u001b[0m     trace \u001b[38;5;241m=\u001b[39m \u001b[43mpm\u001b[49m\u001b[38;5;241;43m.\u001b[39;49m\u001b[43msample\u001b[49m\u001b[43m(\u001b[49m\u001b[38;5;241;43m2000\u001b[39;49m\u001b[43m,\u001b[49m\u001b[43m \u001b[49m\u001b[43mtune\u001b[49m\u001b[38;5;241;43m=\u001b[39;49m\u001b[38;5;241;43m2000\u001b[39;49m\u001b[43m,\u001b[49m\u001b[43m \u001b[49m\u001b[43mtarget_accept\u001b[49m\u001b[38;5;241;43m=\u001b[39;49m\u001b[38;5;241;43m0.95\u001b[39;49m\u001b[43m)\u001b[49m\n\u001b[1;32m     36\u001b[0m     alpha_mean \u001b[38;5;241m=\u001b[39m trace\u001b[38;5;241m.\u001b[39mposterior[\u001b[38;5;124m\"\u001b[39m\u001b[38;5;124malpha\u001b[39m\u001b[38;5;124m\"\u001b[39m]\u001b[38;5;241m.\u001b[39mmean()\u001b[38;5;241m.\u001b[39mvalues\n\u001b[1;32m     37\u001b[0m     beta_mean \u001b[38;5;241m=\u001b[39m trace\u001b[38;5;241m.\u001b[39mposterior[\u001b[38;5;124m\"\u001b[39m\u001b[38;5;124mbeta\u001b[39m\u001b[38;5;124m\"\u001b[39m]\u001b[38;5;241m.\u001b[39mmean()\u001b[38;5;241m.\u001b[39mvalues\n",
      "File \u001b[0;32m~/anaconda3/envs/pymc_env/lib/python3.11/site-packages/pymc/sampling/mcmc.py:827\u001b[0m, in \u001b[0;36msample\u001b[0;34m(draws, tune, chains, cores, random_seed, progressbar, step, nuts_sampler, initvals, init, jitter_max_retries, n_init, trace, discard_tuned_samples, compute_convergence_checks, keep_warning_stat, return_inferencedata, idata_kwargs, nuts_sampler_kwargs, callback, mp_ctx, model, **kwargs)\u001b[0m\n\u001b[1;32m    823\u001b[0m t_sampling \u001b[38;5;241m=\u001b[39m time\u001b[38;5;241m.\u001b[39mtime() \u001b[38;5;241m-\u001b[39m t_start\n\u001b[1;32m    825\u001b[0m \u001b[38;5;66;03m# Packaging, validating and returning the result was extracted\u001b[39;00m\n\u001b[1;32m    826\u001b[0m \u001b[38;5;66;03m# into a function to make it easier to test and refactor.\u001b[39;00m\n\u001b[0;32m--> 827\u001b[0m \u001b[38;5;28;01mreturn\u001b[39;00m \u001b[43m_sample_return\u001b[49m\u001b[43m(\u001b[49m\n\u001b[1;32m    828\u001b[0m \u001b[43m    \u001b[49m\u001b[43mrun\u001b[49m\u001b[38;5;241;43m=\u001b[39;49m\u001b[43mrun\u001b[49m\u001b[43m,\u001b[49m\n\u001b[1;32m    829\u001b[0m \u001b[43m    \u001b[49m\u001b[43mtraces\u001b[49m\u001b[38;5;241;43m=\u001b[39;49m\u001b[43mtraces\u001b[49m\u001b[43m,\u001b[49m\n\u001b[1;32m    830\u001b[0m \u001b[43m    \u001b[49m\u001b[43mtune\u001b[49m\u001b[38;5;241;43m=\u001b[39;49m\u001b[43mtune\u001b[49m\u001b[43m,\u001b[49m\n\u001b[1;32m    831\u001b[0m \u001b[43m    \u001b[49m\u001b[43mt_sampling\u001b[49m\u001b[38;5;241;43m=\u001b[39;49m\u001b[43mt_sampling\u001b[49m\u001b[43m,\u001b[49m\n\u001b[1;32m    832\u001b[0m \u001b[43m    \u001b[49m\u001b[43mdiscard_tuned_samples\u001b[49m\u001b[38;5;241;43m=\u001b[39;49m\u001b[43mdiscard_tuned_samples\u001b[49m\u001b[43m,\u001b[49m\n\u001b[1;32m    833\u001b[0m \u001b[43m    \u001b[49m\u001b[43mcompute_convergence_checks\u001b[49m\u001b[38;5;241;43m=\u001b[39;49m\u001b[43mcompute_convergence_checks\u001b[49m\u001b[43m,\u001b[49m\n\u001b[1;32m    834\u001b[0m \u001b[43m    \u001b[49m\u001b[43mreturn_inferencedata\u001b[49m\u001b[38;5;241;43m=\u001b[39;49m\u001b[43mreturn_inferencedata\u001b[49m\u001b[43m,\u001b[49m\n\u001b[1;32m    835\u001b[0m \u001b[43m    \u001b[49m\u001b[43mkeep_warning_stat\u001b[49m\u001b[38;5;241;43m=\u001b[39;49m\u001b[43mkeep_warning_stat\u001b[49m\u001b[43m,\u001b[49m\n\u001b[1;32m    836\u001b[0m \u001b[43m    \u001b[49m\u001b[43midata_kwargs\u001b[49m\u001b[38;5;241;43m=\u001b[39;49m\u001b[43midata_kwargs\u001b[49m\u001b[43m \u001b[49m\u001b[38;5;129;43;01mor\u001b[39;49;00m\u001b[43m \u001b[49m\u001b[43m{\u001b[49m\u001b[43m}\u001b[49m\u001b[43m,\u001b[49m\n\u001b[1;32m    837\u001b[0m \u001b[43m    \u001b[49m\u001b[43mmodel\u001b[49m\u001b[38;5;241;43m=\u001b[39;49m\u001b[43mmodel\u001b[49m\u001b[43m,\u001b[49m\n\u001b[1;32m    838\u001b[0m \u001b[43m\u001b[49m\u001b[43m)\u001b[49m\n",
      "File \u001b[0;32m~/anaconda3/envs/pymc_env/lib/python3.11/site-packages/pymc/sampling/mcmc.py:898\u001b[0m, in \u001b[0;36m_sample_return\u001b[0;34m(run, traces, tune, t_sampling, discard_tuned_samples, compute_convergence_checks, return_inferencedata, keep_warning_stat, idata_kwargs, model)\u001b[0m\n\u001b[1;32m    895\u001b[0m idata \u001b[38;5;241m=\u001b[39m pm\u001b[38;5;241m.\u001b[39mto_inference_data(mtrace, \u001b[38;5;241m*\u001b[39m\u001b[38;5;241m*\u001b[39mikwargs)\n\u001b[1;32m    897\u001b[0m \u001b[38;5;28;01mif\u001b[39;00m compute_convergence_checks:\n\u001b[0;32m--> 898\u001b[0m     warns \u001b[38;5;241m=\u001b[39m \u001b[43mrun_convergence_checks\u001b[49m\u001b[43m(\u001b[49m\u001b[43midata\u001b[49m\u001b[43m,\u001b[49m\u001b[43m \u001b[49m\u001b[43mmodel\u001b[49m\u001b[43m)\u001b[49m\n\u001b[1;32m    899\u001b[0m     mtrace\u001b[38;5;241m.\u001b[39mreport\u001b[38;5;241m.\u001b[39m_add_warnings(warns)\n\u001b[1;32m    900\u001b[0m     log_warnings(warns)\n",
      "File \u001b[0;32m~/anaconda3/envs/pymc_env/lib/python3.11/site-packages/pymc/stats/convergence.py:124\u001b[0m, in \u001b[0;36mrun_convergence_checks\u001b[0;34m(idata, model)\u001b[0m\n\u001b[1;32m    121\u001b[0m     warnings\u001b[38;5;241m.\u001b[39mappend(warn)\n\u001b[1;32m    123\u001b[0m warnings \u001b[38;5;241m+\u001b[39m\u001b[38;5;241m=\u001b[39m warn_divergences(idata)\n\u001b[0;32m--> 124\u001b[0m warnings \u001b[38;5;241m+\u001b[39m\u001b[38;5;241m=\u001b[39m \u001b[43mwarn_treedepth\u001b[49m\u001b[43m(\u001b[49m\u001b[43midata\u001b[49m\u001b[43m)\u001b[49m\n\u001b[1;32m    126\u001b[0m \u001b[38;5;28;01mreturn\u001b[39;00m warnings\n",
      "File \u001b[0;32m~/anaconda3/envs/pymc_env/lib/python3.11/site-packages/pymc/stats/convergence.py:163\u001b[0m, in \u001b[0;36mwarn_treedepth\u001b[0;34m(idata)\u001b[0m\n\u001b[1;32m    161\u001b[0m warnings \u001b[38;5;241m=\u001b[39m []\n\u001b[1;32m    162\u001b[0m \u001b[38;5;28;01mfor\u001b[39;00m c \u001b[38;5;129;01min\u001b[39;00m rmtd\u001b[38;5;241m.\u001b[39mchain:\n\u001b[0;32m--> 163\u001b[0m     \u001b[38;5;28;01mif\u001b[39;00m \u001b[38;5;28msum\u001b[39m(rmtd\u001b[38;5;241m.\u001b[39msel(chain\u001b[38;5;241m=\u001b[39mc)) \u001b[38;5;241m/\u001b[39m rmtd\u001b[38;5;241m.\u001b[39msizes[\u001b[38;5;124m\"\u001b[39m\u001b[38;5;124mdraw\u001b[39m\u001b[38;5;124m\"\u001b[39m] \u001b[38;5;241m>\u001b[39m \u001b[38;5;241m0.05\u001b[39m:\n\u001b[1;32m    164\u001b[0m         warnings\u001b[38;5;241m.\u001b[39mappend(\n\u001b[1;32m    165\u001b[0m             SamplerWarning(\n\u001b[1;32m    166\u001b[0m                 WarningType\u001b[38;5;241m.\u001b[39mTREEDEPTH,\n\u001b[0;32m   (...)\u001b[0m\n\u001b[1;32m    170\u001b[0m             )\n\u001b[1;32m    171\u001b[0m         )\n\u001b[1;32m    172\u001b[0m \u001b[38;5;28;01mreturn\u001b[39;00m warnings\n",
      "File \u001b[0;32m~/anaconda3/envs/pymc_env/lib/python3.11/site-packages/xarray/core/_typed_ops.py:245\u001b[0m, in \u001b[0;36mDataArrayOpsMixin.__add__\u001b[0;34m(self, other)\u001b[0m\n\u001b[1;32m    244\u001b[0m \u001b[38;5;28;01mdef\u001b[39;00m \u001b[38;5;21m__add__\u001b[39m(\u001b[38;5;28mself\u001b[39m, other: DaCompatible) \u001b[38;5;241m-\u001b[39m\u001b[38;5;241m>\u001b[39m Self:\n\u001b[0;32m--> 245\u001b[0m     \u001b[38;5;28;01mreturn\u001b[39;00m \u001b[38;5;28;43mself\u001b[39;49m\u001b[38;5;241;43m.\u001b[39;49m\u001b[43m_binary_op\u001b[49m\u001b[43m(\u001b[49m\u001b[43mother\u001b[49m\u001b[43m,\u001b[49m\u001b[43m \u001b[49m\u001b[43moperator\u001b[49m\u001b[38;5;241;43m.\u001b[39;49m\u001b[43madd\u001b[49m\u001b[43m)\u001b[49m\n",
      "File \u001b[0;32m~/anaconda3/envs/pymc_env/lib/python3.11/site-packages/xarray/core/dataarray.py:4682\u001b[0m, in \u001b[0;36mDataArray._binary_op\u001b[0;34m(self, other, f, reflexive)\u001b[0m\n\u001b[1;32m   4680\u001b[0m \u001b[38;5;28;01mif\u001b[39;00m \u001b[38;5;28misinstance\u001b[39m(other, DataArray):\n\u001b[1;32m   4681\u001b[0m     align_type \u001b[38;5;241m=\u001b[39m OPTIONS[\u001b[38;5;124m\"\u001b[39m\u001b[38;5;124marithmetic_join\u001b[39m\u001b[38;5;124m\"\u001b[39m]\n\u001b[0;32m-> 4682\u001b[0m     \u001b[38;5;28mself\u001b[39m, other \u001b[38;5;241m=\u001b[39m \u001b[43malign\u001b[49m\u001b[43m(\u001b[49m\u001b[38;5;28;43mself\u001b[39;49m\u001b[43m,\u001b[49m\u001b[43m \u001b[49m\u001b[43mother\u001b[49m\u001b[43m,\u001b[49m\u001b[43m \u001b[49m\u001b[43mjoin\u001b[49m\u001b[38;5;241;43m=\u001b[39;49m\u001b[43malign_type\u001b[49m\u001b[43m,\u001b[49m\u001b[43m \u001b[49m\u001b[43mcopy\u001b[49m\u001b[38;5;241;43m=\u001b[39;49m\u001b[38;5;28;43;01mFalse\u001b[39;49;00m\u001b[43m)\u001b[49m\n\u001b[1;32m   4683\u001b[0m other_variable_or_arraylike: DaCompatible \u001b[38;5;241m=\u001b[39m \u001b[38;5;28mgetattr\u001b[39m(other, \u001b[38;5;124m\"\u001b[39m\u001b[38;5;124mvariable\u001b[39m\u001b[38;5;124m\"\u001b[39m, other)\n\u001b[1;32m   4684\u001b[0m other_coords \u001b[38;5;241m=\u001b[39m \u001b[38;5;28mgetattr\u001b[39m(other, \u001b[38;5;124m\"\u001b[39m\u001b[38;5;124mcoords\u001b[39m\u001b[38;5;124m\"\u001b[39m, \u001b[38;5;28;01mNone\u001b[39;00m)\n",
      "File \u001b[0;32m~/anaconda3/envs/pymc_env/lib/python3.11/site-packages/xarray/core/alignment.py:888\u001b[0m, in \u001b[0;36malign\u001b[0;34m(join, copy, indexes, exclude, fill_value, *objects)\u001b[0m\n\u001b[1;32m    692\u001b[0m \u001b[38;5;250m\u001b[39m\u001b[38;5;124;03m\"\"\"\u001b[39;00m\n\u001b[1;32m    693\u001b[0m \u001b[38;5;124;03mGiven any number of Dataset and/or DataArray objects, returns new\u001b[39;00m\n\u001b[1;32m    694\u001b[0m \u001b[38;5;124;03mobjects with aligned indexes and dimension sizes.\u001b[39;00m\n\u001b[0;32m   (...)\u001b[0m\n\u001b[1;32m    878\u001b[0m \n\u001b[1;32m    879\u001b[0m \u001b[38;5;124;03m\"\"\"\u001b[39;00m\n\u001b[1;32m    880\u001b[0m aligner \u001b[38;5;241m=\u001b[39m Aligner(\n\u001b[1;32m    881\u001b[0m     objects,\n\u001b[1;32m    882\u001b[0m     join\u001b[38;5;241m=\u001b[39mjoin,\n\u001b[0;32m   (...)\u001b[0m\n\u001b[1;32m    886\u001b[0m     fill_value\u001b[38;5;241m=\u001b[39mfill_value,\n\u001b[1;32m    887\u001b[0m )\n\u001b[0;32m--> 888\u001b[0m \u001b[43maligner\u001b[49m\u001b[38;5;241;43m.\u001b[39;49m\u001b[43malign\u001b[49m\u001b[43m(\u001b[49m\u001b[43m)\u001b[49m\n\u001b[1;32m    889\u001b[0m \u001b[38;5;28;01mreturn\u001b[39;00m aligner\u001b[38;5;241m.\u001b[39mresults\n",
      "File \u001b[0;32m~/anaconda3/envs/pymc_env/lib/python3.11/site-packages/xarray/core/alignment.py:582\u001b[0m, in \u001b[0;36mAligner.align\u001b[0;34m(self)\u001b[0m\n\u001b[1;32m    580\u001b[0m     \u001b[38;5;28mself\u001b[39m\u001b[38;5;241m.\u001b[39mresults \u001b[38;5;241m=\u001b[39m \u001b[38;5;28mself\u001b[39m\u001b[38;5;241m.\u001b[39mobjects\n\u001b[1;32m    581\u001b[0m \u001b[38;5;28;01melse\u001b[39;00m:\n\u001b[0;32m--> 582\u001b[0m     \u001b[38;5;28;43mself\u001b[39;49m\u001b[38;5;241;43m.\u001b[39;49m\u001b[43mreindex_all\u001b[49m\u001b[43m(\u001b[49m\u001b[43m)\u001b[49m\n",
      "File \u001b[0;32m~/anaconda3/envs/pymc_env/lib/python3.11/site-packages/xarray/core/alignment.py:557\u001b[0m, in \u001b[0;36mAligner.reindex_all\u001b[0;34m(self)\u001b[0m\n\u001b[1;32m    556\u001b[0m \u001b[38;5;28;01mdef\u001b[39;00m \u001b[38;5;21mreindex_all\u001b[39m(\u001b[38;5;28mself\u001b[39m) \u001b[38;5;241m-\u001b[39m\u001b[38;5;241m>\u001b[39m \u001b[38;5;28;01mNone\u001b[39;00m:\n\u001b[0;32m--> 557\u001b[0m     \u001b[38;5;28mself\u001b[39m\u001b[38;5;241m.\u001b[39mresults \u001b[38;5;241m=\u001b[39m \u001b[38;5;28mtuple\u001b[39m(\n\u001b[1;32m    558\u001b[0m         \u001b[38;5;28mself\u001b[39m\u001b[38;5;241m.\u001b[39m_reindex_one(obj, matching_indexes)\n\u001b[1;32m    559\u001b[0m         \u001b[38;5;28;01mfor\u001b[39;00m obj, matching_indexes \u001b[38;5;129;01min\u001b[39;00m \u001b[38;5;28mzip\u001b[39m(\n\u001b[1;32m    560\u001b[0m             \u001b[38;5;28mself\u001b[39m\u001b[38;5;241m.\u001b[39mobjects, \u001b[38;5;28mself\u001b[39m\u001b[38;5;241m.\u001b[39mobjects_matching_indexes\n\u001b[1;32m    561\u001b[0m         )\n\u001b[1;32m    562\u001b[0m     )\n",
      "File \u001b[0;32m~/anaconda3/envs/pymc_env/lib/python3.11/site-packages/xarray/core/alignment.py:558\u001b[0m, in \u001b[0;36m<genexpr>\u001b[0;34m(.0)\u001b[0m\n\u001b[1;32m    556\u001b[0m \u001b[38;5;28;01mdef\u001b[39;00m \u001b[38;5;21mreindex_all\u001b[39m(\u001b[38;5;28mself\u001b[39m) \u001b[38;5;241m-\u001b[39m\u001b[38;5;241m>\u001b[39m \u001b[38;5;28;01mNone\u001b[39;00m:\n\u001b[1;32m    557\u001b[0m     \u001b[38;5;28mself\u001b[39m\u001b[38;5;241m.\u001b[39mresults \u001b[38;5;241m=\u001b[39m \u001b[38;5;28mtuple\u001b[39m(\n\u001b[0;32m--> 558\u001b[0m         \u001b[38;5;28;43mself\u001b[39;49m\u001b[38;5;241;43m.\u001b[39;49m\u001b[43m_reindex_one\u001b[49m\u001b[43m(\u001b[49m\u001b[43mobj\u001b[49m\u001b[43m,\u001b[49m\u001b[43m \u001b[49m\u001b[43mmatching_indexes\u001b[49m\u001b[43m)\u001b[49m\n\u001b[1;32m    559\u001b[0m         \u001b[38;5;28;01mfor\u001b[39;00m obj, matching_indexes \u001b[38;5;129;01min\u001b[39;00m \u001b[38;5;28mzip\u001b[39m(\n\u001b[1;32m    560\u001b[0m             \u001b[38;5;28mself\u001b[39m\u001b[38;5;241m.\u001b[39mobjects, \u001b[38;5;28mself\u001b[39m\u001b[38;5;241m.\u001b[39mobjects_matching_indexes\n\u001b[1;32m    561\u001b[0m         )\n\u001b[1;32m    562\u001b[0m     )\n",
      "File \u001b[0;32m~/anaconda3/envs/pymc_env/lib/python3.11/site-packages/xarray/core/alignment.py:546\u001b[0m, in \u001b[0;36mAligner._reindex_one\u001b[0;34m(self, obj, matching_indexes)\u001b[0m\n\u001b[1;32m    543\u001b[0m new_indexes, new_variables \u001b[38;5;241m=\u001b[39m \u001b[38;5;28mself\u001b[39m\u001b[38;5;241m.\u001b[39m_get_indexes_and_vars(obj, matching_indexes)\n\u001b[1;32m    544\u001b[0m dim_pos_indexers \u001b[38;5;241m=\u001b[39m \u001b[38;5;28mself\u001b[39m\u001b[38;5;241m.\u001b[39m_get_dim_pos_indexers(matching_indexes)\n\u001b[0;32m--> 546\u001b[0m \u001b[38;5;28;01mreturn\u001b[39;00m \u001b[43mobj\u001b[49m\u001b[38;5;241;43m.\u001b[39;49m\u001b[43m_reindex_callback\u001b[49m\u001b[43m(\u001b[49m\n\u001b[1;32m    547\u001b[0m \u001b[43m    \u001b[49m\u001b[38;5;28;43mself\u001b[39;49m\u001b[43m,\u001b[49m\n\u001b[1;32m    548\u001b[0m \u001b[43m    \u001b[49m\u001b[43mdim_pos_indexers\u001b[49m\u001b[43m,\u001b[49m\n\u001b[1;32m    549\u001b[0m \u001b[43m    \u001b[49m\u001b[43mnew_variables\u001b[49m\u001b[43m,\u001b[49m\n\u001b[1;32m    550\u001b[0m \u001b[43m    \u001b[49m\u001b[43mnew_indexes\u001b[49m\u001b[43m,\u001b[49m\n\u001b[1;32m    551\u001b[0m \u001b[43m    \u001b[49m\u001b[38;5;28;43mself\u001b[39;49m\u001b[38;5;241;43m.\u001b[39;49m\u001b[43mfill_value\u001b[49m\u001b[43m,\u001b[49m\n\u001b[1;32m    552\u001b[0m \u001b[43m    \u001b[49m\u001b[38;5;28;43mself\u001b[39;49m\u001b[38;5;241;43m.\u001b[39;49m\u001b[43mexclude_dims\u001b[49m\u001b[43m,\u001b[49m\n\u001b[1;32m    553\u001b[0m \u001b[43m    \u001b[49m\u001b[38;5;28;43mself\u001b[39;49m\u001b[38;5;241;43m.\u001b[39;49m\u001b[43mexclude_vars\u001b[49m\u001b[43m,\u001b[49m\n\u001b[1;32m    554\u001b[0m \u001b[43m\u001b[49m\u001b[43m)\u001b[49m\n",
      "File \u001b[0;32m~/anaconda3/envs/pymc_env/lib/python3.11/site-packages/xarray/core/dataarray.py:1862\u001b[0m, in \u001b[0;36mDataArray._reindex_callback\u001b[0;34m(self, aligner, dim_pos_indexers, variables, indexes, fill_value, exclude_dims, exclude_vars)\u001b[0m\n\u001b[1;32m   1859\u001b[0m         fill_value[_THIS_ARRAY] \u001b[38;5;241m=\u001b[39m value\n\u001b[1;32m   1861\u001b[0m ds \u001b[38;5;241m=\u001b[39m \u001b[38;5;28mself\u001b[39m\u001b[38;5;241m.\u001b[39m_to_temp_dataset()\n\u001b[0;32m-> 1862\u001b[0m reindexed \u001b[38;5;241m=\u001b[39m \u001b[43mds\u001b[49m\u001b[38;5;241;43m.\u001b[39;49m\u001b[43m_reindex_callback\u001b[49m\u001b[43m(\u001b[49m\n\u001b[1;32m   1863\u001b[0m \u001b[43m    \u001b[49m\u001b[43maligner\u001b[49m\u001b[43m,\u001b[49m\n\u001b[1;32m   1864\u001b[0m \u001b[43m    \u001b[49m\u001b[43mdim_pos_indexers\u001b[49m\u001b[43m,\u001b[49m\n\u001b[1;32m   1865\u001b[0m \u001b[43m    \u001b[49m\u001b[43mvariables\u001b[49m\u001b[43m,\u001b[49m\n\u001b[1;32m   1866\u001b[0m \u001b[43m    \u001b[49m\u001b[43mindexes\u001b[49m\u001b[43m,\u001b[49m\n\u001b[1;32m   1867\u001b[0m \u001b[43m    \u001b[49m\u001b[43mfill_value\u001b[49m\u001b[43m,\u001b[49m\n\u001b[1;32m   1868\u001b[0m \u001b[43m    \u001b[49m\u001b[43mexclude_dims\u001b[49m\u001b[43m,\u001b[49m\n\u001b[1;32m   1869\u001b[0m \u001b[43m    \u001b[49m\u001b[43mexclude_vars\u001b[49m\u001b[43m,\u001b[49m\n\u001b[1;32m   1870\u001b[0m \u001b[43m\u001b[49m\u001b[43m)\u001b[49m\n\u001b[1;32m   1872\u001b[0m da \u001b[38;5;241m=\u001b[39m \u001b[38;5;28mself\u001b[39m\u001b[38;5;241m.\u001b[39m_from_temp_dataset(reindexed)\n\u001b[1;32m   1873\u001b[0m da\u001b[38;5;241m.\u001b[39mencoding \u001b[38;5;241m=\u001b[39m \u001b[38;5;28mself\u001b[39m\u001b[38;5;241m.\u001b[39mencoding\n",
      "File \u001b[0;32m~/anaconda3/envs/pymc_env/lib/python3.11/site-packages/xarray/core/dataset.py:3444\u001b[0m, in \u001b[0;36mDataset._reindex_callback\u001b[0;34m(self, aligner, dim_pos_indexers, variables, indexes, fill_value, exclude_dims, exclude_vars)\u001b[0m\n\u001b[1;32m   3442\u001b[0m         reindexed \u001b[38;5;241m=\u001b[39m \u001b[38;5;28mself\u001b[39m\u001b[38;5;241m.\u001b[39m_overwrite_indexes(new_indexes, new_variables)\n\u001b[1;32m   3443\u001b[0m     \u001b[38;5;28;01melse\u001b[39;00m:\n\u001b[0;32m-> 3444\u001b[0m         reindexed \u001b[38;5;241m=\u001b[39m \u001b[38;5;28;43mself\u001b[39;49m\u001b[38;5;241;43m.\u001b[39;49m\u001b[43mcopy\u001b[49m\u001b[43m(\u001b[49m\u001b[43mdeep\u001b[49m\u001b[38;5;241;43m=\u001b[39;49m\u001b[43maligner\u001b[49m\u001b[38;5;241;43m.\u001b[39;49m\u001b[43mcopy\u001b[49m\u001b[43m)\u001b[49m\n\u001b[1;32m   3445\u001b[0m \u001b[38;5;28;01melse\u001b[39;00m:\n\u001b[1;32m   3446\u001b[0m     to_reindex \u001b[38;5;241m=\u001b[39m {\n\u001b[1;32m   3447\u001b[0m         k: v\n\u001b[1;32m   3448\u001b[0m         \u001b[38;5;28;01mfor\u001b[39;00m k, v \u001b[38;5;129;01min\u001b[39;00m \u001b[38;5;28mself\u001b[39m\u001b[38;5;241m.\u001b[39mvariables\u001b[38;5;241m.\u001b[39mitems()\n\u001b[1;32m   3449\u001b[0m         \u001b[38;5;28;01mif\u001b[39;00m k \u001b[38;5;129;01mnot\u001b[39;00m \u001b[38;5;129;01min\u001b[39;00m variables \u001b[38;5;129;01mand\u001b[39;00m k \u001b[38;5;129;01mnot\u001b[39;00m \u001b[38;5;129;01min\u001b[39;00m exclude_vars\n\u001b[1;32m   3450\u001b[0m     }\n",
      "File \u001b[0;32m~/anaconda3/envs/pymc_env/lib/python3.11/site-packages/xarray/core/dataset.py:1334\u001b[0m, in \u001b[0;36mDataset.copy\u001b[0;34m(self, deep, data)\u001b[0m\n\u001b[1;32m   1237\u001b[0m \u001b[38;5;28;01mdef\u001b[39;00m \u001b[38;5;21mcopy\u001b[39m(\u001b[38;5;28mself\u001b[39m, deep: \u001b[38;5;28mbool\u001b[39m \u001b[38;5;241m=\u001b[39m \u001b[38;5;28;01mFalse\u001b[39;00m, data: DataVars \u001b[38;5;241m|\u001b[39m \u001b[38;5;28;01mNone\u001b[39;00m \u001b[38;5;241m=\u001b[39m \u001b[38;5;28;01mNone\u001b[39;00m) \u001b[38;5;241m-\u001b[39m\u001b[38;5;241m>\u001b[39m Self:\n\u001b[1;32m   1238\u001b[0m \u001b[38;5;250m    \u001b[39m\u001b[38;5;124;03m\"\"\"Returns a copy of this dataset.\u001b[39;00m\n\u001b[1;32m   1239\u001b[0m \n\u001b[1;32m   1240\u001b[0m \u001b[38;5;124;03m    If `deep=True`, a deep copy is made of each of the component variables.\u001b[39;00m\n\u001b[0;32m   (...)\u001b[0m\n\u001b[1;32m   1332\u001b[0m \u001b[38;5;124;03m    pandas.DataFrame.copy\u001b[39;00m\n\u001b[1;32m   1333\u001b[0m \u001b[38;5;124;03m    \"\"\"\u001b[39;00m\n\u001b[0;32m-> 1334\u001b[0m     \u001b[38;5;28;01mreturn\u001b[39;00m \u001b[38;5;28;43mself\u001b[39;49m\u001b[38;5;241;43m.\u001b[39;49m\u001b[43m_copy\u001b[49m\u001b[43m(\u001b[49m\u001b[43mdeep\u001b[49m\u001b[38;5;241;43m=\u001b[39;49m\u001b[43mdeep\u001b[49m\u001b[43m,\u001b[49m\u001b[43m \u001b[49m\u001b[43mdata\u001b[49m\u001b[38;5;241;43m=\u001b[39;49m\u001b[43mdata\u001b[49m\u001b[43m)\u001b[49m\n",
      "File \u001b[0;32m~/anaconda3/envs/pymc_env/lib/python3.11/site-packages/xarray/core/dataset.py:1370\u001b[0m, in \u001b[0;36mDataset._copy\u001b[0;34m(self, deep, data, memo)\u001b[0m\n\u001b[1;32m   1368\u001b[0m         variables[k] \u001b[38;5;241m=\u001b[39m index_vars[k]\n\u001b[1;32m   1369\u001b[0m     \u001b[38;5;28;01melse\u001b[39;00m:\n\u001b[0;32m-> 1370\u001b[0m         variables[k] \u001b[38;5;241m=\u001b[39m \u001b[43mv\u001b[49m\u001b[38;5;241;43m.\u001b[39;49m\u001b[43m_copy\u001b[49m\u001b[43m(\u001b[49m\u001b[43mdeep\u001b[49m\u001b[38;5;241;43m=\u001b[39;49m\u001b[43mdeep\u001b[49m\u001b[43m,\u001b[49m\u001b[43m \u001b[49m\u001b[43mdata\u001b[49m\u001b[38;5;241;43m=\u001b[39;49m\u001b[43mdata\u001b[49m\u001b[38;5;241;43m.\u001b[39;49m\u001b[43mget\u001b[49m\u001b[43m(\u001b[49m\u001b[43mk\u001b[49m\u001b[43m)\u001b[49m\u001b[43m,\u001b[49m\u001b[43m \u001b[49m\u001b[43mmemo\u001b[49m\u001b[38;5;241;43m=\u001b[39;49m\u001b[43mmemo\u001b[49m\u001b[43m)\u001b[49m\n\u001b[1;32m   1372\u001b[0m attrs \u001b[38;5;241m=\u001b[39m copy\u001b[38;5;241m.\u001b[39mdeepcopy(\u001b[38;5;28mself\u001b[39m\u001b[38;5;241m.\u001b[39m_attrs, memo) \u001b[38;5;28;01mif\u001b[39;00m deep \u001b[38;5;28;01melse\u001b[39;00m copy\u001b[38;5;241m.\u001b[39mcopy(\u001b[38;5;28mself\u001b[39m\u001b[38;5;241m.\u001b[39m_attrs)\n\u001b[1;32m   1373\u001b[0m encoding \u001b[38;5;241m=\u001b[39m (\n\u001b[1;32m   1374\u001b[0m     copy\u001b[38;5;241m.\u001b[39mdeepcopy(\u001b[38;5;28mself\u001b[39m\u001b[38;5;241m.\u001b[39m_encoding, memo) \u001b[38;5;28;01mif\u001b[39;00m deep \u001b[38;5;28;01melse\u001b[39;00m copy\u001b[38;5;241m.\u001b[39mcopy(\u001b[38;5;28mself\u001b[39m\u001b[38;5;241m.\u001b[39m_encoding)\n\u001b[1;32m   1375\u001b[0m )\n",
      "File \u001b[0;32m~/anaconda3/envs/pymc_env/lib/python3.11/site-packages/xarray/core/variable.py:947\u001b[0m, in \u001b[0;36mVariable._copy\u001b[0;34m(self, deep, data, memo)\u001b[0m\n\u001b[1;32m    942\u001b[0m encoding \u001b[38;5;241m=\u001b[39m (\n\u001b[1;32m    943\u001b[0m     copy\u001b[38;5;241m.\u001b[39mdeepcopy(\u001b[38;5;28mself\u001b[39m\u001b[38;5;241m.\u001b[39m_encoding, memo) \u001b[38;5;28;01mif\u001b[39;00m deep \u001b[38;5;28;01melse\u001b[39;00m copy\u001b[38;5;241m.\u001b[39mcopy(\u001b[38;5;28mself\u001b[39m\u001b[38;5;241m.\u001b[39m_encoding)\n\u001b[1;32m    944\u001b[0m )\n\u001b[1;32m    946\u001b[0m \u001b[38;5;66;03m# note: dims is already an immutable tuple\u001b[39;00m\n\u001b[0;32m--> 947\u001b[0m \u001b[38;5;28;01mreturn\u001b[39;00m \u001b[38;5;28;43mself\u001b[39;49m\u001b[38;5;241;43m.\u001b[39;49m\u001b[43m_replace\u001b[49m\u001b[43m(\u001b[49m\u001b[43mdata\u001b[49m\u001b[38;5;241;43m=\u001b[39;49m\u001b[43mndata\u001b[49m\u001b[43m,\u001b[49m\u001b[43m \u001b[49m\u001b[43mattrs\u001b[49m\u001b[38;5;241;43m=\u001b[39;49m\u001b[43mattrs\u001b[49m\u001b[43m,\u001b[49m\u001b[43m \u001b[49m\u001b[43mencoding\u001b[49m\u001b[38;5;241;43m=\u001b[39;49m\u001b[43mencoding\u001b[49m\u001b[43m)\u001b[49m\n",
      "File \u001b[0;32m~/anaconda3/envs/pymc_env/lib/python3.11/site-packages/xarray/core/variable.py:965\u001b[0m, in \u001b[0;36mVariable._replace\u001b[0;34m(self, dims, data, attrs, encoding)\u001b[0m\n\u001b[1;32m    963\u001b[0m \u001b[38;5;28;01mif\u001b[39;00m encoding \u001b[38;5;129;01mis\u001b[39;00m _default:\n\u001b[1;32m    964\u001b[0m     encoding \u001b[38;5;241m=\u001b[39m copy\u001b[38;5;241m.\u001b[39mcopy(\u001b[38;5;28mself\u001b[39m\u001b[38;5;241m.\u001b[39m_encoding)\n\u001b[0;32m--> 965\u001b[0m \u001b[38;5;28;01mreturn\u001b[39;00m \u001b[38;5;28;43mtype\u001b[39;49m\u001b[43m(\u001b[49m\u001b[38;5;28;43mself\u001b[39;49m\u001b[43m)\u001b[49m\u001b[43m(\u001b[49m\u001b[43mdims\u001b[49m\u001b[43m,\u001b[49m\u001b[43m \u001b[49m\u001b[43mdata\u001b[49m\u001b[43m,\u001b[49m\u001b[43m \u001b[49m\u001b[43mattrs\u001b[49m\u001b[43m,\u001b[49m\u001b[43m \u001b[49m\u001b[43mencoding\u001b[49m\u001b[43m,\u001b[49m\u001b[43m \u001b[49m\u001b[43mfastpath\u001b[49m\u001b[38;5;241;43m=\u001b[39;49m\u001b[38;5;28;43;01mTrue\u001b[39;49;00m\u001b[43m)\u001b[49m\n",
      "File \u001b[0;32m~/anaconda3/envs/pymc_env/lib/python3.11/site-packages/xarray/core/variable.py:366\u001b[0m, in \u001b[0;36mVariable.__init__\u001b[0;34m(self, dims, data, attrs, encoding, fastpath)\u001b[0m\n\u001b[1;32m    338\u001b[0m \u001b[38;5;28;01mdef\u001b[39;00m \u001b[38;5;21m__init__\u001b[39m(\n\u001b[1;32m    339\u001b[0m     \u001b[38;5;28mself\u001b[39m,\n\u001b[1;32m    340\u001b[0m     dims,\n\u001b[0;32m   (...)\u001b[0m\n\u001b[1;32m    344\u001b[0m     fastpath\u001b[38;5;241m=\u001b[39m\u001b[38;5;28;01mFalse\u001b[39;00m,\n\u001b[1;32m    345\u001b[0m ):\n\u001b[1;32m    346\u001b[0m \u001b[38;5;250m    \u001b[39m\u001b[38;5;124;03m\"\"\"\u001b[39;00m\n\u001b[1;32m    347\u001b[0m \u001b[38;5;124;03m    Parameters\u001b[39;00m\n\u001b[1;32m    348\u001b[0m \u001b[38;5;124;03m    ----------\u001b[39;00m\n\u001b[0;32m   (...)\u001b[0m\n\u001b[1;32m    363\u001b[0m \u001b[38;5;124;03m        unrecognized encoding items.\u001b[39;00m\n\u001b[1;32m    364\u001b[0m \u001b[38;5;124;03m    \"\"\"\u001b[39;00m\n\u001b[1;32m    365\u001b[0m     \u001b[38;5;28msuper\u001b[39m()\u001b[38;5;241m.\u001b[39m\u001b[38;5;21m__init__\u001b[39m(\n\u001b[0;32m--> 366\u001b[0m         dims\u001b[38;5;241m=\u001b[39mdims, data\u001b[38;5;241m=\u001b[39m\u001b[43mas_compatible_data\u001b[49m\u001b[43m(\u001b[49m\u001b[43mdata\u001b[49m\u001b[43m,\u001b[49m\u001b[43m \u001b[49m\u001b[43mfastpath\u001b[49m\u001b[38;5;241;43m=\u001b[39;49m\u001b[43mfastpath\u001b[49m\u001b[43m)\u001b[49m, attrs\u001b[38;5;241m=\u001b[39mattrs\n\u001b[1;32m    367\u001b[0m     )\n\u001b[1;32m    369\u001b[0m     \u001b[38;5;28mself\u001b[39m\u001b[38;5;241m.\u001b[39m_encoding \u001b[38;5;241m=\u001b[39m \u001b[38;5;28;01mNone\u001b[39;00m\n\u001b[1;32m    370\u001b[0m     \u001b[38;5;28;01mif\u001b[39;00m encoding \u001b[38;5;129;01mis\u001b[39;00m \u001b[38;5;129;01mnot\u001b[39;00m \u001b[38;5;28;01mNone\u001b[39;00m:\n",
      "File \u001b[0;32m~/anaconda3/envs/pymc_env/lib/python3.11/site-packages/xarray/core/variable.py:285\u001b[0m, in \u001b[0;36mas_compatible_data\u001b[0;34m(data, fastpath)\u001b[0m\n\u001b[1;32m    282\u001b[0m     \u001b[38;5;28;01mreturn\u001b[39;00m cast(\u001b[38;5;124m\"\u001b[39m\u001b[38;5;124mT_DuckArray\u001b[39m\u001b[38;5;124m\"\u001b[39m, data)\n\u001b[1;32m    284\u001b[0m \u001b[38;5;66;03m# validate whether the data is valid data types.\u001b[39;00m\n\u001b[0;32m--> 285\u001b[0m data \u001b[38;5;241m=\u001b[39m np\u001b[38;5;241m.\u001b[39masarray(data)\n\u001b[1;32m    287\u001b[0m \u001b[38;5;28;01mif\u001b[39;00m \u001b[38;5;28misinstance\u001b[39m(data, np\u001b[38;5;241m.\u001b[39mndarray) \u001b[38;5;129;01mand\u001b[39;00m data\u001b[38;5;241m.\u001b[39mdtype\u001b[38;5;241m.\u001b[39mkind \u001b[38;5;129;01min\u001b[39;00m \u001b[38;5;124m\"\u001b[39m\u001b[38;5;124mOMm\u001b[39m\u001b[38;5;124m\"\u001b[39m:\n\u001b[1;32m    288\u001b[0m     data \u001b[38;5;241m=\u001b[39m _possibly_convert_objects(data)\n",
      "\u001b[0;31mKeyboardInterrupt\u001b[0m: "
     ]
    }
   ],
   "source": [
    "import pymc as pm\n",
    "import numpy as np\n",
    "\n",
    "# Define a function to create a bitvector string from an integer\n",
    "def create_bitvector_string(number):\n",
    "    return f'{number:06b}'\n",
    "\n",
    "# All data preprocessing remains the same\n",
    "token_count = np.array([data.token_count for data in all_data])\n",
    "\n",
    "# Store results\n",
    "bitvector_results = {}\n",
    "for i in range(1):\n",
    "    bitvector = \"1\" + create_bitvector_string(i)\n",
    "    # Filter data for the current bitvector\n",
    "    # Filter data for the current bitvector\n",
    "    filtered_data = [data for data in all_data if data.bitvector == bitvector]\n",
    "    filtered_token_count = np.array([data.token_count for data in filtered_data])\n",
    "    filtered_success_rates = np.array([1 if data.success_count > 0 else 0 for data in filtered_data])\n",
    "    # Check if there are enough data points for the current bitvector\n",
    "    if len(filtered_data) > 0:\n",
    "        with pm.Model() as model:\n",
    "            # Priors\n",
    "            alpha = pm.Normal('alpha', mu=0, sigma=10)\n",
    "            beta = pm.Normal('beta', mu=0, sigma=1)\n",
    "\n",
    "            # Logistic function for probability of success\n",
    "            p = pm.math.sigmoid(alpha + beta * (filtered_token_count / token_count.std()))\n",
    "\n",
    "            # Likelihood\n",
    "            Y_obs = pm.Bernoulli('Y_obs', p=p, observed=filtered_success_rates)\n",
    "\n",
    "            # Sampling\n",
    "            try:\n",
    "                trace = pm.sample(2000, tune=2000, target_accept=0.95)\n",
    "                alpha_mean = trace.posterior[\"alpha\"].mean().values\n",
    "                beta_mean = trace.posterior[\"beta\"].mean().values\n",
    "            except Exception as e:\n",
    "                print(f\"Error during sampling for bitvector {bitvector}: {e}\")\n",
    "                alpha_mean, beta_mean = None, None\n",
    "\n",
    "            bitvector_results[bitvector] = {'alpha': alpha_mean, 'beta': beta_mean}\n",
    "    else:\n",
    "        bitvector_results[bitvector] = {'alpha': None, 'beta': None}"
   ]
  },
  {
   "cell_type": "code",
   "execution_count": null,
   "id": "8a0c42ce-4f45-4313-a63a-590d6684a817",
   "metadata": {},
   "outputs": [],
   "source": [
    "bitvector_results"
   ]
  },
  {
   "cell_type": "code",
   "execution_count": null,
   "id": "327ff079-66d4-4d1a-b2e8-6d22d11c4be8",
   "metadata": {},
   "outputs": [],
   "source": [
    "np.max(betas)"
   ]
  },
  {
   "cell_type": "code",
   "execution_count": null,
   "id": "9b2defef-cd56-4d4a-ace2-c52b63bdbbe2",
   "metadata": {},
   "outputs": [],
   "source": [
    "betas = [bv[\"beta\"] for bv in bitvector_results.values()]"
   ]
  },
  {
   "cell_type": "code",
   "execution_count": null,
   "id": "af8fbb59-104d-4e0b-ac9f-3873826e08cb",
   "metadata": {},
   "outputs": [],
   "source": [
    "np.mean(betas)"
   ]
  },
  {
   "cell_type": "code",
   "execution_count": null,
   "id": "b6ea831d-538b-49ed-bd4c-6848472f74e0",
   "metadata": {},
   "outputs": [],
   "source": [
    "from scipy import stats\n",
    "stats.describe(betas)"
   ]
  },
  {
   "cell_type": "code",
   "execution_count": null,
   "id": "3c7c8062-7c92-4acf-8d37-752892d349bf",
   "metadata": {},
   "outputs": [],
   "source": [
    "sorted(betas)"
   ]
  },
  {
   "cell_type": "code",
   "execution_count": null,
   "id": "057876bf-b5df-447f-a657-2c31e076e1df",
   "metadata": {},
   "outputs": [],
   "source": [
    "# Create a dictionary to accumulate beta values and counts\n",
    "bitcount_betas = defaultdict(list)\n",
    "\n",
    "# Accumulate beta values for each bitcount\n",
    "for bitvector, results in bitvector_results.items():\n",
    "    bitcount = bitvector.count('1') - 1\n",
    "    bitcount_betas[bitcount].append(results['beta'])\n",
    "\n",
    "# Calculate the mean beta for each bitcount\n",
    "bitcount_mean_beta = {bitcount: np.mean(betas) for bitcount, betas in bitcount_betas.items()}\n",
    "\n",
    "# Separate bitcounts and mean beta values for plotting\n",
    "bitcounts, mean_betas = zip(*sorted(bitcount_mean_beta.items()))\n",
    "\n",
    "# Plot using a line plot\n",
    "plt.figure(figsize=(10, 6))\n",
    "plt.plot(bitcounts, mean_betas, color='blue', marker='o')\n",
    "plt.xlabel('Number of Facts used in Prompt')\n",
    "plt.ylabel(r'Average $\\beta_l$')\n",
    "plt.grid(True)\n",
    "plt.savefig(\"beta_bvc.svg\")\n",
    "plt.show()"
   ]
  },
  {
   "cell_type": "code",
   "execution_count": null,
   "id": "6e373ada-0c16-416f-b429-4bbe5722adfd",
   "metadata": {},
   "outputs": [],
   "source": [
    "bit_results_fact = {}\n",
    "for bit_position in range(1, 7):\n",
    "    is_bit_set = np.array([int(data.bitvector[bit_position]) for data in all_data])\n",
    "    filtered_success_rates = np.array([1 if data.success_count > 0 else 0 for data in all_data])\n",
    "\n",
    "    # Check if there are enough data points\n",
    "    if len(filtered_data) > 0:\n",
    "        with pm.Model() as model:\n",
    "            # Priors\n",
    "            alpha = pm.Normal('alpha', mu=0, sigma=10)\n",
    "            beta = pm.Normal('beta', mu=0, sigma=1)\n",
    "\n",
    "            # Logistic function for probability of success\n",
    "            p = pm.math.sigmoid(alpha + beta * is_bit_set)\n",
    "\n",
    "            # Likelihood\n",
    "            Y_obs = pm.Bernoulli('Y_obs', p=p, observed=filtered_success_rates)\n",
    "\n",
    "            # Sampling\n",
    "            try:\n",
    "                trace = pm.sample(2000, tune=2000, target_accept=0.95)\n",
    "                alpha_mean = trace.posterior[\"alpha\"].mean().values\n",
    "                beta_mean = trace.posterior[\"beta\"].mean().values\n",
    "            except Exception as e:\n",
    "                raise e\n",
    "                alpha_mean, beta_mean = None, None\n",
    "\n",
    "            bit_results_fact[bit_position] = {'alpha': alpha_mean, 'beta': beta_mean}\n",
    "    else:\n",
    "        bit_results_fact[bit_position] = {'alpha': None, 'beta': None}\n"
   ]
  },
  {
   "cell_type": "code",
   "execution_count": null,
   "id": "779ec0e2-c6a9-4d87-9edf-205de4fc05f8",
   "metadata": {},
   "outputs": [],
   "source": [
    "bit_results_fact\n"
   ]
  },
  {
   "cell_type": "code",
   "execution_count": null,
   "id": "6d21ef11-898a-4ed2-b45e-50abe8eea22b",
   "metadata": {},
   "outputs": [],
   "source": [
    "# Store results\n",
    "bitvector_results_cyclo = {}\n",
    "for i in range(64):\n",
    "    bitvector = \"1\" + create_bitvector_string(i)\n",
    "    # Filter data for the current bitvector\n",
    "    # Filter data for the current bitvector\n",
    "    filtered_data = [data for data in all_data if data.bitvector == bitvector]\n",
    "    filtered_cyclo = np.array([data.cyclomatic_complexity for data in filtered_data])\n",
    "    filtered_success_rates = np.array([1 if data.success_count > 0 else 0 for data in filtered_data])\n",
    "    # Check if there are enough data points for the current bitvector\n",
    "    if len(filtered_data) > 0:\n",
    "        with pm.Model() as model:\n",
    "            # Priors\n",
    "            alpha = pm.Normal('alpha', mu=0, sigma=10)\n",
    "            beta = pm.Normal('beta', mu=0, sigma=1)\n",
    "\n",
    "            # Logistic function for probability of success\n",
    "            p = pm.math.sigmoid(alpha + beta * (filtered_cyclo / filtered_cyclo.std()))\n",
    "\n",
    "            # Likelihood\n",
    "            Y_obs = pm.Bernoulli('Y_obs', p=p, observed=filtered_success_rates)\n",
    "\n",
    "            # Sampling\n",
    "            try:\n",
    "                trace = pm.sample(2000, tune=2000, target_accept=0.95)\n",
    "                alpha_mean = trace.posterior[\"alpha\"].mean().values\n",
    "                beta_mean = trace.posterior[\"beta\"].mean().values\n",
    "            except Exception as e:\n",
    "                print(f\"Error during sampling for bitvector {bitvector}: {e}\")\n",
    "                alpha_mean, beta_mean = None, None\n",
    "\n",
    "            bitvector_results_cyclo[bitvector] = {'alpha': alpha_mean, 'beta': beta_mean}\n",
    "    else:\n",
    "        bitvector_results_cyclo[bitvector] = {'alpha': None, 'beta': None}"
   ]
  },
  {
   "cell_type": "code",
   "execution_count": null,
   "id": "f5bd5401-6454-4fd5-b594-4a84f9ca2cb2",
   "metadata": {},
   "outputs": [],
   "source": [
    "# Create a dictionary to accumulate beta values and counts\n",
    "bitcount_betas_cyclo = defaultdict(list)\n",
    "\n",
    "# Accumulate beta values for each bitcount\n",
    "for bitvector, results in bitvector_results_cyclo.items():\n",
    "    bitcount = bitvector.count('1') - 1\n",
    "    bitcount_betas_cyclo[bitcount].append(results['beta'])\n",
    "\n",
    "# Calculate the mean beta for each bitcount\n",
    "bitcount_mean_beta = {bitcount: np.mean(betas) for bitcount, betas in bitcount_betas.items()}\n",
    "\n",
    "# Separate bitcounts and mean beta values for plotting\n",
    "bitcounts, mean_betas = zip(*sorted(bitcount_mean_beta.items()))\n",
    "\n",
    "# Plot using a line plot\n",
    "plt.figure(figsize=(10, 6))\n",
    "plt.plot(bitcounts, mean_betas, color='blue', marker='o')\n",
    "plt.xlabel('Number of Facts used in Prompt')\n",
    "plt.ylabel(r'Average $\\beta_c$')\n",
    "plt.grid(True)\n",
    "plt.savefig(\"beta_bvc_cyclo.svg\")\n",
    "plt.show()"
   ]
  },
  {
   "cell_type": "code",
   "execution_count": null,
   "id": "e49ff573-e39c-447b-b06b-55c1bdfdf672",
   "metadata": {},
   "outputs": [],
   "source": [
    "cyclo = np.array([data.cyclomatic_complexity for data in all_data])\n",
    "success_rates = np.array([True if data.success_count > 0 else False for data in all_data])\n",
    "cyclo_success = cyclo[success_rates == 1]\n",
    "cyclo_failure = cyclo[success_rates == 0]\n",
    "\n",
    "# Calculating mean and median for both success and failure cases\n",
    "mean_cyclo_success = np.mean(cyclo_success)\n",
    "median_cyclo_success = np.median(cyclo_success)\n",
    "mean_cyclo_failure = np.mean(cyclo_failure)\n",
    "median_cyclo_failure = np.median(cyclo_failure)\n",
    "\n",
    "mean_cyclo_success, median_cyclo_success, mean_cyclo_failure, median_cyclo_failure"
   ]
  },
  {
   "cell_type": "code",
   "execution_count": null,
   "id": "4e6b3b14-8b60-40f6-b7e6-3ff82a0ebc28",
   "metadata": {},
   "outputs": [],
   "source": [
    "data = pd.DataFrame({\n",
    "    'CyclomaticComplexity': cyclo,\n",
    "    'Success': success_rates,\n",
    "})"
   ]
  },
  {
   "cell_type": "code",
   "execution_count": null,
   "id": "1a6e544f-41be-4dcb-a37b-f8ef99152e1b",
   "metadata": {},
   "outputs": [],
   "source": [
    "sns.boxplot(x='Success', y='CyclomaticComplexity', data=data)\n",
    "plt.savefig(\"box_cyclo.svg\")\n",
    "plt.show()\n"
   ]
  },
  {
   "cell_type": "code",
   "execution_count": null,
   "id": "35756e47-7691-4f5a-917a-bf909754e96e",
   "metadata": {},
   "outputs": [],
   "source": [
    "p_data = create_bug_data_objects_395(facts_location, easy=True)\n",
    "p_data += create_bug_data_objects_395(facts_location_395)\n",
    "\n",
    "prune_data = [data for data in p_data if data.bitvector in [\"1001011\", \"1001111\" \"1111111\", \"1011111\", \"1101111\", \"1011011\", \"1101011\", \"1111011\"]]\n"
   ]
  },
  {
   "cell_type": "code",
   "execution_count": null,
   "id": "8aaa0a33-9a04-4e8d-9ffd-9eb2d1cef3b1",
   "metadata": {},
   "outputs": [],
   "source": [
    "train_and_test_normal(prune_data, include_list, \"rf\")"
   ]
  },
  {
   "cell_type": "code",
   "execution_count": null,
   "id": "8d05d5b4-6e8c-48ef-8a6d-759adcbbdc16",
   "metadata": {},
   "outputs": [],
   "source": [
    "def determine_category(bug_pair):\n",
    "    # Define the order of priority for the bitvectors\n",
    "    bitvectors_priority = [\n",
    "        \"1111111\", \n",
    "        \"1001111\", \n",
    "        \"1101111\",\n",
    "        \"1011111\",\n",
    "        \"1101011\", \n",
    "        \"1011011\", \n",
    "        \"1111011\", \n",
    "        \"1001011\"\n",
    "    ]\n",
    "\n",
    "    # Create a dictionary to map each bitvector to a category\n",
    "    bitvector_to_category = {bv: i for i, bv in enumerate(bitvectors_priority)}\n",
    "\n",
    "    # Check each bug to see if its bitvector was successful\n",
    "    for bug in bug_pair:\n",
    "        if bug.bitvector in bitvector_to_category and bug.success:\n",
    "            return bitvector_to_category[bug.bitvector] # Return the category for the successful bitvector\n",
    "\n",
    "    return 8 # Return None or a specific number if no successful bitvector is found\n",
    "        \n",
    "def train_and_test_hack(all_data, include_list, model):\n",
    "    include_set = set(include_list)\n",
    "    # Create a unique set of bug IDs not in the include_list\n",
    "    unique_bug_ids = set(\n",
    "        bug.bug_id for bug in all_data if bug.bug_id not in include_set\n",
    "    )\n",
    "    include_set = set([bug.bug_id for bug in all_data if bug.bug_id in include_set])\n",
    "    # Calculate the required size of the training set for a 50/50 split\n",
    "    total_unique_ids = len(unique_bug_ids) + len(include_set)\n",
    "    required_train_size = total_unique_ids // 2\n",
    "\n",
    "    additional_ids_needed = required_train_size - len(include_set)\n",
    "\n",
    "    # Split the remaining IDs to fill up the training set\n",
    "    additional_train_ids, test_ids = train_test_split(\n",
    "        sorted(list(unique_bug_ids)), train_size=additional_ids_needed, random_state=42\n",
    "    )\n",
    "    train_ids = set(list(include_set) + additional_train_ids)\n",
    "    # Prepare the data splits\n",
    "    train_data = [bug for bug in all_data if bug.bug_id in train_ids]\n",
    "    test_data = [bug for bug in all_data if bug.bug_id in test_ids]\n",
    "    bug_pairs = {}\n",
    "    for bug in all_data:\n",
    "        if bug.bug_id in bug_pairs:\n",
    "            bug_pairs[bug.bug_id].append(bug)\n",
    "        else:\n",
    "            bug_pairs[bug.bug_id] = [bug]\n",
    "    y = []\n",
    "    y_train = []\n",
    "    y_test = []\n",
    "    visited_id ={}\n",
    "    X_train = [] #[bug.feature_vector for bug in train_data]\n",
    "\n",
    "    X_test = []  #[bug.feature_vector for bug in test_data]\n",
    "    for bug_id, bug_pair in bug_pairs.items():\n",
    "        category = determine_category(bug_pair)\n",
    "        for bug in bug_pair:\n",
    "            if bug.bug_id in train_ids:\n",
    "                y_train.append(category)\n",
    "                X_train.append(bug.feature_vector)\n",
    "            else:\n",
    "                y_test.append(category)\n",
    "                X_test.append(bug.feature_vector)\n",
    "            break\n",
    "\n",
    "    # Assuming train_data is your original training dataset\n",
    "\n",
    "    # Parameter tuning using GridSearchCV\n",
    "    param_grid_rf = {\n",
    "        \"n_estimators\": [5, 10, 15, 20],  # Increased the upper limit for more averaging\n",
    "        \"max_depth\": [5, 10, 20],  # Removed the deepest trees to prevent overfitting\n",
    "        #\"min_samples_split\": [2, 5, 10],  # Uncommented to control the minimum size of a split\n",
    "        #\"min_samples_leaf\": [1, 2, 4],  # Uncommented to control the minimum size of a leaf\n",
    "        \"max_features\": [\"sqrt\", \"log2\", None],  # Added 'None' for using all features\n",
    "        \"bootstrap\": [False],  # True is generally better for Random Forest to ensure diversity\n",
    "        \"criterion\": [\"gini\", \"entropy\"],  # Both criteria are useful\n",
    "        \"max_leaf_nodes\": [5],  # Added to limit the number of leaf nodes\n",
    "    }\n",
    "    # Parameter grid for XGBoost\n",
    "    param_grid_xgb = {\n",
    "        \"n_estimators\": [50, 100, 200],\n",
    "        \"max_depth\": [5, 10, 15, 20],\n",
    "        \"learning_rate\": [0.01, 0.1, 0.2],\n",
    "        \"subsample\": [0.5, 0.7, 1],\n",
    "        \"colsample_bytree\": [0.5, 0.7, 1],\n",
    "    }\n",
    "    if model == \"rf\":\n",
    "        model = RandomForestClassifier(random_state=42, class_weight=\"balanced\")\n",
    "        grid_search = GridSearchCV(model, param_grid_rf, cv=5, verbose=3, n_jobs=-1)\n",
    "        grid_search.fit(X_train, y_train)\n",
    "    elif model == \"xgb\":\n",
    "        model_xgb = XGBClassifier(\n",
    "            random_state=42, use_label_encoder=False, eval_metric=\"logloss\"\n",
    "        )\n",
    "        grid_search = GridSearchCV(\n",
    "            model_xgb, param_grid_xgb, cv=5, verbose=3, n_jobs=-1\n",
    "        )\n",
    "        grid_search.fit(X_train, y_train)\n",
    "\n",
    "    # Use the best estimator to train the model\n",
    "    best_model = grid_search.best_estimator_\n",
    "\n",
    "    # Assuming 'model' is your trained RandomForestClassifier or RandomForestRegressor instance\n",
    "    importances = best_model.feature_importances_\n",
    "\n",
    "    # To make it easier to interpret, you can sort the features by importance\n",
    "    indices = np.argsort(importances)[::-1]\n",
    "\n",
    "    # Print the feature rankings\n",
    "    print(\"Feature ranking:\")\n",
    "\n",
    "    for f in range(len(X_train[0])):  # Assuming X_train is your training feature set\n",
    "        print(f\"{f + 1}. feature {indices[f]} ({importances[indices[f]]})\")\n",
    "\n",
    "    estimate_fix_rate(best_model, test_data)\n",
    "    estimate_fix_rate(best_model, train_data)\n",
    "    estimate_fix_rate(best_model, test_data + train_data)\n",
    "bitvectors_priority = [\n",
    "    \"1111111\", \n",
    "    \"1001111\", \n",
    "    \"1101111\",\n",
    "    \"1011111\",\n",
    "    \"1101011\", \n",
    "    \"1011011\", \n",
    "    \"1111011\", \n",
    "    \"1001011\"\n",
    "]\n",
    "\n",
    "def estimate_fix_rate(model, test_data):\n",
    "    test_groups = {}\n",
    "    for bug in test_data:\n",
    "        if bug.bug_id not in test_groups:\n",
    "            test_groups[bug.bug_id] = []\n",
    "        test_groups[bug.bug_id].append(bug)\n",
    "\n",
    "    fixed_bugs_count = 0\n",
    "    total_bugs_count = 0\n",
    "    optimal = 0\n",
    "    for bug_id, bugs in test_groups.items():\n",
    "        total_bugs_count += 1  # Increment total bug count\n",
    "        \n",
    "        # Get predictions for each bug feature vector to see if setting the 4th bit leads to success or failure\n",
    "        prediction = model.predict([bugs[0].feature_vector])[0]\n",
    "        if prediction == 8:\n",
    "            bug = [bug for bug in bugs if bug.bitvector == \"1001011\"][0]\n",
    "        else:\n",
    "            bug = [bug for bug in bugs if bug.bitvector == bitvectors_priority[prediction]][0]\n",
    "        if bug.success:\n",
    "            fixed_bugs_count += 1\n",
    "        if any([bug.success for bug in bugs]):\n",
    "            optimal += 1\n",
    "        \"\"\"\n",
    "        set_bug = [bug for bug in bugs if bug.bitvector[4]==\"1\"][0]\n",
    "        unset_bug = [bug for bug in bugs if bug.bitvector[4]==\"0\"][0]\n",
    "        if set_bug.success or unset_bug.success:\n",
    "            optimal += 1\n",
    "        if prediction in [0, 2, 3] and unset_bug.success:  \n",
    "            fixed_bugs_count += 1\n",
    "        elif prediction in [1] and set_bug.success:\n",
    "            fixed_bugs_count += 1\n",
    "        \"\"\"\n",
    "    print(f\"Optimal: {optimal}\")\n",
    "    # Calculate the fix rate\n",
    "    fix_rate = fixed_bugs_count / total_bugs_count if total_bugs_count > 0 else 0\n",
    "\n",
    "    # Print the results\n",
    "    print(f\"Fixed Bugs: {fixed_bugs_count}, Total Bugs: {total_bugs_count}, {fix_rate}\")"
   ]
  },
  {
   "cell_type": "code",
   "execution_count": null,
   "id": "111bd505-7aec-4b12-814a-508c26bc9133",
   "metadata": {},
   "outputs": [],
   "source": [
    "train_and_test_hack(prune_data, include_list, \"rf\")"
   ]
  },
  {
   "cell_type": "code",
   "execution_count": 103,
   "id": "3be69d8e-7f24-43e1-9590-e7d935211d4c",
   "metadata": {},
   "outputs": [
    {
     "data": {
      "text/plain": [
       "20160"
      ]
     },
     "execution_count": 103,
     "metadata": {},
     "output_type": "execute_result"
    }
   ],
   "source": [
    "len(all_data)"
   ]
  },
  {
   "cell_type": "code",
   "execution_count": 104,
   "id": "991df19b-33e3-4c35-a760-27bf76b48172",
   "metadata": {},
   "outputs": [
    {
     "data": {
      "text/plain": [
       "315"
      ]
     },
     "execution_count": 104,
     "metadata": {},
     "output_type": "execute_result"
    }
   ],
   "source": [
    "len(set([data.bug_id for data in all_data]))"
   ]
  },
  {
   "cell_type": "code",
   "execution_count": 105,
   "id": "de64a93f-d200-4c03-8c4b-804ec0f10404",
   "metadata": {},
   "outputs": [
    {
     "data": {
      "text/plain": [
       "4639"
      ]
     },
     "execution_count": 105,
     "metadata": {},
     "output_type": "execute_result"
    }
   ],
   "source": [
    "sum([data.success for data in all_data])"
   ]
  },
  {
   "cell_type": "code",
   "execution_count": 106,
   "id": "c1b3c813-47ac-4edd-9335-bf105d65fa50",
   "metadata": {},
   "outputs": [
    {
     "data": {
      "text/plain": [
       "2652"
      ]
     },
     "execution_count": 106,
     "metadata": {},
     "output_type": "execute_result"
    }
   ],
   "source": [
    "sum([data.success for data in all_data if data.bitvector[6]==\"1\"])"
   ]
  },
  {
   "cell_type": "code",
   "execution_count": 107,
   "id": "ea675527-f92a-4b79-8e13-1773acc532bb",
   "metadata": {},
   "outputs": [
    {
     "data": {
      "text/plain": [
       "1987"
      ]
     },
     "execution_count": 107,
     "metadata": {},
     "output_type": "execute_result"
    }
   ],
   "source": [
    "sum([data.success for data in all_data if data.bitvector[6]==\"0\"])"
   ]
  },
  {
   "cell_type": "code",
   "execution_count": 108,
   "id": "69e060af-5650-44fc-96c1-8d046f985f49",
   "metadata": {},
   "outputs": [
    {
     "ename": "IndexError",
     "evalue": "string index out of range",
     "output_type": "error",
     "traceback": [
      "\u001b[0;31m---------------------------------------------------------------------------\u001b[0m",
      "\u001b[0;31mIndexError\u001b[0m                                Traceback (most recent call last)",
      "Cell \u001b[0;32mIn[108], line 1\u001b[0m\n\u001b[0;32m----> 1\u001b[0m \u001b[38;5;28msum\u001b[39m(\u001b[43m[\u001b[49m\u001b[43mdata\u001b[49m\u001b[38;5;241;43m.\u001b[39;49m\u001b[43msuccess\u001b[49m\u001b[43m \u001b[49m\u001b[38;5;28;43;01mfor\u001b[39;49;00m\u001b[43m \u001b[49m\u001b[43mdata\u001b[49m\u001b[43m \u001b[49m\u001b[38;5;129;43;01min\u001b[39;49;00m\u001b[43m \u001b[49m\u001b[43mall_data\u001b[49m\u001b[43m \u001b[49m\u001b[38;5;28;43;01mif\u001b[39;49;00m\u001b[43m \u001b[49m\u001b[43mdata\u001b[49m\u001b[38;5;241;43m.\u001b[39;49m\u001b[43mbitvector\u001b[49m\u001b[43m[\u001b[49m\u001b[38;5;241;43m7\u001b[39;49m\u001b[43m]\u001b[49m\u001b[38;5;241;43m==\u001b[39;49m\u001b[38;5;124;43m\"\u001b[39;49m\u001b[38;5;124;43m1\u001b[39;49m\u001b[38;5;124;43m\"\u001b[39;49m\u001b[43m]\u001b[49m)\n",
      "Cell \u001b[0;32mIn[108], line 1\u001b[0m, in \u001b[0;36m<listcomp>\u001b[0;34m(.0)\u001b[0m\n\u001b[0;32m----> 1\u001b[0m \u001b[38;5;28msum\u001b[39m([data\u001b[38;5;241m.\u001b[39msuccess \u001b[38;5;28;01mfor\u001b[39;00m data \u001b[38;5;129;01min\u001b[39;00m all_data \u001b[38;5;28;01mif\u001b[39;00m \u001b[43mdata\u001b[49m\u001b[38;5;241;43m.\u001b[39;49m\u001b[43mbitvector\u001b[49m\u001b[43m[\u001b[49m\u001b[38;5;241;43m7\u001b[39;49m\u001b[43m]\u001b[49m\u001b[38;5;241m==\u001b[39m\u001b[38;5;124m\"\u001b[39m\u001b[38;5;124m1\u001b[39m\u001b[38;5;124m\"\u001b[39m])\n",
      "\u001b[0;31mIndexError\u001b[0m: string index out of range"
     ]
    }
   ],
   "source": [
    "sum([data.success for data in all_data if data.bitvector[7]==\"1\"])"
   ]
  },
  {
   "cell_type": "code",
   "execution_count": 109,
   "id": "f6f34a70-f6b5-4c08-aa08-2882f8efad77",
   "metadata": {},
   "outputs": [
    {
     "data": {
      "text/plain": [
       "2652"
      ]
     },
     "execution_count": 109,
     "metadata": {},
     "output_type": "execute_result"
    }
   ],
   "source": [
    "sum([data.success for data in all_data if data.bitvector[6]==\"1\"])"
   ]
  },
  {
   "cell_type": "code",
   "execution_count": 110,
   "id": "bff05fe0-524d-42c4-945d-cf7d1a613118",
   "metadata": {},
   "outputs": [
    {
     "data": {
      "text/plain": [
       "2697"
      ]
     },
     "execution_count": 110,
     "metadata": {},
     "output_type": "execute_result"
    }
   ],
   "source": [
    "sum([data.success for data in all_data if data.bitvector[5]==\"1\"])"
   ]
  },
  {
   "cell_type": "code",
   "execution_count": 111,
   "id": "5c461251-0f67-4cfb-98ec-710910557bce",
   "metadata": {},
   "outputs": [
    {
     "data": {
      "text/plain": [
       "2438"
      ]
     },
     "execution_count": 111,
     "metadata": {},
     "output_type": "execute_result"
    }
   ],
   "source": [
    "sum([data.success for data in all_data if data.bitvector[4]==\"1\"])"
   ]
  },
  {
   "cell_type": "code",
   "execution_count": 112,
   "id": "2033c8ff-aee6-41ce-a1a4-ec28c6fb206d",
   "metadata": {},
   "outputs": [
    {
     "data": {
      "text/plain": [
       "2903"
      ]
     },
     "execution_count": 112,
     "metadata": {},
     "output_type": "execute_result"
    }
   ],
   "source": [
    "sum([data.success for data in all_data if data.bitvector[3]==\"1\"])"
   ]
  },
  {
   "cell_type": "code",
   "execution_count": 113,
   "id": "fac45018-8345-433b-96a2-da7215beb079",
   "metadata": {},
   "outputs": [
    {
     "data": {
      "text/plain": [
       "2311"
      ]
     },
     "execution_count": 113,
     "metadata": {},
     "output_type": "execute_result"
    }
   ],
   "source": [
    "sum([data.success for data in all_data if data.bitvector[2]==\"1\"])"
   ]
  },
  {
   "cell_type": "code",
   "execution_count": 114,
   "id": "1ac92cd1-2050-43c7-a905-471d5cdb398a",
   "metadata": {},
   "outputs": [
    {
     "data": {
      "text/plain": [
       "2321"
      ]
     },
     "execution_count": 114,
     "metadata": {},
     "output_type": "execute_result"
    }
   ],
   "source": [
    "sum([data.success for data in all_data if data.bitvector[1]==\"1\"])"
   ]
  },
  {
   "cell_type": "code",
   "execution_count": 115,
   "id": "b3b16242-616b-4132-ab64-c923b631129e",
   "metadata": {},
   "outputs": [
    {
     "data": {
      "text/plain": [
       "4639"
      ]
     },
     "execution_count": 115,
     "metadata": {},
     "output_type": "execute_result"
    }
   ],
   "source": [
    "sum([data.success for data in all_data if data.bitvector[0]==\"1\"])"
   ]
  },
  {
   "cell_type": "code",
   "execution_count": 116,
   "id": "b32be8cf-5826-4610-b33e-650baa3ae91f",
   "metadata": {},
   "outputs": [
    {
     "data": {
      "text/plain": [
       "1987"
      ]
     },
     "execution_count": 116,
     "metadata": {},
     "output_type": "execute_result"
    }
   ],
   "source": [
    "sum([data.success for data in all_data if data.bitvector[6]==\"0\"])"
   ]
  },
  {
   "cell_type": "code",
   "execution_count": 117,
   "id": "6b525061-a4f3-4f9b-a3e1-d6e98be61d5e",
   "metadata": {},
   "outputs": [
    {
     "data": {
      "text/plain": [
       "2652"
      ]
     },
     "execution_count": 117,
     "metadata": {},
     "output_type": "execute_result"
    }
   ],
   "source": [
    "sum([data.success for data in all_data if data.bitvector[6]==\"1\"])"
   ]
  },
  {
   "cell_type": "code",
   "execution_count": null,
   "id": "f387f0f5-1dcd-470e-b5da-6e710228b492",
   "metadata": {},
   "outputs": [],
   "source": []
  }
 ],
 "metadata": {
  "kernelspec": {
   "display_name": "Python 3 (ipykernel)",
   "language": "python",
   "name": "python3"
  },
  "language_info": {
   "codemirror_mode": {
    "name": "ipython",
    "version": 3
   },
   "file_extension": ".py",
   "mimetype": "text/x-python",
   "name": "python",
   "nbconvert_exporter": "python",
   "pygments_lexer": "ipython3",
   "version": "3.11.7"
  }
 },
 "nbformat": 4,
 "nbformat_minor": 5
}
